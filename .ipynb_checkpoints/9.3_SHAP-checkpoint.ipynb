{
 "cells": [
  {
   "cell_type": "markdown",
   "metadata": {
    "_uuid": "51b9b35792a863134d05653832ddcfc9b9fc5d55"
   },
   "source": [
    "# Census income classification with Keras\n",
    "\n",
    "To download a copy of this notebook visit [github](https://github.com/slundberg/shap/tree/master/notebooks)."
   ]
  },
  {
   "cell_type": "code",
   "execution_count": null,
   "metadata": {
    "_uuid": "6348460e1429f5690a9a674bb424d0e3222c2180"
   },
   "outputs": [],
   "source": [
    "from sklearn.model_selection import train_test_split\n",
    "from keras.layers import Input, Dense, Flatten, Concatenate, concatenate, Dropout, Lambda\n",
    "from keras.models import Model\n",
    "from keras.layers.embeddings import Embedding\n",
    "from tqdm import tqdm\n",
    "import shap\n",
    "\n",
    "# print the JS visualization code to the notebook\n",
    "shap.initjs()"
   ]
  },
  {
   "cell_type": "markdown",
   "metadata": {
    "_uuid": "b0341c8c8a042cfdb8025a6cf3085680a5f29bb8"
   },
   "source": [
    "## Load dataset"
   ]
  },
  {
   "cell_type": "code",
   "execution_count": null,
   "metadata": {
    "_uuid": "a2dfb6995f1861cb752180e0c0510f2a850f0077"
   },
   "outputs": [],
   "source": [
    "import pandas as pd"
   ]
  },
  {
   "cell_type": "code",
   "execution_count": null,
   "metadata": {
    "_uuid": "ea7795557158ad2e532c37ea1be9ac63c6a6922d"
   },
   "outputs": [],
   "source": [
    "df = pd.read_csv('../input/adult.csv')"
   ]
  },
  {
   "cell_type": "code",
   "execution_count": null,
   "metadata": {
    "_uuid": "2e19963a553fbd4999320513c7692300cb82f458"
   },
   "outputs": [],
   "source": [
    "df.head()"
   ]
  },
  {
   "cell_type": "code",
   "execution_count": null,
   "metadata": {
    "_uuid": "0bbc6f358f02f1532e5f51948c7a17acc5a867a3"
   },
   "outputs": [],
   "source": [
    "df.dtypes"
   ]
  },
  {
   "cell_type": "code",
   "execution_count": null,
   "metadata": {
    "_uuid": "b0337930f39dcc955467584298d284c9d372f627"
   },
   "outputs": [],
   "source": [
    "X_display = df.drop('income',axis=1)\n",
    "y_display = df['income']"
   ]
  },
  {
   "cell_type": "code",
   "execution_count": null,
   "metadata": {
    "_uuid": "63d119fdcc100b22fef39e98ca4493b14c5c52b8"
   },
   "outputs": [],
   "source": [
    "int_columns = df.select_dtypes(['int64']).columns\n",
    "df[int_columns] = df[int_columns].astype('float32')\n",
    "\n",
    "cat_columns = df.select_dtypes(['object']).columns\n",
    "df[cat_columns] = df[cat_columns].astype('category')\n",
    "df[cat_columns] = df[cat_columns].apply(lambda x: x.cat.codes)"
   ]
  },
  {
   "cell_type": "code",
   "execution_count": null,
   "metadata": {
    "_uuid": "1daf6acd6e8e7e9d3eb751472475934a3f99ee90"
   },
   "outputs": [],
   "source": [
    "X = df.drop('income',axis=1)\n",
    "y = df['income']"
   ]
  },
  {
   "cell_type": "code",
   "execution_count": null,
   "metadata": {
    "_uuid": "1c51d6e50a753206296a2660ffc14f4f4817c4fd"
   },
   "outputs": [],
   "source": [
    "#X,y = shap.datasets.adult()\n",
    "#X_display,y_display = shap.datasets.adult(display=True)\n",
    "\n",
    "# normalize data (this is important for model convergence)\n",
    "dtypes = list(zip(X.dtypes.index, map(str, X.dtypes)))\n",
    "for k,dtype in dtypes:\n",
    "    if dtype == \"float32\":\n",
    "        X[k] -= X[k].mean()\n",
    "        X[k] /= X[k].std()\n",
    "\n",
    "X_train, X_valid, y_train, y_valid = train_test_split(X, y, test_size=0.2, random_state=7)"
   ]
  },
  {
   "cell_type": "code",
   "execution_count": null,
   "metadata": {
    "_uuid": "33985f54eb3c6b51b856319b23e994bdfe65b9e0"
   },
   "outputs": [],
   "source": [
    "X.head()"
   ]
  },
  {
   "cell_type": "markdown",
   "metadata": {
    "_uuid": "306fd19253fc1d632983032997cbc1912b56f1ec"
   },
   "source": [
    "## Train Keras model"
   ]
  },
  {
   "cell_type": "code",
   "execution_count": null,
   "metadata": {
    "_uuid": "87f3b8d1dec4511815b14254e653128cdc251d2f",
    "scrolled": true
   },
   "outputs": [],
   "source": [
    "# build model\n",
    "input_els = []\n",
    "encoded_els = []\n",
    "for k,dtype in dtypes:\n",
    "    input_els.append(Input(shape=(1,)))\n",
    "    if dtype == \"int8\":\n",
    "        e = Flatten()(Embedding(X_train[k].max()+1, 1)(input_els[-1]))\n",
    "    else:\n",
    "        e = input_els[-1]\n",
    "    encoded_els.append(e)\n",
    "encoded_els = concatenate(encoded_els)\n",
    "layer1 = Dropout(0.5)(Dense(100, activation=\"relu\")(encoded_els))\n",
    "out = Dense(1)(layer1)\n",
    "\n",
    "# train model\n",
    "regression = Model(inputs=input_els, outputs=[out])\n",
    "regression.compile(optimizer=\"adam\", loss='binary_crossentropy')\n",
    "regression.fit(\n",
    "    [X_train[k].values for k,t in dtypes],\n",
    "    y_train,\n",
    "    epochs=50,\n",
    "    batch_size=512,\n",
    "    shuffle=True,\n",
    "    validation_data=([X_valid[k].values for k,t in dtypes], y_valid)\n",
    ")"
   ]
  },
  {
   "cell_type": "markdown",
   "metadata": {
    "_uuid": "0b40c91ff32d2827687563dc4acf4dbac96632ec"
   },
   "source": [
    "## Explain predictions\n",
    "\n",
    "Here we take the Keras model trained above and explain why it makes different predictions for different individuals. SHAP expects model functions to take a 2D numpy array as input, so we define a wrapper function around the original Keras predict function."
   ]
  },
  {
   "cell_type": "code",
   "execution_count": null,
   "metadata": {
    "_uuid": "e34ed91bdcff6a302d6bd63e25865562b5312c3b"
   },
   "outputs": [],
   "source": [
    "def f(X):\n",
    "    return regression.predict([X[:,i] for i in range(X.shape[1])]).flatten()"
   ]
  },
  {
   "cell_type": "markdown",
   "metadata": {
    "_uuid": "294a0b684b28ac377ea5149261e304a66653c91b"
   },
   "source": [
    "### Explain a single prediction\n",
    "\n",
    "Here we use a selection of 50 samples from the dataset to represent \"typical\" feature values, and then use 500 perterbation samples to estimate the SHAP values for a given prediction. Note that this requires 500 * 50 evaluations of the model."
   ]
  },
  {
   "cell_type": "code",
   "execution_count": null,
   "metadata": {
    "_uuid": "9a064f9e15039c5701e70c91a6d660338d1dd037"
   },
   "outputs": [],
   "source": [
    "explainer = shap.KernelExplainer(f, X.iloc[:100,:])\n",
    "shap_values = explainer.shap_values(X.iloc[350,:], nsamples=500)\n",
    "shap.force_plot(shap_values, X_display.iloc[350,:])"
   ]
  },
  {
   "cell_type": "code",
   "execution_count": null,
   "metadata": {
    "_uuid": "1fda8fb62140b0cf9364db4effbe65553c2450ea"
   },
   "outputs": [],
   "source": [
    "shap_values = explainer.shap_values(X.iloc[167,:], nsamples=500)\n",
    "shap.force_plot(shap_values, X_display.iloc[167,:])"
   ]
  },
  {
   "cell_type": "markdown",
   "metadata": {
    "_uuid": "655321b925d8c4f728552145a026d4b380c3b88a"
   },
   "source": [
    "### Explain many predictions\n",
    "\n",
    "Here we repeat the above explanation process for 50 individuals. Since we are using a sampling based approximation each explanation can take a couple seconds depending on your machine setup."
   ]
  },
  {
   "cell_type": "code",
   "execution_count": null,
   "metadata": {
    "_uuid": "b7a22507b6192e8b57e414711fdd66bdcf07fd0c"
   },
   "outputs": [],
   "source": [
    "shap_values = explainer.shap_values(X.iloc[100:330,:], nsamples=500)"
   ]
  },
  {
   "cell_type": "code",
   "execution_count": null,
   "metadata": {
    "_uuid": "a1bd82f19f873a46faf276d4cfaf2324ae8d275b"
   },
   "outputs": [],
   "source": [
    "shap.force_plot(shap_values, X_display.iloc[100:330,:])"
   ]
  },
  {
   "cell_type": "code",
   "execution_count": null,
   "metadata": {
    "_uuid": "7835b6813b830531c6ef075d5a8fabe4650bf4ba"
   },
   "outputs": [],
   "source": [
    "shap.summary_plot(shap_values50, X.iloc[100:330,:])"
   ]
  },
  {
   "cell_type": "code",
   "execution_count": null,
   "metadata": {
    "_uuid": "9e8c0b215a7420d5cc19a66be46657f1664a9250"
   },
   "outputs": [],
   "source": [
    "shap.dependence_plot(\"marital.status\", \n",
    "                     shap_values, \n",
    "                     X.iloc[100:330,:], \n",
    "                     display_features=X_display.iloc[100:330,:])"
   ]
  },
  {
   "cell_type": "code",
   "execution_count": null,
   "metadata": {
    "_uuid": "0c69511164b8753e8cb5e34c7dcbd9d23c246e4d"
   },
   "outputs": [],
   "source": []
  }
 ],
 "metadata": {
  "anaconda-cloud": {},
  "kernelspec": {
   "display_name": "Python 3",
   "language": "python",
   "name": "python3"
  },
  "language_info": {
   "codemirror_mode": {
    "name": "ipython",
    "version": 3
   },
   "file_extension": ".py",
   "mimetype": "text/x-python",
   "name": "python",
   "nbconvert_exporter": "python",
   "pygments_lexer": "ipython3",
   "version": "3.7.3"
  }
 },
 "nbformat": 4,
 "nbformat_minor": 1
}
