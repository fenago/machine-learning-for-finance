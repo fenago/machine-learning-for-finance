{
 "cells": [
  {
   "cell_type": "code",
   "execution_count": null,
   "metadata": {},
   "outputs": [],
   "source": [
    "import numpy as np\n",
    "import matplotlib.pyplot as plt\n",
    "% matplotlib inline\n",
    "from joblib import Parallel, delayed"
   ]
  },
  {
   "cell_type": "code",
   "execution_count": null,
   "metadata": {},
   "outputs": [],
   "source": [
    "def run_sim(x):\n",
    "    truth = np.random.uniform(size=100) < x\n",
    "    first_random = np.random.randint(2,size=100)\n",
    "    second_random = np.random.randint(2,size=100)\n",
    "    res = np.sum(first_random*truth + (1-first_random)*second_random)/100\n",
    "    return res"
   ]
  },
  {
   "cell_type": "code",
   "execution_count": null,
   "metadata": {},
   "outputs": [],
   "source": [
    "def sample(data = 0.54):\n",
    "    x = np.random.uniform()\n",
    "    if run_sim(x) == data:\n",
    "        return x"
   ]
  },
  {
   "cell_type": "code",
   "execution_count": null,
   "metadata": {},
   "outputs": [],
   "source": [
    "t = Parallel(n_jobs=-1)(delayed(sample)() for i in range(100000))\n",
    "t = np.array(t,dtype=float)\n",
    "share = np.sum(np.isnan(t))/len(t)*100\n",
    "print(f'{share:.2f}% are throwaways')"
   ]
  },
  {
   "cell_type": "code",
   "execution_count": null,
   "metadata": {},
   "outputs": [],
   "source": [
    "t_flat = t[~np.isnan(t)]"
   ]
  },
  {
   "cell_type": "code",
   "execution_count": null,
   "metadata": {},
   "outputs": [],
   "source": [
    "plt.hist(t_flat, bins=30,density=True)\n",
    "plt.title('Distribution of possible TPPs')\n",
    "plt.xlim(0,1);"
   ]
  },
  {
   "cell_type": "code",
   "execution_count": null,
   "metadata": {},
   "outputs": [],
   "source": [
    "def sample(data = 0.54):\n",
    "    x = np.random.uniform(low=0,high=0.5)\n",
    "    if run_sim(x) == data:\n",
    "        return x"
   ]
  },
  {
   "cell_type": "markdown",
   "metadata": {},
   "source": [
    "Now you can run the simulations exactly as before."
   ]
  },
  {
   "cell_type": "code",
   "execution_count": null,
   "metadata": {},
   "outputs": [],
   "source": [
    "t = Parallel(n_jobs=-1)(delayed(sample)() for i in range(100000))\n",
    "t = np.array(t,dtype=float)"
   ]
  },
  {
   "cell_type": "code",
   "execution_count": null,
   "metadata": {},
   "outputs": [],
   "source": [
    "# Optional\n",
    "share = np.sum(np.isnan(t))/len(t)*100\n",
    "print(f'{share:.2f}% are throwaways')"
   ]
  },
  {
   "cell_type": "code",
   "execution_count": null,
   "metadata": {},
   "outputs": [],
   "source": [
    "t_cut = t[~np.isnan(t)]"
   ]
  },
  {
   "cell_type": "code",
   "execution_count": null,
   "metadata": {},
   "outputs": [],
   "source": [
    "plt.hist(t_cut, bins=15,density=True)\n",
    "plt.title('Distribution of possible TPPs')\n",
    "plt.xlim(0,1);"
   ]
  },
  {
   "cell_type": "code",
   "execution_count": null,
   "metadata": {},
   "outputs": [],
   "source": [
    "flat_prior = np.random.uniform(size=1000000)\n",
    "plt.hist(flat_prior,bins=10,density=True, label='Prior')\n",
    "plt.hist(t_flat, bins=30,density=True, label='Posterior')\n",
    "plt.title('Distribution of $x$ with no assumptions')\n",
    "plt.legend()\n",
    "plt.xlim(0,1);"
   ]
  },
  {
   "cell_type": "code",
   "execution_count": null,
   "metadata": {},
   "outputs": [],
   "source": [
    "cut_prior = np.random.uniform(low=0,high=0.5,size=1000000)\n",
    "plt.hist(cut_prior,bins=10,density=True, label='Prior')\n",
    "plt.hist(t_cut, bins=15,density=True, label='Posterior')\n",
    "plt.title('Distribution of $x$ assuming TPP <50%')\n",
    "plt.legend()\n",
    "plt.xlim(0,1);"
   ]
  }
 ],
 "metadata": {
  "kernelspec": {
   "display_name": "Python 3",
   "language": "python",
   "name": "python3"
  },
  "language_info": {
   "codemirror_mode": {
    "name": "ipython",
    "version": 3
   },
   "file_extension": ".py",
   "mimetype": "text/x-python",
   "name": "python",
   "nbconvert_exporter": "python",
   "pygments_lexer": "ipython3",
   "version": "3.7.3"
  }
 },
 "nbformat": 4,
 "nbformat_minor": 2
}
