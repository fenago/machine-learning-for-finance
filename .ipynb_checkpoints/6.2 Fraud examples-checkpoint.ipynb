{
 "cells": [
  {
   "cell_type": "code",
   "execution_count": null,
   "metadata": {
    "_cell_guid": "b1076dfc-b9ad-4769-8c92-a6c4dae69d19",
    "_uuid": "8f2839f25d086af736a60e9eeb907d3b93b6e0e5"
   },
   "outputs": [],
   "source": [
    "# This Python 3 environment comes with many helpful analytics libraries installed\n",
    "# It is defined by the kaggle/python docker image: https://github.com/kaggle/docker-python\n",
    "# For example, here's several helpful packages to load in \n",
    "\n",
    "import numpy as np # linear algebra\n",
    "import pandas as pd # data processing, CSV file I/O (e.g. pd.read_csv)\n",
    "\n",
    "# Input data files are available in the \"../input/\" directory.\n",
    "# For example, running this (by clicking run or pressing Shift+Enter) will list the files in the input directory\n",
    "\n",
    "import os\n",
    "print(os.listdir(\"../input\"))\n",
    "\n",
    "# Any results you write to the current directory are saved as output."
   ]
  },
  {
   "cell_type": "code",
   "execution_count": null,
   "metadata": {
    "_cell_guid": "1fa9c421-e3e1-4a2c-978f-28f78e01ab34",
    "_uuid": "04bcbe2c5f6b3f74f6f8732c41e8e8e15654d311"
   },
   "outputs": [],
   "source": [
    "from numpy.random import seed\n",
    "seed(1)\n",
    "from tensorflow import set_random_seed\n",
    "set_random_seed(2)"
   ]
  },
  {
   "cell_type": "code",
   "execution_count": null,
   "metadata": {
    "_cell_guid": "79c7e3d0-c299-4dcb-8224-4455121ee9b0",
    "_uuid": "d629ff2d2480ee46fbb7e2d37f6b5fab8052498a"
   },
   "outputs": [],
   "source": [
    "df = pd.read_csv('../input/creditcard.csv')"
   ]
  },
  {
   "cell_type": "code",
   "execution_count": null,
   "metadata": {
    "_cell_guid": "ad3d861f-12e4-49ca-a221-6d8bd6be6f8a",
    "_uuid": "24bc772bdd624e7d844b74020e273ffe3def4246"
   },
   "outputs": [],
   "source": [
    "df.head()"
   ]
  },
  {
   "cell_type": "code",
   "execution_count": null,
   "metadata": {
    "_cell_guid": "ac5f5f90-1607-4c5e-b0e7-845c724c7521",
    "_uuid": "7f9f454f8341834b0c6ab1a3de99b2577dcd7dd0"
   },
   "outputs": [],
   "source": [
    "df.describe()"
   ]
  },
  {
   "cell_type": "code",
   "execution_count": null,
   "metadata": {
    "_cell_guid": "8f0c6894-0f3c-4f1a-9b2e-5155cc434ab8",
    "_uuid": "ae27e9aac252b8abebe73a7f152e8285f6ae6671"
   },
   "outputs": [],
   "source": [
    "df.isnull().sum()"
   ]
  },
  {
   "cell_type": "code",
   "execution_count": null,
   "metadata": {
    "_cell_guid": "40293e6e-ec35-4847-90f1-1e6e89f70b91",
    "_uuid": "7ba46b55bc860137cbde1b97572a918dec5970d3"
   },
   "outputs": [],
   "source": [
    "df = df.drop('Time',axis=1)"
   ]
  },
  {
   "cell_type": "code",
   "execution_count": null,
   "metadata": {
    "_cell_guid": "25ea497f-93a3-4818-b1e5-a40c9ae9b81d",
    "_uuid": "8ab18d55eacc48d3f578c2c1977a789f9b95e03e"
   },
   "outputs": [],
   "source": [
    "X = df.drop('Class',axis=1).values \n",
    "y = df['Class'].values"
   ]
  },
  {
   "cell_type": "code",
   "execution_count": null,
   "metadata": {
    "_cell_guid": "c4737b0e-f780-45b4-b1cc-c0bd1d419b41",
    "_uuid": "4e153e0a8bbd54231af019089db7ceac7d4a3ab2"
   },
   "outputs": [],
   "source": [
    "X.shape"
   ]
  },
  {
   "cell_type": "code",
   "execution_count": null,
   "metadata": {
    "_cell_guid": "5788dbeb-8aa2-42a5-99af-b4e367de3808",
    "_uuid": "66ce9da4edfea3e8b6619d5f543b365899a59a5e"
   },
   "outputs": [],
   "source": [
    "X -= X.min(axis=0)\n",
    "X /= X.max(axis=0)"
   ]
  },
  {
   "cell_type": "code",
   "execution_count": null,
   "metadata": {
    "_cell_guid": "57b2f8a6-9c45-4f60-a0ff-8aef07b2f484",
    "_uuid": "c36820c67500d54458d9b22ebc2293f2e8ccf99f"
   },
   "outputs": [],
   "source": [
    "X.mean()"
   ]
  },
  {
   "cell_type": "code",
   "execution_count": null,
   "metadata": {
    "_cell_guid": "f79cfb3e-0a02-4052-b057-dfd6b96ac026",
    "_uuid": "91d77fc484400c0bc3ba4c3b16ebd9873d3da966"
   },
   "outputs": [],
   "source": [
    "X.shape"
   ]
  },
  {
   "cell_type": "code",
   "execution_count": null,
   "metadata": {
    "_cell_guid": "78e7cc64-e345-45c4-8c4e-52aa50cb9c21",
    "_uuid": "156872c244cdf82a28daa404fe1ebaaa96c52d0d"
   },
   "outputs": [],
   "source": [
    "from sklearn.model_selection import train_test_split\n",
    "X_train, X_test, y_train,y_test = train_test_split(X,y,test_size=0.1)"
   ]
  },
  {
   "cell_type": "code",
   "execution_count": null,
   "metadata": {
    "_cell_guid": "26067623-40ff-44d1-9fbf-1736f9d5a967",
    "_uuid": "958d9f0b9143a37842c6510696173e357817397d"
   },
   "outputs": [],
   "source": [
    "from keras.models import Model\n",
    "from keras.layers import Input, Dense"
   ]
  },
  {
   "cell_type": "code",
   "execution_count": null,
   "metadata": {
    "_cell_guid": "cf479c9f-e2e6-43c2-be27-852b70f2796f",
    "_uuid": "0e6386095559dafe1c3f4660149894591ea6d0ff"
   },
   "outputs": [],
   "source": [
    "data_in = Input(shape=(29,))\n",
    "encoded = Dense(12,activation='tanh')(data_in)\n",
    "decoded = Dense(29,activation='sigmoid')(encoded)\n",
    "autoencoder = Model(data_in,decoded)"
   ]
  },
  {
   "cell_type": "code",
   "execution_count": null,
   "metadata": {
    "_cell_guid": "92225494-1294-479f-8003-fb5db2c6db2d",
    "_uuid": "b350c49f16744ceff5a0545b44915ca4a85cbfae"
   },
   "outputs": [],
   "source": [
    "autoencoder.compile(optimizer='adam',loss='mean_squared_error')"
   ]
  },
  {
   "cell_type": "code",
   "execution_count": null,
   "metadata": {
    "_cell_guid": "a4a83280-5afe-413f-89fa-86d67e3a3adb",
    "_uuid": "9cff9216e21c05d9f7fc2e05a426ed065deadabf"
   },
   "outputs": [],
   "source": [
    "autoencoder.fit(X_train,\n",
    "                X_train,\n",
    "                epochs = 20, \n",
    "                batch_size=128, \n",
    "                validation_data=(X_test,X_test))"
   ]
  },
  {
   "cell_type": "code",
   "execution_count": null,
   "metadata": {
    "_cell_guid": "1496244f-fa4c-430a-924b-3414ef1a015d",
    "_uuid": "44a06be6edd99f083d7107919ca2e84f06f661a7"
   },
   "outputs": [],
   "source": [
    "X_test.mean()"
   ]
  },
  {
   "cell_type": "code",
   "execution_count": null,
   "metadata": {
    "_cell_guid": "67f0ac0d-50ab-4e72-b594-f73e7f978fbb",
    "_uuid": "47e3a4a5ef8a3def84ada50a8db94112f7e0f746"
   },
   "outputs": [],
   "source": [
    "pred = autoencoder.predict(X_test[0:10])"
   ]
  },
  {
   "cell_type": "code",
   "execution_count": null,
   "metadata": {
    "_cell_guid": "76d93c84-1419-4a17-b8ce-130c1faa049b",
    "_uuid": "75b98afa5e92031738415f3650f32e0f91a5a4b8"
   },
   "outputs": [],
   "source": [
    "import matplotlib.pyplot as plt\n",
    "import numpy as np\n",
    "\n",
    "width = 0.8\n",
    "\n",
    "prediction   = pred[9]\n",
    "true_value    = X_test[9]\n",
    "\n",
    "indices = np.arange(len(prediction))\n",
    "\n",
    "fig = plt.figure(figsize=(10,7))\n",
    "\n",
    "plt.bar(indices, prediction, width=width, \n",
    "        color='b', label='Predicted Value')\n",
    "\n",
    "plt.bar([i+0.25*width for i in indices], true_value, \n",
    "        width=0.5*width, color='r', alpha=0.5, label='True Value')\n",
    "\n",
    "plt.xticks(indices+width/2., \n",
    "           ['V{}'.format(i) for i in range(len(prediction))] )\n",
    "\n",
    "plt.legend()\n",
    "\n",
    "plt.show()"
   ]
  },
  {
   "cell_type": "code",
   "execution_count": null,
   "metadata": {
    "_cell_guid": "614bafe2-a513-4c53-bde1-22f6133aba25",
    "_uuid": "ccddee14adf117aeb4a91469cacf9f53b03797c6"
   },
   "outputs": [],
   "source": [
    "encoder = Model(data_in,encoded)"
   ]
  },
  {
   "cell_type": "code",
   "execution_count": null,
   "metadata": {
    "_cell_guid": "06697d10-31b4-462d-8031-fa13c9731f02",
    "_uuid": "12e7b1e2d790c693b59a0df2091eeb8ddd631580"
   },
   "outputs": [],
   "source": [
    "enc = encoder.predict(X_test)"
   ]
  },
  {
   "cell_type": "code",
   "execution_count": null,
   "metadata": {
    "_cell_guid": "a552780b-8083-473c-869c-9279e6bdd29a",
    "_uuid": "7ed4bf4664bf01f018920903c01d725b46a0cd77"
   },
   "outputs": [],
   "source": [
    "np.savez('enc.npz',enc,y_test)"
   ]
  },
  {
   "cell_type": "code",
   "execution_count": null,
   "metadata": {
    "_cell_guid": "f2233170-0d61-4a1d-a755-ac445610b327",
    "_uuid": "203d4e60679b665c89bbb60dbf86d88a8a87e9fb"
   },
   "outputs": [],
   "source": [
    "#from sklearn.manifold import TSNE"
   ]
  },
  {
   "cell_type": "code",
   "execution_count": null,
   "metadata": {
    "_cell_guid": "7243c543-d089-42da-9f1f-305c46d1c0cb",
    "_uuid": "8c020a95be24b1365a1f095c5dbe40c134d33cee"
   },
   "outputs": [],
   "source": [
    "#tsne = TSNE(verbose=1,n_iter=300)"
   ]
  },
  {
   "cell_type": "code",
   "execution_count": null,
   "metadata": {
    "_cell_guid": "508b4381-9416-4c29-ad5d-2a52271cda1d",
    "_uuid": "402b7a2d0170d0254b2aab5d47101cd74eb9a40a"
   },
   "outputs": [],
   "source": [
    "#res = tsne.fit_transform(enc)"
   ]
  },
  {
   "cell_type": "code",
   "execution_count": null,
   "metadata": {
    "_cell_guid": "854ed854-13ac-4f07-8ffb-b55eaac3b648",
    "_uuid": "1cf56c49f26a3690464716d14d92c41b97429468"
   },
   "outputs": [],
   "source": [
    "'''\n",
    "fig = plt.figure(figsize=(10,7))\n",
    "scatter =plt.scatter(res[:,0],res[:,1],c=y_test,cmap='coolwarm', s=0.6)\n",
    "scatter.axes.get_xaxis().set_visible(False)\n",
    "scatter.axes.get_yaxis().set_visible(False)\n",
    "'''"
   ]
  },
  {
   "cell_type": "code",
   "execution_count": null,
   "metadata": {
    "_cell_guid": "1ca6b355-af5b-4b8d-a794-8c4a47718982",
    "_uuid": "0bba9d69e6b236cb7b82945564a2864aea2bcfec"
   },
   "outputs": [],
   "source": []
  },
  {
   "cell_type": "markdown",
   "metadata": {
    "_cell_guid": "3dc58898-2f57-4feb-a7c3-383d433dafb9",
    "_uuid": "93d11a6866ecbd9df3a1b25ab8d4281d47543ee3",
    "collapsed": true
   },
   "source": [
    "# VAE"
   ]
  },
  {
   "cell_type": "code",
   "execution_count": null,
   "metadata": {
    "_cell_guid": "c93f3256-8050-4cf0-9673-d25a089918dc",
    "_uuid": "9a0e3bae957fba4decfd667d04de16d236ad955a"
   },
   "outputs": [],
   "source": [
    "import numpy as np\n",
    "import matplotlib.pyplot as plt\n",
    "from scipy.stats import norm\n",
    "\n",
    "from keras.layers import Input, Dense, Lambda\n",
    "from keras.models import Model\n",
    "from keras import backend as K\n",
    "from keras import metrics"
   ]
  },
  {
   "cell_type": "code",
   "execution_count": null,
   "metadata": {
    "_cell_guid": "cca61b79-7b71-49a6-8ca6-a2864ea2639d",
    "_uuid": "8fc46fe9924a4e258885f487778f71d2e15c87d1"
   },
   "outputs": [],
   "source": [
    "batch_size = 100\n",
    "original_dim = 29\n",
    "latent_dim = 6\n",
    "intermediate_dim = 16\n",
    "epochs = 50\n",
    "epsilon_std = 1.0\n"
   ]
  },
  {
   "cell_type": "code",
   "execution_count": null,
   "metadata": {
    "_cell_guid": "a70c9072-fec2-4200-8247-98efb58dd616",
    "_uuid": "63b7c72aa8aee78c214208905654a2c9e28bf8a1"
   },
   "outputs": [],
   "source": [
    "x = Input(shape=(original_dim,))\n",
    "h = Dense(intermediate_dim, activation='relu')(x)\n",
    "z_mean = Dense(latent_dim)(h)\n",
    "z_log_var = Dense(latent_dim)(h)"
   ]
  },
  {
   "cell_type": "code",
   "execution_count": null,
   "metadata": {
    "_cell_guid": "e71f7eae-dd80-4e1c-a282-51b047627388",
    "_uuid": "44fe9903864bc635783ad7e44d4263afeef9af66"
   },
   "outputs": [],
   "source": [
    "def sampling(args):\n",
    "    z_mean, z_log_var = args\n",
    "    epsilon = K.random_normal(shape=(K.shape(z_mean)[0], latent_dim), mean=0.,\n",
    "                              stddev=epsilon_std)\n",
    "    return z_mean + K.exp(z_log_var / 2) * epsilon"
   ]
  },
  {
   "cell_type": "code",
   "execution_count": null,
   "metadata": {
    "_cell_guid": "7f7049ea-7db6-4ef1-8426-67783f8e6d8b",
    "_uuid": "d193ae8dd47ee5e363eaa3856205139aff28aebe"
   },
   "outputs": [],
   "source": [
    "# note that \"output_shape\" isn't necessary with the TensorFlow backend\n",
    "z = Lambda(sampling, output_shape=(latent_dim,))([z_mean, z_log_var])"
   ]
  },
  {
   "cell_type": "code",
   "execution_count": null,
   "metadata": {
    "_cell_guid": "25a037cf-7a53-455a-8ca9-7e5549f5dc92",
    "_uuid": "0a7aba4af42824764e8f4af790a3b9baf479018e"
   },
   "outputs": [],
   "source": [
    "# we instantiate these layers separately so as to reuse them later\n",
    "decoder_h = Dense(intermediate_dim, activation='relu')\n",
    "h_decoded = decoder_h(z)\n",
    "\n",
    "decoder_mean = Dense(original_dim)\n",
    "x_decoded_mean = decoder_mean(h_decoded)"
   ]
  },
  {
   "cell_type": "code",
   "execution_count": null,
   "metadata": {
    "_cell_guid": "c4f6d58e-0a4c-4af4-bd90-2474b4cd27ba",
    "_uuid": "3cf3e7a6857c7ec10871b732527a0511d9b22820"
   },
   "outputs": [],
   "source": [
    "# instantiate VAE model\n",
    "vae = Model(x, x_decoded_mean)"
   ]
  },
  {
   "cell_type": "code",
   "execution_count": null,
   "metadata": {
    "_cell_guid": "5fe0a9ac-c8c5-4566-ba6b-b8263cee0c01",
    "_uuid": "150dd9e4dbbfa8e5abb96bcbfce87deefb57fc9e"
   },
   "outputs": [],
   "source": [
    "# Compute VAE loss\n",
    "xent_loss = original_dim * metrics.mean_squared_error(x, x_decoded_mean)\n",
    "kl_loss = - 0.5 * K.sum(1 + z_log_var - K.square(z_mean) - K.exp(z_log_var), axis=-1)\n",
    "vae_loss = K.mean(xent_loss + kl_loss)"
   ]
  },
  {
   "cell_type": "code",
   "execution_count": null,
   "metadata": {
    "_cell_guid": "2be1ce66-b16a-4402-99e4-8baa9833f627",
    "_uuid": "4260d4d8134471d12d2647ad2c83f9066745cc23"
   },
   "outputs": [],
   "source": [
    "vae.add_loss(vae_loss)"
   ]
  },
  {
   "cell_type": "code",
   "execution_count": null,
   "metadata": {
    "_cell_guid": "a9e73316-5640-4ec8-9fa4-a1cbe7c2f5a2",
    "_uuid": "019df269c0a73f40b16522d518074f42974348ad"
   },
   "outputs": [],
   "source": [
    "from keras.optimizers import RMSprop\n",
    "vae.compile(optimizer=RMSprop(lr=0.1))\n",
    "#vae.summary()\n"
   ]
  },
  {
   "cell_type": "code",
   "execution_count": null,
   "metadata": {
    "_cell_guid": "017c9234-2a07-4ff0-8659-107f036689ee",
    "_uuid": "753463dcc822c8aee2d2070ba542d436c7fe9233"
   },
   "outputs": [],
   "source": [
    "vae.fit(X_train,\n",
    "        shuffle=True,\n",
    "        epochs=epochs,\n",
    "        batch_size=256,\n",
    "        validation_data=(X_test, None))"
   ]
  },
  {
   "cell_type": "code",
   "execution_count": null,
   "metadata": {
    "_cell_guid": "73b34254-1cb3-4e1a-9358-24418adf3d67",
    "_uuid": "11a6cd0780e4b3fbe8c6dd1f88a8792b29100eb6"
   },
   "outputs": [],
   "source": []
  },
  {
   "cell_type": "code",
   "execution_count": null,
   "metadata": {
    "_cell_guid": "17031c3a-0715-471c-9875-cbf904e380fb",
    "_uuid": "abed5daec2649652cd3c04dcc6b845b456c06ea5"
   },
   "outputs": [],
   "source": [
    "pred = autoencoder.predict(X_test[0:10])"
   ]
  },
  {
   "cell_type": "code",
   "execution_count": null,
   "metadata": {
    "_cell_guid": "c26b35dd-4a1f-439b-92e9-de596b9cbbe3",
    "_uuid": "3bc16f512f29f8768e795448b9d083395cc6bd7f"
   },
   "outputs": [],
   "source": [
    "\n",
    "import matplotlib.pyplot as plt\n",
    "import numpy as np\n",
    "\n",
    "width = 0.8\n",
    "\n",
    "prediction   = pred[1]\n",
    "true_value    = X_test[1]\n",
    "\n",
    "indices = np.arange(len(prediction))\n",
    "\n",
    "fig = plt.figure(figsize=(10,7))\n",
    "\n",
    "plt.bar(indices, prediction, width=width, \n",
    "        color='b', label='Predicted Value')\n",
    "\n",
    "plt.bar([i+0.25*width for i in indices], true_value, \n",
    "        width=0.5*width, color='r', alpha=0.5, label='True Value')\n",
    "\n",
    "plt.xticks(indices+width/2., \n",
    "           ['T{}'.format(i) for i in range(len(pred))] )\n",
    "\n",
    "plt.legend()\n",
    "\n",
    "plt.show()"
   ]
  },
  {
   "cell_type": "code",
   "execution_count": null,
   "metadata": {
    "_cell_guid": "e6ddec77-5941-4dab-b3c9-9a123db25d8b",
    "_uuid": "0e0f9516866bcb4ea175b7aea3f15f7871bba92e"
   },
   "outputs": [],
   "source": [
    "frauds = np.where(y_train == 1)"
   ]
  },
  {
   "cell_type": "code",
   "execution_count": null,
   "metadata": {
    "_cell_guid": "2aadc7c3-b2f8-4bc7-906d-d6f561a5cbd4",
    "_uuid": "87a88eafdad6d84d56b1b0c4a06811895713fe18"
   },
   "outputs": [],
   "source": [
    "encoder = Model(x,z_mean)"
   ]
  },
  {
   "cell_type": "code",
   "execution_count": null,
   "metadata": {
    "_cell_guid": "e51763f0-89ab-4b84-ba2d-357f7284c3e8",
    "_uuid": "5937ee1cb583fe018eafb2890d5689ca0d65476f"
   },
   "outputs": [],
   "source": [
    "fraud_encodings = encoder.predict(X_train[frauds],batch_size=128)"
   ]
  },
  {
   "cell_type": "code",
   "execution_count": null,
   "metadata": {
    "_cell_guid": "da8feb09-3d32-49ca-9932-dae8a8283fdd",
    "_uuid": "5e1f46e94560b0a716ea9bf95118bf6e722abe54"
   },
   "outputs": [],
   "source": [
    "fraud_encodings.shape"
   ]
  },
  {
   "cell_type": "code",
   "execution_count": null,
   "metadata": {
    "_cell_guid": "dc3fdc07-ca70-4ae9-a2a3-a3d09e7547c3",
    "_uuid": "bc0d45d78fad4fcae0337b234f603c42dc687e06"
   },
   "outputs": [],
   "source": [
    "decoder_input = Input(shape=(latent_dim,))\n",
    "_h_decoded = decoder_h(decoder_input)\n",
    "_x_decoded_mean = decoder_mean(_h_decoded)\n",
    "generator = Model(decoder_input, _x_decoded_mean)"
   ]
  },
  {
   "cell_type": "code",
   "execution_count": null,
   "metadata": {
    "_cell_guid": "b973bf00-313e-4473-8a26-2d7fa55d2e01",
    "_uuid": "5c57ff5566273bf7b234182dd6481f7a25dcde5a"
   },
   "outputs": [],
   "source": [
    "more_frauds = generator.predict(fraud_encodings)"
   ]
  },
  {
   "cell_type": "code",
   "execution_count": null,
   "metadata": {
    "_uuid": "5c6466eaaf38d0bf60d01d4fea34c7f535876e08"
   },
   "outputs": [],
   "source": []
  }
 ],
 "metadata": {
  "kernelspec": {
   "display_name": "Python 3",
   "language": "python",
   "name": "python3"
  },
  "language_info": {
   "codemirror_mode": {
    "name": "ipython",
    "version": 3
   },
   "file_extension": ".py",
   "mimetype": "text/x-python",
   "name": "python",
   "nbconvert_exporter": "python",
   "pygments_lexer": "ipython3",
   "version": "3.7.3"
  }
 },
 "nbformat": 4,
 "nbformat_minor": 1
}
