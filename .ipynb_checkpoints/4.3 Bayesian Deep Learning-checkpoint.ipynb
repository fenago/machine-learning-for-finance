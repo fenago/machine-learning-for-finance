{
 "cells": [
  {
   "cell_type": "code",
   "execution_count": null,
   "metadata": {
    "_cell_guid": "2dfac7cb-0962-444e-b916-f112b65375d1",
    "_uuid": "7ec17ee3901a277110bf6c747d0f6490c4be16cf"
   },
   "outputs": [],
   "source": [
    "import numpy as np"
   ]
  },
  {
   "cell_type": "code",
   "execution_count": null,
   "metadata": {
    "_cell_guid": "ebe0a366-2ee0-43c8-8519-fe3f959332b9",
    "_uuid": "34ed4cdbcd40f56cb07e78632eddf57fb0688178"
   },
   "outputs": [],
   "source": [
    "X = np.random.rand(20,1) * 10 -5"
   ]
  },
  {
   "cell_type": "code",
   "execution_count": null,
   "metadata": {
    "_cell_guid": "2610c9f9-3491-40d9-af21-e78a33f44961",
    "_uuid": "c8447fd5b1f02d86101d8b3ba5abd06e6d5fce7d"
   },
   "outputs": [],
   "source": [
    "y = np.sin(X)"
   ]
  },
  {
   "cell_type": "code",
   "execution_count": null,
   "metadata": {
    "_cell_guid": "7f559fff-9974-4f7e-9b63-2433b528ea10",
    "_uuid": "2dc83cf32545908311437b8271ee423b806792a8"
   },
   "outputs": [],
   "source": [
    "X.shape,y.shape"
   ]
  },
  {
   "cell_type": "code",
   "execution_count": null,
   "metadata": {
    "_cell_guid": "f12cd4f9-dc52-4b4b-a945-14548ce9187c",
    "_uuid": "7254087083dd9048c3f04aad3f107b41e9a7faf0"
   },
   "outputs": [],
   "source": [
    "from keras.models import Sequential\n",
    "from keras.layers import Dense, Dropout, Activation"
   ]
  },
  {
   "cell_type": "code",
   "execution_count": null,
   "metadata": {
    "_cell_guid": "5fff833c-ae26-4657-a5c7-b7d6e0073019",
    "_uuid": "cc52b224c5bed33e36d3c68e8f20cdc1c3eb5592"
   },
   "outputs": [],
   "source": [
    "import keras.backend as K\n",
    "K.clear_session()\n",
    "K.set_learning_phase(1)"
   ]
  },
  {
   "cell_type": "code",
   "execution_count": null,
   "metadata": {
    "_cell_guid": "632af5bd-e3cb-42d4-ad80-d44f2f90980d",
    "_uuid": "5bf45c957274e4c61a3851edbf2d605e7e5aa892"
   },
   "outputs": [],
   "source": [
    "model = Sequential()\n",
    "model.add(Dense(1,input_dim = 1))\n",
    "\n",
    "\n",
    "model.add(Dropout(0.1))\n",
    "model.add(Dense(20))\n",
    "model.add(Activation('relu'))\n",
    "model.add(Dropout(0.1))\n",
    "model.add(Dense(20))\n",
    "model.add(Activation('relu'))\n",
    "model.add(Dropout(0.1))\n",
    "model.add(Dense(20))\n",
    "model.add(Activation('sigmoid'))\n",
    "model.add(Dense(1))"
   ]
  },
  {
   "cell_type": "code",
   "execution_count": null,
   "metadata": {
    "_cell_guid": "4434fe31-cc0d-4860-a39f-3f18dabca2b4",
    "_uuid": "83742f9c8c5eadb1dd95816e0d3832c881e2962b"
   },
   "outputs": [],
   "source": [
    "from keras.optimizers import SGD"
   ]
  },
  {
   "cell_type": "code",
   "execution_count": null,
   "metadata": {
    "_cell_guid": "0aba7362-0579-48db-a183-7ef62ee6cd9e",
    "_uuid": "ca4b7bc90fc7525c926f7ce1749f26f3d80f4e3b"
   },
   "outputs": [],
   "source": [
    "model.compile(loss='mse',optimizer=SGD(lr=0.01))"
   ]
  },
  {
   "cell_type": "code",
   "execution_count": null,
   "metadata": {
    "_cell_guid": "259557f5-5e52-4509-8371-d7444f411c02",
    "_uuid": "4d803efae176188ff8344fa4f3f71c70838ede3d"
   },
   "outputs": [],
   "source": [
    "model.fit(X,y,epochs=10000,batch_size=10,verbose=0)"
   ]
  },
  {
   "cell_type": "code",
   "execution_count": null,
   "metadata": {
    "_cell_guid": "6781a450-3211-43e4-a616-2112383fdc37",
    "_uuid": "961a4e1107a84d448ed9f3f8f78a5f91cac1dc9a"
   },
   "outputs": [],
   "source": [
    "X_test = np.arange(-10,10,0.1)"
   ]
  },
  {
   "cell_type": "code",
   "execution_count": null,
   "metadata": {
    "_cell_guid": "6926d76f-a4e4-4363-addb-299e6b023a2a",
    "_uuid": "57881eedf98ab6e3ba2abc0022ad7633b8a38772"
   },
   "outputs": [],
   "source": [
    "X_test = np.expand_dims(X_test,-1)"
   ]
  },
  {
   "cell_type": "code",
   "execution_count": null,
   "metadata": {
    "_cell_guid": "a06889a7-a509-4683-af43-93ef384a6749",
    "_uuid": "8d5be14aaa1769419f156c2228eb80a38eab0780"
   },
   "outputs": [],
   "source": [
    "\n",
    "probs = []\n",
    "for i in range(100):\n",
    "    out = model.predict(X_test)\n",
    "    probs.append(out)"
   ]
  },
  {
   "cell_type": "code",
   "execution_count": null,
   "metadata": {
    "_cell_guid": "43c9f90b-201f-4b4b-a734-aaad83646a7c",
    "_uuid": "7821632f9c3557ecada1cc28a3cd8ffd6809a934"
   },
   "outputs": [],
   "source": [
    "p = np.array(probs)"
   ]
  },
  {
   "cell_type": "code",
   "execution_count": null,
   "metadata": {
    "_cell_guid": "c6170ffd-ac3d-4788-bf88-18f482f35003",
    "_uuid": "9e5b526cf7529e3210f89ad4ad8e0368c7ac88b0"
   },
   "outputs": [],
   "source": [
    "p.shape"
   ]
  },
  {
   "cell_type": "code",
   "execution_count": null,
   "metadata": {
    "_cell_guid": "5b391081-e84c-4dd9-bd57-e2260d31ab5d",
    "_uuid": "b32b71abcee294d1d084fb875683b524d6a2ec78"
   },
   "outputs": [],
   "source": [
    "mean = np.mean(p,axis=0)\n",
    "std = np.std(p,axis=0)\n"
   ]
  },
  {
   "cell_type": "code",
   "execution_count": null,
   "metadata": {
    "_cell_guid": "3a99ac3c-6f6e-406f-bd79-959357be1578",
    "_uuid": "0d59b2fe5816f5a4e2a92a45292238adea07a71b"
   },
   "outputs": [],
   "source": [
    "import matplotlib.pyplot as plt\n",
    "plt.figure(figsize=(10,7))\n",
    "plt.plot(X_test,mean,c='blue')\n",
    "\n",
    "lower_bound = mean - std * 0.5\n",
    "upper_bound =  mean + std * 0.5\n",
    "plt.fill_between(X_test.flatten(),upper_bound.flatten(),lower_bound.flatten(),alpha=0.25, facecolor='blue')\n",
    "\n",
    "lower_bound = mean - std\n",
    "upper_bound =  mean + std\n",
    "plt.fill_between(X_test.flatten(),upper_bound.flatten(),lower_bound.flatten(),alpha=0.25, facecolor='blue')\n",
    "\n",
    "lower_bound = mean - std * 2\n",
    "upper_bound =  mean + std * 2\n",
    "plt.fill_between(X_test.flatten(),upper_bound.flatten(),lower_bound.flatten(),alpha=0.25, facecolor='blue')\n",
    "\n",
    "plt.scatter(X,y,c='black')"
   ]
  },
  {
   "cell_type": "code",
   "execution_count": null,
   "metadata": {
    "_cell_guid": "a1fe0767-316c-4815-8ef8-65a6a80de559",
    "_uuid": "e538c27b30611076d2b29879ad339b1a93c5b72c"
   },
   "outputs": [],
   "source": []
  }
 ],
 "metadata": {
  "kernelspec": {
   "display_name": "Python 3",
   "language": "python",
   "name": "python3"
  },
  "language_info": {
   "codemirror_mode": {
    "name": "ipython",
    "version": 3
   },
   "file_extension": ".py",
   "mimetype": "text/x-python",
   "name": "python",
   "nbconvert_exporter": "python",
   "pygments_lexer": "ipython3",
   "version": "3.7.3"
  }
 },
 "nbformat": 4,
 "nbformat_minor": 1
}
