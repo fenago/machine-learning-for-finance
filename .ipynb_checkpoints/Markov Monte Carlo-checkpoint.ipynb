{
 "cells": [
  {
   "cell_type": "code",
   "execution_count": null,
   "metadata": {},
   "outputs": [],
   "source": [
    "import numpy as np\n",
    "import matplotlib.pyplot as plt\n",
    "% matplotlib inline\n",
    "from joblib import Parallel, delayed"
   ]
  },
  {
   "cell_type": "code",
   "execution_count": null,
   "metadata": {},
   "outputs": [],
   "source": [
    "# REPETITION FROM FIRST SECTION\n",
    "def run_sim(x):\n",
    "    truth = np.random.uniform(size=100) < x\n",
    "    first_random = np.random.randint(2,size=100)\n",
    "    second_random = np.random.randint(2,size=100)\n",
    "    res = np.sum(first_random*truth + (1-first_random)*second_random)/100\n",
    "    return res"
   ]
  },
  {
   "cell_type": "code",
   "execution_count": null,
   "metadata": {},
   "outputs": [],
   "source": [
    "# REPETITION FROM FIRST SECTION\n",
    "def sample(x,data = 0.54):\n",
    "    if run_sim(x) == data:\n",
    "        return x"
   ]
  },
  {
   "cell_type": "code",
   "execution_count": null,
   "metadata": {},
   "outputs": [],
   "source": [
    "def propose(x):\n",
    "    return np.random.randn() * 0.1 + x"
   ]
  },
  {
   "cell_type": "code",
   "execution_count": null,
   "metadata": {},
   "outputs": [],
   "source": [
    "def likehood(x):\n",
    "    t = Parallel(n_jobs=-1)(delayed(sample)(x) for i in range(10000))\n",
    "    t = np.array(t,dtype=float)\n",
    "    return (1 - np.sum(np.isnan(t))/len(t))"
   ]
  },
  {
   "cell_type": "code",
   "execution_count": null,
   "metadata": {},
   "outputs": [],
   "source": [
    "def prior(x):\n",
    "    return 1 #Flat prior"
   ]
  },
  {
   "cell_type": "code",
   "execution_count": null,
   "metadata": {},
   "outputs": [],
   "source": [
    "def posterior(x):    \n",
    "    return likehood(x) * prior(x)"
   ]
  },
  {
   "cell_type": "code",
   "execution_count": null,
   "metadata": {},
   "outputs": [],
   "source": [
    "x = 0.5\n",
    "pi_x = posterior(x)"
   ]
  },
  {
   "cell_type": "code",
   "execution_count": null,
   "metadata": {},
   "outputs": [],
   "source": [
    "trace = [x]\n",
    "pi_trace = [pi_x]"
   ]
  },
  {
   "cell_type": "code",
   "execution_count": null,
   "metadata": {
    "scrolled": true
   },
   "outputs": [],
   "source": [
    "for i in range(1000): #Main Loop\n",
    "    \n",
    "    x_cand = propose(x)\n",
    "    \n",
    "    pi_x_cand = posterior(x_cand)\n",
    "    \n",
    "    alpha = np.min([1,pi_x_cand/(pi_x + 0.00001)]) # Save division\n",
    "    \n",
    "    u = np.random.uniform() \n",
    "    \n",
    "    (x, pi_x) = (x_cand,pi_x_cand) if u<alpha else (x,pi_x)\n",
    "    trace.append(x)\n",
    "    pi_trace.append(pi_x)\n",
    "    \n",
    "    if i % 10 == 0:\n",
    "        print(f'Epoch {i}, X = {x:.2f}, pi = {pi_x:.2f}')"
   ]
  },
  {
   "cell_type": "code",
   "execution_count": null,
   "metadata": {},
   "outputs": [],
   "source": [
    "plt.hist(trace,bins=30)\n",
    "plt.title('Metropolis Hastings Outcome')\n",
    "plt.xlim(0,1);"
   ]
  },
  {
   "cell_type": "code",
   "execution_count": null,
   "metadata": {},
   "outputs": [],
   "source": [
    "plt.plot(trace)\n",
    "plt.title('MH Trace');"
   ]
  },
  {
   "cell_type": "code",
   "execution_count": null,
   "metadata": {},
   "outputs": [],
   "source": [
    "plt.scatter(x=trace,y=pi_trace)\n",
    "plt.xlabel('Proposed X')\n",
    "plt.ylabel('Posterior Probability')\n",
    "plt.title('X vs Pi');"
   ]
  },
  {
   "cell_type": "code",
   "execution_count": null,
   "metadata": {},
   "outputs": [],
   "source": []
  }
 ],
 "metadata": {
  "kernelspec": {
   "display_name": "Python 3",
   "language": "python",
   "name": "python3"
  },
  "language_info": {
   "codemirror_mode": {
    "name": "ipython",
    "version": 3
   },
   "file_extension": ".py",
   "mimetype": "text/x-python",
   "name": "python",
   "nbconvert_exporter": "python",
   "pygments_lexer": "ipython3",
   "version": "3.7.3"
  }
 },
 "nbformat": 4,
 "nbformat_minor": 2
}
