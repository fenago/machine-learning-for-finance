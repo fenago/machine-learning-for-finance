{
 "cells": [
  {
   "cell_type": "markdown",
   "metadata": {
    "colab_type": "text",
    "id": "GBvUOBR7fmhS"
   },
   "source": [
    "# Get data"
   ]
  },
  {
   "cell_type": "code",
   "execution_count": null,
   "metadata": {
    "colab": {
     "autoexec": {
      "startup": false,
      "wait_interval": 0
     },
     "base_uri": "https://localhost:8080/",
     "height": 204,
     "output_extras": [
      {
       "item_id": 58
      }
     ]
    },
    "colab_type": "code",
    "executionInfo": {
     "elapsed": 17219,
     "status": "ok",
     "timestamp": 1522362917795,
     "user": {
      "displayName": "Jannes Klaas",
      "photoUrl": "https://lh3.googleusercontent.com/a/default-user=s128",
      "userId": "115843019312458301179"
     },
     "user_tz": -60
    },
    "id": "tprFraLuKC4Z",
    "outputId": "747852ff-6308-40b9-b372-a4a5ae4cd7ac"
   },
   "outputs": [],
   "source": [
    "!wget https://storage.googleapis.com/aibootcamp/data/plants.zip"
   ]
  },
  {
   "cell_type": "code",
   "execution_count": null,
   "metadata": {
    "colab": {
     "autoexec": {
      "startup": false,
      "wait_interval": 0
     },
     "base_uri": "https://localhost:8080/",
     "height": 34,
     "output_extras": [
      {
       "item_id": 1
      }
     ]
    },
    "colab_type": "code",
    "executionInfo": {
     "elapsed": 1653,
     "status": "ok",
     "timestamp": 1522362921189,
     "user": {
      "displayName": "Jannes Klaas",
      "photoUrl": "https://lh3.googleusercontent.com/a/default-user=s128",
      "userId": "115843019312458301179"
     },
     "user_tz": -60
    },
    "id": "SBLzU1xFZINd",
    "outputId": "00ce82eb-ad1e-430a-ee5b-46a84bcc7019"
   },
   "outputs": [],
   "source": [
    "!ls"
   ]
  },
  {
   "cell_type": "code",
   "execution_count": null,
   "metadata": {
    "colab": {
     "autoexec": {
      "startup": false,
      "wait_interval": 0
     }
    },
    "colab_type": "code",
    "id": "3uKC9Mv9cqQ4"
   },
   "outputs": [],
   "source": [
    "!unzip -q plants.zip"
   ]
  },
  {
   "cell_type": "code",
   "execution_count": null,
   "metadata": {
    "colab": {
     "autoexec": {
      "startup": false,
      "wait_interval": 0
     },
     "base_uri": "https://localhost:8080/",
     "height": 34,
     "output_extras": [
      {
       "item_id": 1
      }
     ]
    },
    "colab_type": "code",
    "executionInfo": {
     "elapsed": 1549,
     "status": "ok",
     "timestamp": 1522362939822,
     "user": {
      "displayName": "Jannes Klaas",
      "photoUrl": "https://lh3.googleusercontent.com/a/default-user=s128",
      "userId": "115843019312458301179"
     },
     "user_tz": -60
    },
    "id": "h28DeVCuKLpf",
    "outputId": "6893fddd-cd2c-40b1-dac3-60ca9c94538f"
   },
   "outputs": [],
   "source": [
    "!ls"
   ]
  },
  {
   "cell_type": "code",
   "execution_count": null,
   "metadata": {
    "colab": {
     "autoexec": {
      "startup": false,
      "wait_interval": 0
     }
    },
    "colab_type": "code",
    "id": "x26ofBkRct_B"
   },
   "outputs": [],
   "source": [
    "!rm plants.zip"
   ]
  },
  {
   "cell_type": "code",
   "execution_count": null,
   "metadata": {
    "colab": {
     "autoexec": {
      "startup": false,
      "wait_interval": 0
     }
    },
    "colab_type": "code",
    "id": "WJ--H5gFcx3Q"
   },
   "outputs": [],
   "source": [
    "!unzip -q plants/train.zip"
   ]
  },
  {
   "cell_type": "code",
   "execution_count": null,
   "metadata": {
    "colab": {
     "autoexec": {
      "startup": false,
      "wait_interval": 0
     },
     "base_uri": "https://localhost:8080/",
     "height": 34,
     "output_extras": [
      {
       "item_id": 1
      }
     ]
    },
    "colab_type": "code",
    "executionInfo": {
     "elapsed": 1875,
     "status": "ok",
     "timestamp": 1522362964344,
     "user": {
      "displayName": "Jannes Klaas",
      "photoUrl": "https://lh3.googleusercontent.com/a/default-user=s128",
      "userId": "115843019312458301179"
     },
     "user_tz": -60
    },
    "id": "aLsMkCMeKV4P",
    "outputId": "f6a7c7d6-9722-4db6-d476-fc9ed06f3984"
   },
   "outputs": [],
   "source": [
    "!ls"
   ]
  },
  {
   "cell_type": "code",
   "execution_count": null,
   "metadata": {
    "colab": {
     "autoexec": {
      "startup": false,
      "wait_interval": 0
     },
     "base_uri": "https://localhost:8080/",
     "height": 102,
     "output_extras": [
      {
       "item_id": 2
      }
     ]
    },
    "colab_type": "code",
    "executionInfo": {
     "elapsed": 3207,
     "status": "ok",
     "timestamp": 1522362967672,
     "user": {
      "displayName": "Jannes Klaas",
      "photoUrl": "https://lh3.googleusercontent.com/a/default-user=s128",
      "userId": "115843019312458301179"
     },
     "user_tz": -60
    },
    "id": "BQ4uOQkcc4wY",
    "outputId": "15ad70c0-6c8e-41b0-d2d6-800330b3a6d2"
   },
   "outputs": [],
   "source": [
    "!pip install Keras"
   ]
  },
  {
   "cell_type": "code",
   "execution_count": null,
   "metadata": {
    "colab": {
     "autoexec": {
      "startup": false,
      "wait_interval": 0
     },
     "base_uri": "https://localhost:8080/",
     "height": 102,
     "output_extras": [
      {
       "item_id": 2
      }
     ]
    },
    "colab_type": "code",
    "executionInfo": {
     "elapsed": 4159,
     "status": "ok",
     "timestamp": 1522362971928,
     "user": {
      "displayName": "Jannes Klaas",
      "photoUrl": "https://lh3.googleusercontent.com/a/default-user=s128",
      "userId": "115843019312458301179"
     },
     "user_tz": -60
    },
    "id": "w6FLTKuifqeP",
    "outputId": "1321bb67-0773-48bd-cb23-745375513367"
   },
   "outputs": [],
   "source": [
    "!pip install tqdm"
   ]
  },
  {
   "cell_type": "markdown",
   "metadata": {
    "colab_type": "text",
    "id": "bgAdQC3-pCh1"
   },
   "source": [
    "# Iterators"
   ]
  },
  {
   "cell_type": "code",
   "execution_count": null,
   "metadata": {
    "colab": {
     "autoexec": {
      "startup": false,
      "wait_interval": 0
     }
    },
    "colab_type": "code",
    "id": "NJBsbJbzpDt2"
   },
   "outputs": [],
   "source": [
    "def fibonacci_generator():\n",
    "  a = 0\n",
    "  b = 1\n",
    "  while True:\n",
    "    yield a\n",
    "    a, b = b, a + b\n",
    "    "
   ]
  },
  {
   "cell_type": "code",
   "execution_count": null,
   "metadata": {
    "colab": {
     "autoexec": {
      "startup": false,
      "wait_interval": 0
     }
    },
    "colab_type": "code",
    "id": "4Dmo5Cqepox0"
   },
   "outputs": [],
   "source": [
    "fib_gen = fibonacci_generator()"
   ]
  },
  {
   "cell_type": "code",
   "execution_count": null,
   "metadata": {
    "colab": {
     "autoexec": {
      "startup": false,
      "wait_interval": 0
     },
     "base_uri": "https://localhost:8080/",
     "height": 34,
     "output_extras": [
      {
       "item_id": 1
      }
     ]
    },
    "colab_type": "code",
    "executionInfo": {
     "elapsed": 541,
     "status": "ok",
     "timestamp": 1522226309683,
     "user": {
      "displayName": "Jannes Klaas",
      "photoUrl": "https://lh3.googleusercontent.com/a/default-user=s128",
      "userId": "115843019312458301179"
     },
     "user_tz": -60
    },
    "id": "eqRKZBKapsnU",
    "outputId": "50887048-d689-4eb4-af86-cc432481671d"
   },
   "outputs": [],
   "source": [
    "next(fib_gen)"
   ]
  },
  {
   "cell_type": "code",
   "execution_count": null,
   "metadata": {
    "colab": {
     "autoexec": {
      "startup": false,
      "wait_interval": 0
     },
     "base_uri": "https://localhost:8080/",
     "height": 34,
     "output_extras": [
      {
       "item_id": 1
      }
     ]
    },
    "colab_type": "code",
    "executionInfo": {
     "elapsed": 553,
     "status": "ok",
     "timestamp": 1522226316869,
     "user": {
      "displayName": "Jannes Klaas",
      "photoUrl": "https://lh3.googleusercontent.com/a/default-user=s128",
      "userId": "115843019312458301179"
     },
     "user_tz": -60
    },
    "id": "nxUb1xSpWMKE",
    "outputId": "03ccc35e-4b7a-42db-b56d-97daf792827a"
   },
   "outputs": [],
   "source": [
    "next(fib_gen)"
   ]
  },
  {
   "cell_type": "code",
   "execution_count": null,
   "metadata": {
    "colab": {
     "autoexec": {
      "startup": false,
      "wait_interval": 0
     },
     "base_uri": "https://localhost:8080/",
     "height": 34,
     "output_extras": [
      {
       "item_id": 1
      }
     ]
    },
    "colab_type": "code",
    "executionInfo": {
     "elapsed": 593,
     "status": "ok",
     "timestamp": 1522226318694,
     "user": {
      "displayName": "Jannes Klaas",
      "photoUrl": "https://lh3.googleusercontent.com/a/default-user=s128",
      "userId": "115843019312458301179"
     },
     "user_tz": -60
    },
    "id": "ujoBUThIwjet",
    "outputId": "e9dc376e-1f7a-4c4b-ddb6-19081db803de"
   },
   "outputs": [],
   "source": [
    "next(fib_gen)"
   ]
  },
  {
   "cell_type": "code",
   "execution_count": null,
   "metadata": {
    "colab": {
     "autoexec": {
      "startup": false,
      "wait_interval": 0
     },
     "base_uri": "https://localhost:8080/",
     "height": 34,
     "output_extras": [
      {
       "item_id": 1
      }
     ]
    },
    "colab_type": "code",
    "executionInfo": {
     "elapsed": 564,
     "status": "ok",
     "timestamp": 1522226321929,
     "user": {
      "displayName": "Jannes Klaas",
      "photoUrl": "https://lh3.googleusercontent.com/a/default-user=s128",
      "userId": "115843019312458301179"
     },
     "user_tz": -60
    },
    "id": "UOP7pVckwjbd",
    "outputId": "90f38dbc-e697-4acc-9ba6-9f25688bec2a"
   },
   "outputs": [],
   "source": [
    "next(fib_gen)"
   ]
  },
  {
   "cell_type": "code",
   "execution_count": null,
   "metadata": {
    "colab": {
     "autoexec": {
      "startup": false,
      "wait_interval": 0
     },
     "base_uri": "https://localhost:8080/",
     "height": 34,
     "output_extras": [
      {
       "item_id": 1
      }
     ]
    },
    "colab_type": "code",
    "executionInfo": {
     "elapsed": 596,
     "status": "ok",
     "timestamp": 1522226324445,
     "user": {
      "displayName": "Jannes Klaas",
      "photoUrl": "https://lh3.googleusercontent.com/a/default-user=s128",
      "userId": "115843019312458301179"
     },
     "user_tz": -60
    },
    "id": "oxznhvrUwjX7",
    "outputId": "6d611bd0-5afd-4955-9c71-ad507152f3f3"
   },
   "outputs": [],
   "source": [
    "next(fib_gen)"
   ]
  },
  {
   "cell_type": "markdown",
   "metadata": {
    "colab_type": "text",
    "id": "07PH_pJWWMap"
   },
   "source": [
    "# File moving"
   ]
  },
  {
   "cell_type": "code",
   "execution_count": null,
   "metadata": {
    "colab": {
     "autoexec": {
      "startup": false,
      "wait_interval": 0
     },
     "base_uri": "https://localhost:8080/",
     "height": 34,
     "output_extras": [
      {
       "item_id": 1
      }
     ]
    },
    "colab_type": "code",
    "executionInfo": {
     "elapsed": 457,
     "status": "ok",
     "timestamp": 1522363322898,
     "user": {
      "displayName": "Jannes Klaas",
      "photoUrl": "https://lh3.googleusercontent.com/a/default-user=s128",
      "userId": "115843019312458301179"
     },
     "user_tz": -60
    },
    "id": "zuAF51eETkO6",
    "outputId": "d85045ef-d43b-4b00-cc7c-9aa95962fa15"
   },
   "outputs": [],
   "source": [
    "import os\n",
    "from tqdm import tqdm\n",
    "\n",
    "root_dir = 'train'\n",
    "target_root = 'validation'\n",
    "\n",
    "if not os.path.isdir(target_root):\n",
    "  os.mkdir(target_root)\n",
    "\n",
    "for plant in tqdm(os.listdir(root_dir)):\n",
    "  plant_path = os.path.join(root_dir,plant)\n",
    "  target_plant_path = os.path.join(target_root,plant)\n",
    "  \n",
    "  if not os.path.isdir(target_plant_path):\n",
    "    os.mkdir(target_plant_path)\n",
    "    \n",
    "    \n",
    "  files = os.listdir(plant_path)\n",
    "  for i in range(12):\n",
    "    source_path = os.path.join(plant_path,files[i])\n",
    "    dest_path = os.path.join(target_plant_path,files[i])\n",
    "    os.rename(source_path,dest_path)"
   ]
  },
  {
   "cell_type": "code",
   "execution_count": null,
   "metadata": {
    "colab": {
     "autoexec": {
      "startup": false,
      "wait_interval": 0
     },
     "base_uri": "https://localhost:8080/",
     "height": 68,
     "output_extras": [
      {
       "item_id": 1
      }
     ]
    },
    "colab_type": "code",
    "executionInfo": {
     "elapsed": 1526,
     "status": "ok",
     "timestamp": 1522226332268,
     "user": {
      "displayName": "Jannes Klaas",
      "photoUrl": "https://lh3.googleusercontent.com/a/default-user=s128",
      "userId": "115843019312458301179"
     },
     "user_tz": -60
    },
    "id": "O0g908b8Wfj0",
    "outputId": "5449fa9e-53fe-4f50-893a-9b674a2990c1"
   },
   "outputs": [],
   "source": [
    "!ls validation/Black-grass"
   ]
  },
  {
   "cell_type": "markdown",
   "metadata": {
    "colab_type": "text",
    "id": "3WjKrQsHfrBf"
   },
   "source": [
    "# Keras generator & Logistic Regression"
   ]
  },
  {
   "cell_type": "code",
   "execution_count": null,
   "metadata": {
    "colab": {
     "autoexec": {
      "startup": false,
      "wait_interval": 0
     }
    },
    "colab_type": "code",
    "id": "5B5JF1qDefVO"
   },
   "outputs": [],
   "source": [
    "import datetime\n",
    "import numpy as np\n",
    "from keras.preprocessing.image import ImageDataGenerator"
   ]
  },
  {
   "cell_type": "code",
   "execution_count": null,
   "metadata": {
    "colab": {
     "autoexec": {
      "startup": false,
      "wait_interval": 0
     }
    },
    "colab_type": "code",
    "id": "wq4q2YVlc7eg"
   },
   "outputs": [],
   "source": [
    "import seaborn as sns\n",
    "sns.set(); np.random.seed(0)\n",
    "%matplotlib inline"
   ]
  },
  {
   "cell_type": "code",
   "execution_count": null,
   "metadata": {
    "colab": {
     "autoexec": {
      "startup": false,
      "wait_interval": 0
     }
    },
    "colab_type": "code",
    "id": "4B0d9FCCgOpn"
   },
   "outputs": [],
   "source": [
    "from tqdm import tqdm"
   ]
  },
  {
   "cell_type": "code",
   "execution_count": null,
   "metadata": {
    "colab": {
     "autoexec": {
      "startup": false,
      "wait_interval": 0
     }
    },
    "colab_type": "code",
    "id": "Ga18rpAVjNxg"
   },
   "outputs": [],
   "source": [
    "import os\n",
    "from sklearn.preprocessing import LabelEncoder\n",
    "from sklearn.preprocessing import OneHotEncoder\n",
    "import cv2"
   ]
  },
  {
   "cell_type": "code",
   "execution_count": null,
   "metadata": {
    "colab": {
     "autoexec": {
      "startup": false,
      "wait_interval": 0
     }
    },
    "colab_type": "code",
    "id": "gLRRRFjbdgND"
   },
   "outputs": [],
   "source": [
    "imgen = ImageDataGenerator(rescale=1/255)"
   ]
  },
  {
   "cell_type": "code",
   "execution_count": null,
   "metadata": {
    "colab": {
     "autoexec": {
      "startup": false,
      "wait_interval": 0
     },
     "base_uri": "https://localhost:8080/",
     "height": 34,
     "output_extras": [
      {
       "item_id": 1
      }
     ]
    },
    "colab_type": "code",
    "executionInfo": {
     "elapsed": 743,
     "status": "ok",
     "timestamp": 1522226355727,
     "user": {
      "displayName": "Jannes Klaas",
      "photoUrl": "https://lh3.googleusercontent.com/a/default-user=s128",
      "userId": "115843019312458301179"
     },
     "user_tz": -60
    },
    "id": "vnF6Q8GZdmV4",
    "outputId": "17a680ca-fb17-4abd-b4f9-6e478e99196d"
   },
   "outputs": [],
   "source": [
    "train_generator = imgen.flow_from_directory('train',batch_size=32, target_size=(150,150))"
   ]
  },
  {
   "cell_type": "code",
   "execution_count": null,
   "metadata": {
    "colab": {
     "autoexec": {
      "startup": false,
      "wait_interval": 0
     },
     "base_uri": "https://localhost:8080/",
     "height": 34,
     "output_extras": [
      {
       "item_id": 1
      }
     ]
    },
    "colab_type": "code",
    "executionInfo": {
     "elapsed": 791,
     "status": "ok",
     "timestamp": 1522226377541,
     "user": {
      "displayName": "Jannes Klaas",
      "photoUrl": "https://lh3.googleusercontent.com/a/default-user=s128",
      "userId": "115843019312458301179"
     },
     "user_tz": -60
    },
    "id": "4HtNYWrOaW_P",
    "outputId": "4de02e4d-a5ac-47fa-89f4-ec552f5bd999"
   },
   "outputs": [],
   "source": [
    "validation_generator = imgen.flow_from_directory('validation',\n",
    "                                                 batch_size=32, \n",
    "                                                 target_size=(150,150))"
   ]
  },
  {
   "cell_type": "code",
   "execution_count": null,
   "metadata": {
    "colab": {
     "autoexec": {
      "startup": false,
      "wait_interval": 0
     }
    },
    "colab_type": "code",
    "id": "OevwUSn_2c6z"
   },
   "outputs": [],
   "source": [
    "from keras.layers import Flatten,Dense, Activation\n",
    "from keras.models import Sequential"
   ]
  },
  {
   "cell_type": "code",
   "execution_count": null,
   "metadata": {
    "colab": {
     "autoexec": {
      "startup": false,
      "wait_interval": 0
     }
    },
    "colab_type": "code",
    "id": "UlEHLXVt_r-L"
   },
   "outputs": [],
   "source": [
    "model = Sequential()\n",
    "model.add(Flatten(input_shape=(150,150,3)))\n",
    "model.add(Dense(12))\n",
    "model.add(Activation('softmax'))"
   ]
  },
  {
   "cell_type": "code",
   "execution_count": null,
   "metadata": {
    "colab": {
     "autoexec": {
      "startup": false,
      "wait_interval": 0
     }
    },
    "colab_type": "code",
    "id": "amjQHDzL_sHN"
   },
   "outputs": [],
   "source": [
    "model.compile(loss='categorical_crossentropy',optimizer='sgd', metrics = ['acc'])"
   ]
  },
  {
   "cell_type": "code",
   "execution_count": null,
   "metadata": {
    "colab": {
     "autoexec": {
      "startup": false,
      "wait_interval": 0
     },
     "base_uri": "https://localhost:8080/",
     "height": 377,
     "output_extras": [
      {
       "item_id": 452
      },
      {
       "item_id": 601
      },
      {
       "item_id": 742
      },
      {
       "item_id": 944
      },
      {
       "item_id": 948
      }
     ]
    },
    "colab_type": "code",
    "id": "8sG0SMrc_sKV",
    "outputId": "6963af95-0f87-4b00-a42a-6f5413fcd15f"
   },
   "outputs": [],
   "source": [
    "model.fit_generator(train_generator,\n",
    "                    epochs=10,\n",
    "                    steps_per_epoch= 5515 // 32, \n",
    "                    validation_data=validation_generator, \n",
    "                    validation_steps= 144//32)"
   ]
  },
  {
   "cell_type": "markdown",
   "metadata": {
    "colab_type": "text",
    "id": "bO1SPOMhghU_"
   },
   "source": [
    "# Stack VGG"
   ]
  },
  {
   "cell_type": "code",
   "execution_count": null,
   "metadata": {
    "colab": {
     "autoexec": {
      "startup": false,
      "wait_interval": 0
     },
     "base_uri": "https://localhost:8080/",
     "height": 34,
     "output_extras": [
      {
       "item_id": 1
      }
     ]
    },
    "colab_type": "code",
    "executionInfo": {
     "elapsed": 7754,
     "status": "ok",
     "timestamp": 1522362872699,
     "user": {
      "displayName": "Jannes Klaas",
      "photoUrl": "https://lh3.googleusercontent.com/a/default-user=s128",
      "userId": "115843019312458301179"
     },
     "user_tz": -60
    },
    "id": "31vyuiVWggJw",
    "outputId": "0706779d-6100-46d2-c2d2-b7f7be0c2b88"
   },
   "outputs": [],
   "source": [
    "from keras.applications.vgg16 import VGG16"
   ]
  },
  {
   "cell_type": "code",
   "execution_count": null,
   "metadata": {
    "colab": {
     "autoexec": {
      "startup": false,
      "wait_interval": 0
     },
     "base_uri": "https://localhost:8080/",
     "height": 51,
     "output_extras": [
      {
       "item_id": 7
      }
     ]
    },
    "colab_type": "code",
    "executionInfo": {
     "elapsed": 3290,
     "status": "ok",
     "timestamp": 1522362877031,
     "user": {
      "displayName": "Jannes Klaas",
      "photoUrl": "https://lh3.googleusercontent.com/a/default-user=s128",
      "userId": "115843019312458301179"
     },
     "user_tz": -60
    },
    "id": "iyTpFKVIggZC",
    "outputId": "386fce14-9f40-4c1e-e160-f2b2a014cc91"
   },
   "outputs": [],
   "source": [
    "vgg_model = VGG16(include_top=False,input_shape=(150,150,3))"
   ]
  },
  {
   "cell_type": "code",
   "execution_count": null,
   "metadata": {
    "colab": {
     "autoexec": {
      "startup": false,
      "wait_interval": 0
     },
     "base_uri": "https://localhost:8080/",
     "height": 782,
     "output_extras": [
      {
       "item_id": 1
      }
     ]
    },
    "colab_type": "code",
    "executionInfo": {
     "elapsed": 438,
     "status": "ok",
     "timestamp": 1522362878595,
     "user": {
      "displayName": "Jannes Klaas",
      "photoUrl": "https://lh3.googleusercontent.com/a/default-user=s128",
      "userId": "115843019312458301179"
     },
     "user_tz": -60
    },
    "id": "zz4dQ1OiggcO",
    "outputId": "0d8fc0bb-6ebf-43b0-dfdc-8a534f621e5c"
   },
   "outputs": [],
   "source": [
    "vgg_model.summary()"
   ]
  },
  {
   "cell_type": "code",
   "execution_count": null,
   "metadata": {
    "colab": {
     "autoexec": {
      "startup": false,
      "wait_interval": 0
     }
    },
    "colab_type": "code",
    "id": "h-KG9-BpggfI"
   },
   "outputs": [],
   "source": [
    "for layer in vgg_model.layers:\n",
    "  layer.trainable = False"
   ]
  },
  {
   "cell_type": "code",
   "execution_count": null,
   "metadata": {
    "colab": {
     "autoexec": {
      "startup": false,
      "wait_interval": 0
     }
    },
    "colab_type": "code",
    "id": "3gqgS4dNggkd"
   },
   "outputs": [],
   "source": [
    "finetune = Sequential(layers = vgg_model.layers)"
   ]
  },
  {
   "cell_type": "code",
   "execution_count": null,
   "metadata": {
    "colab": {
     "autoexec": {
      "startup": false,
      "wait_interval": 0
     }
    },
    "colab_type": "code",
    "id": "MNHTpu8KggiK"
   },
   "outputs": [],
   "source": [
    "finetune.add(Flatten())\n",
    "finetune.add(Dense(12))\n",
    "finetune.add(Activation('softmax'))"
   ]
  },
  {
   "cell_type": "code",
   "execution_count": null,
   "metadata": {
    "colab": {
     "autoexec": {
      "startup": false,
      "wait_interval": 0
     },
     "base_uri": "https://localhost:8080/",
     "height": 884,
     "output_extras": [
      {
       "item_id": 1
      }
     ]
    },
    "colab_type": "code",
    "executionInfo": {
     "elapsed": 694,
     "status": "ok",
     "timestamp": 1522362996931,
     "user": {
      "displayName": "Jannes Klaas",
      "photoUrl": "https://lh3.googleusercontent.com/a/default-user=s128",
      "userId": "115843019312458301179"
     },
     "user_tz": -60
    },
    "id": "TyvrmeK9jQJO",
    "outputId": "78b9d3cb-1892-4fbb-ef4b-328ac97363c1"
   },
   "outputs": [],
   "source": [
    "finetune.summary()"
   ]
  },
  {
   "cell_type": "code",
   "execution_count": null,
   "metadata": {
    "colab": {
     "autoexec": {
      "startup": false,
      "wait_interval": 0
     }
    },
    "colab_type": "code",
    "id": "UH1fkTZljegG"
   },
   "outputs": [],
   "source": [
    "finetune.compile(loss='categorical_crossentropy',\n",
    "                 optimizer='adam', \n",
    "                 metrics = ['acc'])"
   ]
  },
  {
   "cell_type": "code",
   "execution_count": null,
   "metadata": {
    "colab": {
     "autoexec": {
      "startup": false,
      "wait_interval": 0
     },
     "base_uri": "https://localhost:8080/",
     "height": 394,
     "output_extras": [
      {
       "item_id": 349
      },
      {
       "item_id": 638
      },
      {
       "item_id": 986
      },
      {
       "item_id": 1321
      },
      {
       "item_id": 1335
      },
      {
       "item_id": 1336
      }
     ]
    },
    "colab_type": "code",
    "executionInfo": {
     "elapsed": 708858,
     "status": "ok",
     "timestamp": 1522049436645,
     "user": {
      "displayName": "Jannes Klaas",
      "photoUrl": "https://lh3.googleusercontent.com/a/default-user=s128",
      "userId": "115843019312458301179"
     },
     "user_tz": -120
    },
    "id": "2oVDGmVwjUlw",
    "outputId": "4afd06a6-03f6-4eb9-b45d-95660fc612de"
   },
   "outputs": [],
   "source": [
    "finetune.fit_generator(train_generator,\n",
    "                    epochs=10,\n",
    "                    steps_per_epoch= 5515 // 32, \n",
    "                    validation_data=validation_generator, \n",
    "                    validation_steps= 144//32)"
   ]
  },
  {
   "cell_type": "markdown",
   "metadata": {
    "colab_type": "text",
    "id": "nEKY80PE6fLj"
   },
   "source": [
    "# Preprocess and Save VGG"
   ]
  },
  {
   "cell_type": "code",
   "execution_count": null,
   "metadata": {
    "colab": {
     "autoexec": {
      "startup": false,
      "wait_interval": 0
     },
     "base_uri": "https://localhost:8080/",
     "height": 207,
     "output_extras": [
      {}
     ]
    },
    "colab_type": "code",
    "executionInfo": {
     "elapsed": 207914,
     "status": "ok",
     "timestamp": 1521994282797,
     "user": {
      "displayName": "Jannes Klaas",
      "photoUrl": "https://lh3.googleusercontent.com/a/default-user=s128",
      "userId": "115843019312458301179"
     },
     "user_tz": -120
    },
    "id": "1T0oFg1b6i49",
    "outputId": "e9b43bd3-032f-41f8-df15-0217c50a416f"
   },
   "outputs": [],
   "source": [
    "!pip install bcolz"
   ]
  },
  {
   "cell_type": "code",
   "execution_count": null,
   "metadata": {
    "colab": {
     "autoexec": {
      "startup": false,
      "wait_interval": 0
     }
    },
    "colab_type": "code",
    "id": "-yxCgT816i8H"
   },
   "outputs": [],
   "source": [
    "import bcolz\n",
    "def save_array(fname, arr): \n",
    "  c=bcolz.carray(arr, rootdir=fname, mode='w')\n",
    "  c.flush()\n",
    "  \n",
    "def load_array(fname): \n",
    "  return bcolz.open(fname)[:]\n"
   ]
  },
  {
   "cell_type": "code",
   "execution_count": null,
   "metadata": {
    "colab": {
     "autoexec": {
      "startup": false,
      "wait_interval": 0
     },
     "base_uri": "https://localhost:8080/",
     "height": 425,
     "output_extras": [
      {},
      {},
      {},
      {},
      {},
      {},
      {},
      {},
      {},
      {},
      {},
      {},
      {},
      {},
      {},
      {},
      {},
      {},
      {},
      {},
      {},
      {},
      {},
      {},
      {}
     ]
    },
    "colab_type": "code",
    "executionInfo": {
     "elapsed": 112423,
     "status": "ok",
     "timestamp": 1521999363659,
     "user": {
      "displayName": "Jannes Klaas",
      "photoUrl": "https://lh3.googleusercontent.com/a/default-user=s128",
      "userId": "115843019312458301179"
     },
     "user_tz": -120
    },
    "id": "IkTbqrHu6jFp",
    "outputId": "236e95a8-10a0-4033-ef7b-1d02d46aa6dd"
   },
   "outputs": [],
   "source": [
    "source = 'train'\n",
    "target = 'train_proc'\n",
    "\n",
    "if not os.path.isdir(target):\n",
    "  os.mkdir(target)\n",
    "\n",
    "for plant in os.listdir(source):\n",
    "  target_path = os.path.join(target,plant)\n",
    "  if not os.path.isdir(target_path):\n",
    "    os.mkdir(target_path)\n",
    "  source_path = os.path.join(source,plant)\n",
    "  print('Processing',plant)\n",
    "  for file in tqdm(os.listdir(source_path)):\n",
    "    img = cv2.imread(os.path.join(source_path,file))\n",
    "    img = cv2.resize(img, (150, 150)) \n",
    "    img = np.expand_dims(img,0)\n",
    "    out = vgg_model.predict(img)\n",
    "    save_array(os.path.join(target_path,file), out)"
   ]
  },
  {
   "cell_type": "code",
   "execution_count": null,
   "metadata": {
    "colab": {
     "autoexec": {
      "startup": false,
      "wait_interval": 0
     },
     "base_uri": "https://localhost:8080/",
     "height": 425,
     "output_extras": [
      {},
      {},
      {},
      {},
      {},
      {},
      {},
      {},
      {},
      {},
      {},
      {},
      {},
      {},
      {},
      {},
      {},
      {},
      {},
      {},
      {},
      {},
      {},
      {},
      {}
     ]
    },
    "colab_type": "code",
    "executionInfo": {
     "elapsed": 3396,
     "status": "ok",
     "timestamp": 1521995969566,
     "user": {
      "displayName": "Jannes Klaas",
      "photoUrl": "https://lh3.googleusercontent.com/a/default-user=s128",
      "userId": "115843019312458301179"
     },
     "user_tz": -120
    },
    "id": "pAT_YqDB6jDv",
    "outputId": "6d77bf23-874e-48d4-b9ec-87376db583f0"
   },
   "outputs": [],
   "source": [
    "source = 'validation'\n",
    "root_dir = 'validation_proc'\n",
    "\n",
    "\n",
    "if not os.path.isdir(root_dir):\n",
    "  os.mkdir(root_dir)\n",
    "\n",
    "for plant in os.listdir(source):\n",
    "  target_path = os.path.join(root_dir,plant)\n",
    "  if not os.path.isdir(target_path):\n",
    "    os.mkdir(target_path)\n",
    "  source_path = os.path.join(source,plant)\n",
    "  print('Processing',plant)\n",
    "  for file in tqdm(os.listdir(source_path)):\n",
    "    img = cv2.imread(os.path.join(source_path,file))\n",
    "    img = cv2.resize(img, (150, 150)) \n",
    "    img = img / 255\n",
    "    img = np.expand_dims(img,0)\n",
    "    out = vgg_model.predict(img)\n",
    "    save_array(os.path.join(target_path,file), out)"
   ]
  },
  {
   "cell_type": "code",
   "execution_count": null,
   "metadata": {
    "colab": {
     "autoexec": {
      "startup": false,
      "wait_interval": 0
     },
     "base_uri": "https://localhost:8080/",
     "height": 34,
     "output_extras": [
      {}
     ]
    },
    "colab_type": "code",
    "executionInfo": {
     "elapsed": 626,
     "status": "ok",
     "timestamp": 1521999808382,
     "user": {
      "displayName": "Jannes Klaas",
      "photoUrl": "https://lh3.googleusercontent.com/a/default-user=s128",
      "userId": "115843019312458301179"
     },
     "user_tz": -120
    },
    "id": "9o71DTI--7Qb",
    "outputId": "96cfd07d-6a79-4b43-8ba0-305f178a592a"
   },
   "outputs": [],
   "source": [
    "ls"
   ]
  },
  {
   "cell_type": "code",
   "execution_count": null,
   "metadata": {
    "colab": {
     "autoexec": {
      "startup": false,
      "wait_interval": 0
     }
    },
    "colab_type": "code",
    "id": "3QrrHRjhii7o"
   },
   "outputs": [],
   "source": [
    "root_dir = 'train_proc'\n",
    "dirs = os.listdir(root_dir)"
   ]
  },
  {
   "cell_type": "code",
   "execution_count": null,
   "metadata": {
    "colab": {
     "autoexec": {
      "startup": false,
      "wait_interval": 0
     }
    },
    "colab_type": "code",
    "id": "Rh-jTIm7kFyz"
   },
   "outputs": [],
   "source": [
    "paths = []\n",
    "targets = []\n",
    "for dir in dirs:\n",
    "  path = os.path.join(root_dir,dir)\n",
    "  for file in os.listdir(path):\n",
    "    if file.endswith(\".png\"):\n",
    "      paths.append(os.path.join(path,file))\n",
    "      targets.append(dir)"
   ]
  },
  {
   "cell_type": "code",
   "execution_count": null,
   "metadata": {
    "colab": {
     "autoexec": {
      "startup": false,
      "wait_interval": 0
     },
     "base_uri": "https://localhost:8080/",
     "height": 34,
     "output_extras": [
      {}
     ]
    },
    "colab_type": "code",
    "executionInfo": {
     "elapsed": 444,
     "status": "ok",
     "timestamp": 1521995516856,
     "user": {
      "displayName": "Jannes Klaas",
      "photoUrl": "https://lh3.googleusercontent.com/a/default-user=s128",
      "userId": "115843019312458301179"
     },
     "user_tz": -120
    },
    "id": "OOGMYiY5evOj",
    "outputId": "77e7567c-5078-4dda-d3f8-79d5a7995212"
   },
   "outputs": [],
   "source": [
    "nclasses = len(np.unique(targets))\n",
    "nitems = len(targets)\n",
    "print('Found {} items belonging to {} classes'.format(nitems,nclasses))"
   ]
  },
  {
   "cell_type": "code",
   "execution_count": null,
   "metadata": {
    "colab": {
     "autoexec": {
      "startup": false,
      "wait_interval": 0
     }
    },
    "colab_type": "code",
    "id": "9mmPLHPOlzYR"
   },
   "outputs": [],
   "source": [
    "labelenc = LabelEncoder()\n",
    "int_targets = labelenc.fit_transform(targets)\n",
    "onehot_enc = OneHotEncoder(sparse=False)\n",
    "int_targets = int_targets.reshape(len(int_targets), 1)\n",
    "onehot_targets = onehot_enc.fit_transform(int_targets)"
   ]
  },
  {
   "cell_type": "code",
   "execution_count": null,
   "metadata": {
    "colab": {
     "autoexec": {
      "startup": false,
      "wait_interval": 0
     }
    },
    "colab_type": "code",
    "id": "OB--47mgdq8l"
   },
   "outputs": [],
   "source": [
    "indices = np.arange(len(paths))\n",
    "np.random.shuffle(indices)"
   ]
  },
  {
   "cell_type": "code",
   "execution_count": null,
   "metadata": {
    "colab": {
     "autoexec": {
      "startup": false,
      "wait_interval": 0
     }
    },
    "colab_type": "code",
    "id": "196Zxg-fAKoo"
   },
   "outputs": [],
   "source": [
    "def bcz_imgen(root_dir, batch_size = 32): \n",
    "  dirs = os.listdir(root_dir)\n",
    "  paths = []\n",
    "  targets = []\n",
    "  for dir in dirs:\n",
    "    path = os.path.join(root_dir,dir)\n",
    "    for file in os.listdir(path):\n",
    "      paths.append(os.path.join(path,file))\n",
    "      targets.append(dir)\n",
    "   \n",
    "  nclasses = len(np.unique(targets))\n",
    "  nitems = len(targets)\n",
    "  \n",
    "  labelenc = LabelEncoder()\n",
    "  int_targets = labelenc.fit_transform(targets)\n",
    "  onehot_enc = OneHotEncoder(sparse=False)\n",
    "  int_targets = int_targets.reshape(len(int_targets), 1)\n",
    "  onehot_targets = onehot_enc.fit_transform(int_targets)\n",
    "  \n",
    "  indices = np.arange(len(paths))\n",
    "  np.random.shuffle(indices)\n",
    "  \n",
    "  while True:\n",
    "    image_stack = []\n",
    "    target_stack = []\n",
    "    for index in indices:\n",
    "      path = paths[index]\n",
    "      target = onehot_targets[index]\n",
    "      img = load_array(path)\n",
    "\n",
    "      image_stack.append(img)\n",
    "      target_stack.append(target)\n",
    "\n",
    "      if len(image_stack) == batch_size:\n",
    "        images = np.concatenate(image_stack,axis=0)\n",
    "\n",
    "        yield images, np.stack(target_stack)\n",
    "        image_stack = []\n",
    "        target_stack = []"
   ]
  },
  {
   "cell_type": "code",
   "execution_count": null,
   "metadata": {
    "colab": {
     "autoexec": {
      "startup": false,
      "wait_interval": 0
     }
    },
    "colab_type": "code",
    "id": "0cgA-7Gw_fVv"
   },
   "outputs": [],
   "source": [
    "train_gen = bcz_imgen('train_proc')\n",
    "val_gen = bcz_imgen('validation_proc')"
   ]
  },
  {
   "cell_type": "code",
   "execution_count": null,
   "metadata": {
    "colab": {
     "autoexec": {
      "startup": false,
      "wait_interval": 0
     }
    },
    "colab_type": "code",
    "id": "TksCiZiN_fbR"
   },
   "outputs": [],
   "source": [
    "yld, tar = next(gen)"
   ]
  },
  {
   "cell_type": "code",
   "execution_count": null,
   "metadata": {
    "colab": {
     "autoexec": {
      "startup": false,
      "wait_interval": 0
     },
     "base_uri": "https://localhost:8080/",
     "height": 34,
     "output_extras": [
      {}
     ]
    },
    "colab_type": "code",
    "executionInfo": {
     "elapsed": 453,
     "status": "ok",
     "timestamp": 1522001197543,
     "user": {
      "displayName": "Jannes Klaas",
      "photoUrl": "https://lh3.googleusercontent.com/a/default-user=s128",
      "userId": "115843019312458301179"
     },
     "user_tz": -120
    },
    "id": "c35QksBqSL3O",
    "outputId": "48724863-af89-429b-eb1d-bec1f76f0469"
   },
   "outputs": [],
   "source": [
    "tar.shape"
   ]
  },
  {
   "cell_type": "code",
   "execution_count": null,
   "metadata": {
    "colab": {
     "autoexec": {
      "startup": false,
      "wait_interval": 0
     }
    },
    "colab_type": "code",
    "id": "tz5uM6sZSL9L"
   },
   "outputs": [],
   "source": [
    "from keras.layers import Conv2D, Dropout\n",
    "model = Sequential()\n",
    "#model.add(Conv2D(256,1,input_shape=(4,4,512)))\n",
    "#model.add(Activation('relu'))\n",
    "#model.add(Dropout(0.5))\n",
    "model.add(Flatten())\n",
    "model.add(Dense(12))\n",
    "model.add(Activation('softmax'))"
   ]
  },
  {
   "cell_type": "code",
   "execution_count": null,
   "metadata": {
    "colab": {
     "autoexec": {
      "startup": false,
      "wait_interval": 0
     }
    },
    "colab_type": "code",
    "id": "x-OKa-luSL6t"
   },
   "outputs": [],
   "source": [
    "model.compile(loss='categorical_crossentropy',\n",
    "              optimizer='adam',\n",
    "              metrics=['acc'])"
   ]
  },
  {
   "cell_type": "code",
   "execution_count": null,
   "metadata": {
    "colab": {
     "autoexec": {
      "startup": false,
      "wait_interval": 0
     },
     "base_uri": "https://localhost:8080/",
     "height": 102,
     "output_extras": [
      {},
      {}
     ]
    },
    "colab_type": "code",
    "executionInfo": {
     "elapsed": 6126,
     "status": "ok",
     "timestamp": 1522001208623,
     "user": {
      "displayName": "Jannes Klaas",
      "photoUrl": "https://lh3.googleusercontent.com/a/default-user=s128",
      "userId": "115843019312458301179"
     },
     "user_tz": -120
    },
    "id": "3eDz-nXKTpq_",
    "outputId": "63feeff2-55a6-4864-b5b1-dc797ea4303d"
   },
   "outputs": [],
   "source": [
    "model.fit_generator(train_gen,\n",
    "                    epochs=2,\n",
    "                    steps_per_epoch= 5515 // 32, \n",
    "                    validation_data=val_gen, \n",
    "                    validation_steps= 144//32)"
   ]
  },
  {
   "cell_type": "code",
   "execution_count": null,
   "metadata": {
    "colab": {
     "autoexec": {
      "startup": false,
      "wait_interval": 0
     }
    },
    "colab_type": "code",
    "id": "oxDaJ65nTpwb"
   },
   "outputs": [],
   "source": []
  },
  {
   "cell_type": "code",
   "execution_count": null,
   "metadata": {
    "colab": {
     "autoexec": {
      "startup": false,
      "wait_interval": 0
     },
     "base_uri": "https://localhost:8080/",
     "height": 221,
     "output_extras": [
      {}
     ]
    },
    "colab_type": "code",
    "executionInfo": {
     "elapsed": 448,
     "status": "ok",
     "timestamp": 1521911420012,
     "user": {
      "displayName": "Jannes Klaas",
      "photoUrl": "https://lh3.googleusercontent.com/a/default-user=s128",
      "userId": "115843019312458301179"
     },
     "user_tz": -60
    },
    "id": "mEfqGdzS1Dtx",
    "outputId": "d898e591-870e-4e40-9f6e-2b7b9b8224ee"
   },
   "outputs": [],
   "source": [
    "os.listdir('train')"
   ]
  },
  {
   "cell_type": "markdown",
   "metadata": {
    "colab_type": "text",
    "id": "8e2aphGQ2ahQ"
   },
   "source": [
    "# Custom Generator"
   ]
  },
  {
   "cell_type": "code",
   "execution_count": null,
   "metadata": {
    "colab": {
     "autoexec": {
      "startup": false,
      "wait_interval": 0
     },
     "base_uri": "https://localhost:8080/",
     "height": 204,
     "output_extras": [
      {}
     ]
    },
    "colab_type": "code",
    "executionInfo": {
     "elapsed": 13186,
     "status": "ok",
     "timestamp": 1522003776673,
     "user": {
      "displayName": "Jannes Klaas",
      "photoUrl": "https://lh3.googleusercontent.com/a/default-user=s128",
      "userId": "115843019312458301179"
     },
     "user_tz": -120
    },
    "id": "6GO57yFRAKr6",
    "outputId": "713d504a-38da-43ef-fa05-643294ce7ba7"
   },
   "outputs": [],
   "source": [
    "!wget https://storage.googleapis.com/aibootcamp/data/plants.zip"
   ]
  },
  {
   "cell_type": "code",
   "execution_count": null,
   "metadata": {
    "colab": {
     "autoexec": {
      "startup": false,
      "wait_interval": 0
     },
     "base_uri": "https://localhost:8080/",
     "height": 102,
     "output_extras": [
      {}
     ]
    },
    "colab_type": "code",
    "executionInfo": {
     "elapsed": 12459,
     "status": "ok",
     "timestamp": 1522003795284,
     "user": {
      "displayName": "Jannes Klaas",
      "photoUrl": "https://lh3.googleusercontent.com/a/default-user=s128",
      "userId": "115843019312458301179"
     },
     "user_tz": -120
    },
    "id": "ZRXCSOcwfoN7",
    "outputId": "23df6316-7399-4db6-a66e-94ce7ae74ae0"
   },
   "outputs": [],
   "source": [
    "!unzip plants.zip"
   ]
  },
  {
   "cell_type": "code",
   "execution_count": null,
   "metadata": {
    "colab": {
     "autoexec": {
      "startup": false,
      "wait_interval": 0
     }
    },
    "colab_type": "code",
    "id": "jfCShnVhfoRn"
   },
   "outputs": [],
   "source": [
    "!unzip plants/train.zip"
   ]
  },
  {
   "cell_type": "markdown",
   "metadata": {
    "colab_type": "text",
    "id": "P492W3QFLTWI"
   },
   "source": [
    "# Rule based preprocessing"
   ]
  },
  {
   "cell_type": "code",
   "execution_count": null,
   "metadata": {
    "colab": {
     "autoexec": {
      "startup": false,
      "wait_interval": 0
     }
    },
    "colab_type": "code",
    "id": "NFoPSz7BfoVM"
   },
   "outputs": [],
   "source": [
    "def cieluv(img, target):\n",
    "    # adapted from https://www.compuphase.com/cmetric.htm\n",
    "    img = img.astype('int')\n",
    "    \n",
    "    aR, aG, aB = img[:,:,0], img[:,:,1], img[:,:,2]\n",
    "    bR, bG, bB = target\n",
    "    \n",
    "    rmean = ((aR + bR) / 2.).astype('int')\n",
    "    r2 = np.square(aR - bR)\n",
    "    g2 = np.square(aG - bG)\n",
    "    b2 = np.square(aB - bB)\n",
    "    \n",
    "    # final sqrt removed for speed; please square your thresholds accordingly\n",
    "    result = (((512+rmean)*r2)>>8) + 4*g2 + (((767-rmean)*b2)>>8)\n",
    "    \n",
    "    return result"
   ]
  },
  {
   "cell_type": "code",
   "execution_count": null,
   "metadata": {
    "colab": {
     "autoexec": {
      "startup": false,
      "wait_interval": 0
     }
    },
    "colab_type": "code",
    "id": "7k_kvyXy6T1X"
   },
   "outputs": [],
   "source": [
    "import matplotlib.pyplot as plt"
   ]
  },
  {
   "cell_type": "code",
   "execution_count": null,
   "metadata": {
    "colab": {
     "autoexec": {
      "startup": false,
      "wait_interval": 0
     }
    },
    "colab_type": "code",
    "id": "Qr8yhgkigT2P"
   },
   "outputs": [],
   "source": [
    "def ocv_imgen(root_dir,batch_size = 32, \n",
    "              rescale = 1/255, \n",
    "              target_size = (150,150)):\n",
    "  dirs = os.listdir(root_dir)\n",
    "  paths = []\n",
    "  targets = []\n",
    "  for dir in dirs:\n",
    "    path = os.path.join(root_dir,dir)\n",
    "    for file in os.listdir(path):\n",
    "      paths.append(os.path.join(path,file))\n",
    "      targets.append(dir)\n",
    "   \n",
    "  nclasses = len(np.unique(targets))\n",
    "  nitems = len(targets)\n",
    "  \n",
    "  labelenc = LabelEncoder()\n",
    "  int_targets = labelenc.fit_transform(targets)\n",
    "  onehot_enc = OneHotEncoder(sparse=False)\n",
    "  int_targets = int_targets.reshape(len(int_targets), 1)\n",
    "  onehot_targets = onehot_enc.fit_transform(int_targets)\n",
    "  \n",
    "  indices = np.arange(len(paths))\n",
    "  np.random.shuffle(indices)\n",
    "  while True:\n",
    "    image_stack = []\n",
    "    target_stack = []\n",
    "    for index in indices:\n",
    "      path = paths[index]\n",
    "      target = onehot_targets[index]\n",
    "      \n",
    "      img = plt.imread(path)\n",
    "      \n",
    "      \n",
    "      img = np.round(img * 255).astype('ubyte')[:,:,:3]\n",
    "      img = cv2.resize(img, (150,150))\n",
    "      img_filter = (\n",
    "        (cieluv(img, (71, 86, 38)) > 1600)\n",
    "        & (cieluv(img, (65,  79,  19)) > 1600)\n",
    "        & (cieluv(img, (95,  106,  56)) > 1600)\n",
    "        & (cieluv(img, (56,  63,  43)) > 500)\n",
    "      )\n",
    "      \n",
    "      img[img_filter] = 0\n",
    "      img = cv2.medianBlur(img, 9)\n",
    "      \n",
    "      image_stack.append(img)\n",
    "      target_stack.append(target)\n",
    "      if len(image_stack) == batch_size:\n",
    "        images = np.stack(image_stack)\n",
    "        images = np.divide(images,rescale)\n",
    "        yield images, np.stack(target_stack)\n",
    "        image_stack = []\n",
    "        target_stack = []"
   ]
  },
  {
   "cell_type": "code",
   "execution_count": null,
   "metadata": {
    "colab": {
     "autoexec": {
      "startup": false,
      "wait_interval": 0
     }
    },
    "colab_type": "code",
    "id": "HZi7UlTxi4MU"
   },
   "outputs": [],
   "source": [
    "train_gen = ocv_imgen('train', batch_size=32)\n",
    "val_gen = ocv_imgen('validation', batch_size=32)"
   ]
  },
  {
   "cell_type": "code",
   "execution_count": null,
   "metadata": {
    "colab": {
     "autoexec": {
      "startup": false,
      "wait_interval": 0
     },
     "base_uri": "https://localhost:8080/",
     "height": 394,
     "output_extras": [
      {
       "item_id": 364
      },
      {
       "item_id": 682
      },
      {
       "item_id": 956
      },
      {
       "item_id": 1223
      },
      {
       "item_id": 1351
      },
      {
       "item_id": 1352
      }
     ]
    },
    "colab_type": "code",
    "executionInfo": {
     "elapsed": 1477152,
     "status": "ok",
     "timestamp": 1522364996551,
     "user": {
      "displayName": "Jannes Klaas",
      "photoUrl": "https://lh3.googleusercontent.com/a/default-user=s128",
      "userId": "115843019312458301179"
     },
     "user_tz": -60
    },
    "id": "b0xoq-9HrKVs",
    "outputId": "c607d5ac-f15e-4d77-dba7-aee5c024a2ce"
   },
   "outputs": [],
   "source": [
    "finetune.fit_generator(train_gen,\n",
    "                    epochs=10,\n",
    "                    steps_per_epoch= 5515 // 32, \n",
    "                    validation_data=val_gen, \n",
    "                    validation_steps= 144//32)"
   ]
  },
  {
   "cell_type": "code",
   "execution_count": null,
   "metadata": {
    "colab": {
     "autoexec": {
      "startup": false,
      "wait_interval": 0
     }
    },
    "colab_type": "code",
    "id": "887knN_MebI6"
   },
   "outputs": [],
   "source": [
    "import matplotlib.pyplot as plt"
   ]
  },
  {
   "cell_type": "code",
   "execution_count": null,
   "metadata": {
    "colab": {
     "autoexec": {
      "startup": false,
      "wait_interval": 0
     }
    },
    "colab_type": "code",
    "id": "oilZypfIi7Sq"
   },
   "outputs": [],
   "source": [
    "a,b = next(gen)"
   ]
  },
  {
   "cell_type": "code",
   "execution_count": null,
   "metadata": {
    "colab": {
     "autoexec": {
      "startup": false,
      "wait_interval": 0
     },
     "base_uri": "https://localhost:8080/",
     "height": 34,
     "output_extras": [
      {}
     ]
    },
    "colab_type": "code",
    "executionInfo": {
     "elapsed": 441,
     "status": "ok",
     "timestamp": 1522006683471,
     "user": {
      "displayName": "Jannes Klaas",
      "photoUrl": "https://lh3.googleusercontent.com/a/default-user=s128",
      "userId": "115843019312458301179"
     },
     "user_tz": -120
    },
    "id": "Ia3Ln8_ri8Ia",
    "outputId": "c959b9f5-0826-49e3-8aad-9dbc31e2fb60"
   },
   "outputs": [],
   "source": [
    "a.shape"
   ]
  },
  {
   "cell_type": "code",
   "execution_count": null,
   "metadata": {
    "colab": {
     "autoexec": {
      "startup": false,
      "wait_interval": 0
     },
     "base_uri": "https://localhost:8080/",
     "height": 557,
     "output_extras": [
      {},
      {}
     ]
    },
    "colab_type": "code",
    "executionInfo": {
     "elapsed": 663,
     "status": "ok",
     "timestamp": 1522006684953,
     "user": {
      "displayName": "Jannes Klaas",
      "photoUrl": "https://lh3.googleusercontent.com/a/default-user=s128",
      "userId": "115843019312458301179"
     },
     "user_tz": -120
    },
    "id": "AAezy4wpebPI",
    "outputId": "405b9bed-89fd-4b90-9da8-92d1b0125280"
   },
   "outputs": [],
   "source": [
    "plt.rcParams['image.cmap'] = 'gray'\n",
    "plt.rcParams['figure.figsize'] = (16, 9)\n",
    "plt.style.use('dark_background')\n",
    "plt.imshow(a[0])"
   ]
  },
  {
   "cell_type": "code",
   "execution_count": null,
   "metadata": {
    "colab": {
     "autoexec": {
      "startup": false,
      "wait_interval": 0
     }
    },
    "colab_type": "code",
    "id": "rqGAPRM0ju3u"
   },
   "outputs": [],
   "source": []
  },
  {
   "cell_type": "markdown",
   "metadata": {
    "colab_type": "text",
    "id": "ILNSpBS96teJ"
   },
   "source": [
    "# Benchmarking generators, not used in book"
   ]
  },
  {
   "cell_type": "code",
   "execution_count": null,
   "metadata": {
    "colab": {
     "autoexec": {
      "startup": false,
      "wait_interval": 0
     },
     "base_uri": "https://localhost:8080/",
     "height": 34,
     "output_extras": [
      {}
     ]
    },
    "colab_type": "code",
    "executionInfo": {
     "elapsed": 113547,
     "status": "ok",
     "timestamp": 1521902468041,
     "user": {
      "displayName": "Jannes Klaas",
      "photoUrl": "https://lh3.googleusercontent.com/a/default-user=s128",
      "userId": "115843019312458301179"
     },
     "user_tz": -60
    },
    "id": "bcEvjZ6Bds3_",
    "outputId": "d8de903c-8cec-4f10-a0a7-ac3a800db284"
   },
   "outputs": [],
   "source": [
    "# Keras generator\n",
    "\n",
    "times = []\n",
    "for i in tqdm(range(1000)):\n",
    "  start = datetime.datetime.now()\n",
    "  dat = next(generator)\n",
    "  end = datetime.datetime.now()\n",
    "  diff = end - start\n",
    "  ms_elapsed = diff.total_seconds() * 1000\n",
    "  times.append(ms_elapsed)\n"
   ]
  },
  {
   "cell_type": "code",
   "execution_count": null,
   "metadata": {
    "colab": {
     "autoexec": {
      "startup": false,
      "wait_interval": 0
     },
     "base_uri": "https://localhost:8080/",
     "height": 282,
     "output_extras": [
      {},
      {}
     ]
    },
    "colab_type": "code",
    "executionInfo": {
     "elapsed": 726,
     "status": "ok",
     "timestamp": 1521902471947,
     "user": {
      "displayName": "Jannes Klaas",
      "photoUrl": "https://lh3.googleusercontent.com/a/default-user=s128",
      "userId": "115843019312458301179"
     },
     "user_tz": -60
    },
    "id": "j30yUHLvf-xP",
    "outputId": "05b21487-50a6-4946-97e8-911c61f02432"
   },
   "outputs": [],
   "source": [
    "sns.distplot(times)"
   ]
  },
  {
   "cell_type": "code",
   "execution_count": null,
   "metadata": {
    "colab": {
     "autoexec": {
      "startup": false,
      "wait_interval": 0
     },
     "base_uri": "https://localhost:8080/",
     "height": 85,
     "output_extras": [
      {}
     ]
    },
    "colab_type": "code",
    "executionInfo": {
     "elapsed": 457,
     "status": "ok",
     "timestamp": 1521902475345,
     "user": {
      "displayName": "Jannes Klaas",
      "photoUrl": "https://lh3.googleusercontent.com/a/default-user=s128",
      "userId": "115843019312458301179"
     },
     "user_tz": -60
    },
    "id": "dRmYXM47dwtG",
    "outputId": "a5dfd383-07b5-4969-df37-d3927de51677"
   },
   "outputs": [],
   "source": [
    "mean_t = np.mean(times)\n",
    "max_t = np.max(times)\n",
    "min_t = np.min(times)\n",
    "std_t = np.std(times)\n",
    "print('Mean time: {:f} \\n Max time: {:f} \\n Min time: {:f} \\n Standard deviation: {:f}'.format(mean_t,max_t,min_t,std_t))"
   ]
  },
  {
   "cell_type": "code",
   "execution_count": null,
   "metadata": {
    "colab": {
     "autoexec": {
      "startup": false,
      "wait_interval": 0
     }
    },
    "colab_type": "code",
    "id": "swJ1LVnE_sNB"
   },
   "outputs": [],
   "source": []
  },
  {
   "cell_type": "code",
   "execution_count": null,
   "metadata": {
    "colab": {
     "autoexec": {
      "startup": false,
      "wait_interval": 0
     },
     "base_uri": "https://localhost:8080/",
     "height": 34,
     "output_extras": [
      {}
     ]
    },
    "colab_type": "code",
    "executionInfo": {
     "elapsed": 74109,
     "status": "ok",
     "timestamp": 1521904757366,
     "user": {
      "displayName": "Jannes Klaas",
      "photoUrl": "https://lh3.googleusercontent.com/a/default-user=s128",
      "userId": "115843019312458301179"
     },
     "user_tz": -60
    },
    "id": "fL18vn-5jIU5",
    "outputId": "bdf60db1-6d46-49b7-89ad-c77c626ec628"
   },
   "outputs": [],
   "source": [
    "# Custom generator\n",
    "times = []\n",
    "for i in tqdm(range(1000)):\n",
    "  start = datetime.datetime.now()\n",
    "  \n",
    "  dat = next(gen)\n",
    "  \n",
    "  end = datetime.datetime.now()\n",
    "  diff = end - start\n",
    "  ms_elapsed = diff.total_seconds() * 1000\n",
    "  times.append(ms_elapsed)\n"
   ]
  },
  {
   "cell_type": "code",
   "execution_count": null,
   "metadata": {
    "colab": {
     "autoexec": {
      "startup": false,
      "wait_interval": 0
     },
     "base_uri": "https://localhost:8080/",
     "height": 286,
     "output_extras": [
      {},
      {}
     ]
    },
    "colab_type": "code",
    "executionInfo": {
     "elapsed": 744,
     "status": "ok",
     "timestamp": 1521904761925,
     "user": {
      "displayName": "Jannes Klaas",
      "photoUrl": "https://lh3.googleusercontent.com/a/default-user=s128",
      "userId": "115843019312458301179"
     },
     "user_tz": -60
    },
    "id": "CxMf18dMjYiX",
    "outputId": "0de4c572-f6ef-4e84-e8a8-485d9e964831"
   },
   "outputs": [],
   "source": [
    "sns.distplot(times)"
   ]
  },
  {
   "cell_type": "code",
   "execution_count": null,
   "metadata": {
    "colab": {
     "autoexec": {
      "startup": false,
      "wait_interval": 0
     },
     "base_uri": "https://localhost:8080/",
     "height": 85,
     "output_extras": [
      {}
     ]
    },
    "colab_type": "code",
    "executionInfo": {
     "elapsed": 442,
     "status": "ok",
     "timestamp": 1521904764964,
     "user": {
      "displayName": "Jannes Klaas",
      "photoUrl": "https://lh3.googleusercontent.com/a/default-user=s128",
      "userId": "115843019312458301179"
     },
     "user_tz": -60
    },
    "id": "NAuaqRZajr1O",
    "outputId": "c3e37914-c083-44ef-9c0f-282dabc4f3fa"
   },
   "outputs": [],
   "source": [
    "mean_t = np.mean(times)\n",
    "max_t = np.max(times)\n",
    "min_t = np.min(times)\n",
    "std_t = np.std(times)\n",
    "print('Mean time: {:f} \\n Max time: {:f} \\n Min time: {:f} \\n Standard deviation: {:f}'.format(mean_t,max_t,min_t,std_t))"
   ]
  },
  {
   "cell_type": "markdown",
   "metadata": {
    "colab_type": "text",
    "id": "X9589Xd2LfmK"
   },
   "source": [
    "# Random Augumentation"
   ]
  },
  {
   "cell_type": "code",
   "execution_count": null,
   "metadata": {
    "colab": {
     "autoexec": {
      "startup": false,
      "wait_interval": 0
     }
    },
    "colab_type": "code",
    "id": "1v4g_IAuLiJi"
   },
   "outputs": [],
   "source": [
    "train_datagen = ImageDataGenerator(\n",
    "  rescale = 1/255,\n",
    "  rotation_range=90,\n",
    "  width_shift_range=0.2,\n",
    "  height_shift_range=0.2,\n",
    "  shear_range=0.2,\n",
    "  zoom_range=0.1,\n",
    "  horizontal_flip=True,\n",
    "  fill_mode='nearest')\n"
   ]
  },
  {
   "cell_type": "code",
   "execution_count": null,
   "metadata": {
    "colab": {
     "autoexec": {
      "startup": false,
      "wait_interval": 0
     }
    },
    "colab_type": "code",
    "id": "hpc1qaAIPtNc"
   },
   "outputs": [],
   "source": [
    "!ls train/Charlock"
   ]
  },
  {
   "cell_type": "code",
   "execution_count": null,
   "metadata": {
    "colab": {
     "autoexec": {
      "startup": false,
      "wait_interval": 0
     }
    },
    "colab_type": "code",
    "id": "olR_eRz9PySj"
   },
   "outputs": [],
   "source": [
    "from keras.preprocessing import image\n",
    "fname = 'train/Charlock/270209308.png'"
   ]
  },
  {
   "cell_type": "code",
   "execution_count": null,
   "metadata": {
    "colab": {
     "autoexec": {
      "startup": false,
      "wait_interval": 0
     }
    },
    "colab_type": "code",
    "id": "nDjcW3dJQATz"
   },
   "outputs": [],
   "source": [
    "img = image.load_img(fname, target_size=(150, 150))"
   ]
  },
  {
   "cell_type": "code",
   "execution_count": null,
   "metadata": {
    "colab": {
     "autoexec": {
      "startup": false,
      "wait_interval": 0
     }
    },
    "colab_type": "code",
    "id": "EYvoGd1jQE5w"
   },
   "outputs": [],
   "source": [
    "img = image.img_to_array(img)"
   ]
  },
  {
   "cell_type": "code",
   "execution_count": null,
   "metadata": {
    "colab": {
     "autoexec": {
      "startup": false,
      "wait_interval": 0
     }
    },
    "colab_type": "code",
    "id": "wIB3vKO3QLUB"
   },
   "outputs": [],
   "source": [
    "img = np.expand_dims(img,axis=0)"
   ]
  },
  {
   "cell_type": "code",
   "execution_count": null,
   "metadata": {
    "colab": {
     "autoexec": {
      "startup": false,
      "wait_interval": 0
     },
     "base_uri": "https://localhost:8080/",
     "height": 1025,
     "output_extras": [
      {
       "item_id": 1
      },
      {
       "item_id": 2
      },
      {
       "item_id": 3
      },
      {
       "item_id": 4
      }
     ]
    },
    "colab_type": "code",
    "executionInfo": {
     "elapsed": 1425,
     "status": "ok",
     "timestamp": 1522050850101,
     "user": {
      "displayName": "Jannes Klaas",
      "photoUrl": "https://lh3.googleusercontent.com/a/default-user=s128",
      "userId": "115843019312458301179"
     },
     "user_tz": -120
    },
    "id": "JCEaOyTuQPJx",
    "outputId": "40fdd4d9-0145-430b-c2ee-2e8aeb3d33ea"
   },
   "outputs": [],
   "source": [
    "import matplotlib.pyplot as plt\n",
    "\n",
    "gen = train_datagen.flow(img, batch_size=1)\n",
    "\n",
    "\n",
    "for i in range(4):\n",
    "    plt.figure(i)\n",
    "    batch = next(gen)\n",
    "    imgplot = plt.imshow(image.array_to_img(batch[0]))\n",
    "    \n",
    "plt.show()"
   ]
  },
  {
   "cell_type": "code",
   "execution_count": null,
   "metadata": {
    "colab": {
     "autoexec": {
      "startup": false,
      "wait_interval": 0
     }
    },
    "colab_type": "code",
    "id": "2GfPYHp_QSXX"
   },
   "outputs": [],
   "source": [
    "train_datagen.flow(img, batch_size=1)"
   ]
  },
  {
   "cell_type": "code",
   "execution_count": null,
   "metadata": {
    "colab": {
     "autoexec": {
      "startup": false,
      "wait_interval": 0
     },
     "base_uri": "https://localhost:8080/",
     "height": 34,
     "output_extras": [
      {
       "item_id": 1
      }
     ]
    },
    "colab_type": "code",
    "executionInfo": {
     "elapsed": 475,
     "status": "ok",
     "timestamp": 1522050748261,
     "user": {
      "displayName": "Jannes Klaas",
      "photoUrl": "https://lh3.googleusercontent.com/a/default-user=s128",
      "userId": "115843019312458301179"
     },
     "user_tz": -120
    },
    "id": "44gg-tQdSvw_",
    "outputId": "5f9a8e10-c60f-47cd-de74-8a8e6d11e166"
   },
   "outputs": [],
   "source": [
    "batch.shape"
   ]
  },
  {
   "cell_type": "code",
   "execution_count": null,
   "metadata": {
    "colab": {
     "autoexec": {
      "startup": false,
      "wait_interval": 0
     },
     "base_uri": "https://localhost:8080/",
     "height": 360,
     "output_extras": [
      {
       "item_id": 6
      }
     ]
    },
    "colab_type": "code",
    "executionInfo": {
     "elapsed": 4418,
     "status": "ok",
     "timestamp": 1522051534632,
     "user": {
      "displayName": "Jannes Klaas",
      "photoUrl": "https://lh3.googleusercontent.com/a/default-user=s128",
      "userId": "115843019312458301179"
     },
     "user_tz": -120
    },
    "id": "JUEW_lZxSndH",
    "outputId": "1f415391-0d5b-4c6d-e6dc-5db3228f31d7"
   },
   "outputs": [],
   "source": [
    "!pip install git+https://github.com/aleju/imgaug"
   ]
  },
  {
   "cell_type": "code",
   "execution_count": null,
   "metadata": {
    "colab": {
     "autoexec": {
      "startup": false,
      "wait_interval": 0
     },
     "base_uri": "https://localhost:8080/",
     "height": 105,
     "output_extras": [
      {
       "item_id": 1
      }
     ]
    },
    "colab_type": "code",
    "executionInfo": {
     "elapsed": 1653,
     "status": "ok",
     "timestamp": 1522056915571,
     "user": {
      "displayName": "Jannes Klaas",
      "photoUrl": "https://lh3.googleusercontent.com/a/default-user=s128",
      "userId": "115843019312458301179"
     },
     "user_tz": -120
    },
    "id": "VvQFgXjdSswi",
    "outputId": "92fb459d-fd88-4a79-ce23-a27666dbe6dd"
   },
   "outputs": [],
   "source": [
    "import imgaug as ia\n",
    "from imgaug import augmenters as iaa\n",
    "import numpy as np\n",
    "\n",
    "ia.seed(1)\n",
    "\n",
    "# Example batch of images.\n",
    "# The array has shape (32, 64, 64, 3) and dtype uint8.\n",
    "images = np.array(\n",
    "    [ia.quokka(size=(64, 64)) for _ in range(32)],\n",
    "    dtype=np.uint8\n",
    ")\n",
    "\n",
    "seq = iaa.Sequential([\n",
    "    iaa.Fliplr(0.5), # horizontal flips\n",
    "    iaa.Crop(percent=(0, 0.1)), # random crops\n",
    "    # Small gaussian blur with random sigma between 0 and 0.5.\n",
    "    # But we only blur about 50% of all images.\n",
    "    iaa.Sometimes(0.5,\n",
    "        iaa.GaussianBlur(sigma=(0, 0.5))\n",
    "    ),\n",
    "    # Strengthen or weaken the contrast in each image.\n",
    "    iaa.ContrastNormalization((0.75, 1.5)),\n",
    "    # Add gaussian noise.\n",
    "    # For 50% of all images, we sample the noise once per pixel.\n",
    "    # For the other 50% of all images, we sample the noise per pixel AND\n",
    "    # channel. This can change the color (not only brightness) of the\n",
    "    # pixels.\n",
    "    iaa.AdditiveGaussianNoise(loc=0, scale=(0.0, 0.05*255), per_channel=0.5),\n",
    "    # Make some images brighter and some darker.\n",
    "    # In 20% of all cases, we sample the multiplier once per channel,\n",
    "    # which can end up changing the color of the images.\n",
    "    iaa.Multiply((0.8, 1.2), per_channel=0.2),\n",
    "    \n",
    "], random_order=True) # apply augmenters in random order\n",
    "\n",
    "images_aug = seq.augment_images(images)"
   ]
  },
  {
   "cell_type": "code",
   "execution_count": null,
   "metadata": {
    "colab": {
     "autoexec": {
      "startup": false,
      "wait_interval": 0
     },
     "base_uri": "https://localhost:8080/",
     "height": 286,
     "output_extras": [
      {
       "item_id": 1
      },
      {
       "item_id": 2
      }
     ]
    },
    "colab_type": "code",
    "executionInfo": {
     "elapsed": 540,
     "status": "ok",
     "timestamp": 1522057069531,
     "user": {
      "displayName": "Jannes Klaas",
      "photoUrl": "https://lh3.googleusercontent.com/a/default-user=s128",
      "userId": "115843019312458301179"
     },
     "user_tz": -120
    },
    "id": "n-2TGlQKqVc-",
    "outputId": "e77e33cf-0793-4a21-f7e2-72f9dc5e9375"
   },
   "outputs": [],
   "source": [
    "batch = seq.augment_images(img)\n",
    "plt.imshow(batch[0])"
   ]
  },
  {
   "cell_type": "code",
   "execution_count": null,
   "metadata": {
    "colab": {
     "autoexec": {
      "startup": false,
      "wait_interval": 0
     },
     "base_uri": "https://localhost:8080/",
     "height": 1025,
     "output_extras": [
      {
       "item_id": 1
      },
      {
       "item_id": 2
      },
      {
       "item_id": 3
      },
      {
       "item_id": 4
      }
     ]
    },
    "colab_type": "code",
    "executionInfo": {
     "elapsed": 1525,
     "status": "ok",
     "timestamp": 1522058306795,
     "user": {
      "displayName": "Jannes Klaas",
      "photoUrl": "https://lh3.googleusercontent.com/a/default-user=s128",
      "userId": "115843019312458301179"
     },
     "user_tz": -120
    },
    "id": "ZZa1X-jxqcEO",
    "outputId": "eafced95-5451-4bd3-bf98-537fc2d23eb3"
   },
   "outputs": [],
   "source": [
    "for i in range(4):\n",
    "    plt.figure(i)\n",
    "    batch = seq.augment_images(img)\n",
    "    imgplot = plt.imshow(image.array_to_img(batch[0]))\n",
    "    \n",
    "plt.show()"
   ]
  },
  {
   "cell_type": "code",
   "execution_count": null,
   "metadata": {
    "colab": {
     "autoexec": {
      "startup": false,
      "wait_interval": 0
     }
    },
    "colab_type": "code",
    "id": "iZwEkuiRvp6J"
   },
   "outputs": [],
   "source": [
    "def ocv_imgen_aug(root_dir,batch_size = 32, \n",
    "                  rescale = 1/255, \n",
    "                  target_size = (150,150)):\n",
    "  \n",
    "  dirs = os.listdir(root_dir)\n",
    "  paths = []\n",
    "  targets = []\n",
    "  for dir in dirs:\n",
    "    path = os.path.join(root_dir,dir)\n",
    "    for file in os.listdir(path):\n",
    "      paths.append(os.path.join(path,file))\n",
    "      targets.append(dir)\n",
    "   \n",
    "  nclasses = len(np.unique(targets))\n",
    "  nitems = len(targets)\n",
    "  \n",
    "  labelenc = LabelEncoder()\n",
    "  int_targets = labelenc.fit_transform(targets)\n",
    "  onehot_enc = OneHotEncoder(sparse=False)\n",
    "  int_targets = int_targets.reshape(len(int_targets), 1)\n",
    "  onehot_targets = onehot_enc.fit_transform(int_targets)\n",
    "  \n",
    "  indices = np.arange(len(paths))\n",
    "  np.random.shuffle(indices)\n",
    "  while True:\n",
    "    image_stack = []\n",
    "    target_stack = []\n",
    "    for index in indices:\n",
    "      path = paths[index]\n",
    "      target = onehot_targets[index]\n",
    "      \n",
    "      img = cv2.imread(path)\n",
    "      img = cv2.resize(img, (150,150))\n",
    "      \n",
    "  \n",
    "      \n",
    "      image_stack.append(img)\n",
    "      target_stack.append(target)\n",
    "      if len(image_stack) == batch_size:\n",
    "        images = np.stack(image_stack)\n",
    "        \n",
    "        images = seq.augment_images(images)\n",
    "        \n",
    "        images = np.divide(images,rescale)\n",
    "        yield images, np.stack(target_stack)\n",
    "        image_stack = []\n",
    "        target_stack = []"
   ]
  },
  {
   "cell_type": "code",
   "execution_count": null,
   "metadata": {
    "colab": {
     "autoexec": {
      "startup": false,
      "wait_interval": 0
     }
    },
    "colab_type": "code",
    "id": "71CxaqbHxS3r"
   },
   "outputs": [],
   "source": [
    "gen = ocv_imgen_aug('train')"
   ]
  },
  {
   "cell_type": "code",
   "execution_count": null,
   "metadata": {
    "colab": {
     "autoexec": {
      "startup": false,
      "wait_interval": 0
     }
    },
    "colab_type": "code",
    "id": "fFZG7nsmxXSL"
   },
   "outputs": [],
   "source": [
    "a, b = next(gen)"
   ]
  },
  {
   "cell_type": "code",
   "execution_count": null,
   "metadata": {
    "colab": {
     "autoexec": {
      "startup": false,
      "wait_interval": 0
     },
     "base_uri": "https://localhost:8080/",
     "height": 286,
     "output_extras": [
      {
       "item_id": 1
      },
      {
       "item_id": 2
      }
     ]
    },
    "colab_type": "code",
    "executionInfo": {
     "elapsed": 539,
     "status": "ok",
     "timestamp": 1522058885881,
     "user": {
      "displayName": "Jannes Klaas",
      "photoUrl": "https://lh3.googleusercontent.com/a/default-user=s128",
      "userId": "115843019312458301179"
     },
     "user_tz": -120
    },
    "id": "-y3aaszrxY-7",
    "outputId": "b7fdcc74-7ef6-4332-b40b-c0f4ca4c70f6"
   },
   "outputs": [],
   "source": [
    "plt.imshow(a[2])"
   ]
  },
  {
   "cell_type": "code",
   "execution_count": null,
   "metadata": {
    "colab": {
     "autoexec": {
      "startup": false,
      "wait_interval": 0
     }
    },
    "colab_type": "code",
    "id": "I_zwoNp4mXIH"
   },
   "outputs": [],
   "source": [
    "import numpy as np\n",
    "\n",
    "from keras.applications.vgg16 import VGG16\n",
    "from keras import backend as K\n"
   ]
  },
  {
   "cell_type": "code",
   "execution_count": null,
   "metadata": {
    "colab": {
     "autoexec": {
      "startup": false,
      "wait_interval": 0
     }
    },
    "colab_type": "code",
    "id": "p0OBC6UnmXEz"
   },
   "outputs": [],
   "source": [
    "# dimensions of the generated pictures for each filter.\n",
    "img_width = 224\n",
    "img_height = 224\n",
    "\n",
    "\n",
    "layer_name = 'block1_conv1'\n",
    "\n",
    "# For conv layers\n",
    "filter_index = 0\n",
    "\n",
    "# For final layer\n",
    "output_index = 184"
   ]
  },
  {
   "cell_type": "code",
   "execution_count": null,
   "metadata": {
    "colab": {
     "autoexec": {
      "startup": false,
      "wait_interval": 0
     },
     "base_uri": "https://localhost:8080/",
     "height": 935,
     "output_extras": [
      {
       "item_id": 1
      }
     ]
    },
    "colab_type": "code",
    "executionInfo": {
     "elapsed": 2555,
     "status": "ok",
     "timestamp": 1522095012683,
     "user": {
      "displayName": "Jannes Klaas",
      "photoUrl": "https://lh3.googleusercontent.com/a/default-user=s128",
      "userId": "115843019312458301179"
     },
     "user_tz": -120
    },
    "id": "aS2hcgvcmW8o",
    "outputId": "c0a6435e-3b5b-4718-cecf-a3f3b581bfe6"
   },
   "outputs": [],
   "source": [
    "# build the VGG16 network with ImageNet weights\n",
    "model = VGG16(weights='imagenet')\n",
    "print('Model loaded.')\n",
    "\n",
    "model.summary()\n"
   ]
  },
  {
   "cell_type": "code",
   "execution_count": null,
   "metadata": {
    "colab": {
     "autoexec": {
      "startup": false,
      "wait_interval": 0
     }
    },
    "colab_type": "code",
    "id": "jCv_9D_omjvi"
   },
   "outputs": [],
   "source": [
    "# get the symbolic outputs of each \"key\" layer (we gave them unique names).\n",
    "layer_dict = dict([(layer.name, layer) for layer in model.layers[1:]])"
   ]
  },
  {
   "cell_type": "code",
   "execution_count": null,
   "metadata": {
    "colab": {
     "autoexec": {
      "startup": false,
      "wait_interval": 0
     }
    },
    "colab_type": "code",
    "id": "qkvMIFoWnUfr"
   },
   "outputs": [],
   "source": [
    "def normalize(x):\n",
    "    # utility function to normalize a tensor by its L2 norm\n",
    "    return x / (K.sqrt(K.mean(K.square(x))) + K.epsilon())"
   ]
  },
  {
   "cell_type": "code",
   "execution_count": null,
   "metadata": {
    "colab": {
     "autoexec": {
      "startup": false,
      "wait_interval": 0
     },
     "base_uri": "https://localhost:8080/",
     "height": 34,
     "output_extras": [
      {
       "item_id": 1
      }
     ]
    },
    "colab_type": "code",
    "executionInfo": {
     "elapsed": 464,
     "status": "ok",
     "timestamp": 1522095469842,
     "user": {
      "displayName": "Jannes Klaas",
      "photoUrl": "https://lh3.googleusercontent.com/a/default-user=s128",
      "userId": "115843019312458301179"
     },
     "user_tz": -120
    },
    "id": "ut3U34YSmvoy",
    "outputId": "82714464-2376-4a0f-a6c4-9250d30b79c5"
   },
   "outputs": [],
   "source": [
    "print('Processing filter %d' % filter_index)\n",
    "\n",
    "\n",
    "# we build a loss function that maximizes the activation\n",
    "# of the nth filter of the layer considered\n",
    "layer_output = layer_dict[layer_name].output\n",
    "\n",
    "# Uncomment for outputs\n",
    "loss = K.mean(model.output[:, output_index])\n",
    "\n",
    "\n",
    "#Uncomment for Conv Layers\n",
    "#loss = K.mean(layer_output[:, :, :, filter_index])\n",
    "\n",
    "\n",
    "# this is the placeholder for the input images\n",
    "input_img = model.input\n",
    "# we compute the gradient of the input picture wrt this loss\n",
    "grads = K.gradients(loss, input_img)[0]\n",
    "\n",
    "\n",
    "\n",
    "# normalization trick: we normalize the gradient\n",
    "grads = normalize(grads)\n",
    "\n",
    "\n",
    "\n",
    "# this function returns the loss and grads given the input picture\n",
    "iterate = K.function([input_img], [loss, grads])\n",
    "\n",
    "\n"
   ]
  },
  {
   "cell_type": "code",
   "execution_count": null,
   "metadata": {
    "colab": {
     "autoexec": {
      "startup": false,
      "wait_interval": 0
     }
    },
    "colab_type": "code",
    "id": "cLCuFNyOm0Il"
   },
   "outputs": [],
   "source": [
    "input_img_data = np.random.rand(1,img_height,img_width,3)"
   ]
  },
  {
   "cell_type": "code",
   "execution_count": null,
   "metadata": {
    "colab": {
     "autoexec": {
      "startup": false,
      "wait_interval": 0
     },
     "base_uri": "https://localhost:8080/",
     "height": 8517,
     "output_extras": [
      {
       "item_id": 38
      },
      {
       "item_id": 51
      },
      {
       "item_id": 62
      },
      {
       "item_id": 65
      }
     ]
    },
    "colab_type": "code",
    "executionInfo": {
     "elapsed": 31818,
     "status": "ok",
     "timestamp": 1522095855410,
     "user": {
      "displayName": "Jannes Klaas",
      "photoUrl": "https://lh3.googleusercontent.com/a/default-user=s128",
      "userId": "115843019312458301179"
     },
     "user_tz": -120
    },
    "id": "N0_EmZCsm4Ke",
    "outputId": "37e65b7b-f3b2-4771-c900-a618482ae464"
   },
   "outputs": [],
   "source": [
    "# step size for gradient ascent\n",
    "alpha = 0.01\n",
    "\n",
    "\n",
    "# we run gradient ascent for 20 steps\n",
    "for i in range(500):\n",
    "    loss_value, grads_value = iterate([input_img_data])\n",
    "    input_img_data += grads_value * alpha\n",
    "\n",
    "    print('Current loss value:', loss_value)\n",
    "    if loss_value <= 0.:\n",
    "        # some filters get stuck to 0, we can skip them\n",
    "        print('warning zero loss')\n",
    "        break"
   ]
  },
  {
   "cell_type": "code",
   "execution_count": null,
   "metadata": {
    "colab": {
     "autoexec": {
      "startup": false,
      "wait_interval": 0
     }
    },
    "colab_type": "code",
    "id": "RY7Yb0HpmXAK"
   },
   "outputs": [],
   "source": [
    "def deprocess_image(x):\n",
    "    # normalize tensor: center on 0., ensure std is 0.1\n",
    "    x -= x.mean()\n",
    "    x /= (x.std() + K.epsilon())\n",
    "    x *= 0.1\n",
    "\n",
    "    # clip to [0, 1]\n",
    "    x += 0.5\n",
    "    x = np.clip(x, 0, 1)\n",
    "\n",
    "    # convert to RGB array\n",
    "    x *= 255\n",
    "    \n",
    "    x = np.clip(x, 0, 255).astype('uint8')\n",
    "    return x"
   ]
  },
  {
   "cell_type": "code",
   "execution_count": null,
   "metadata": {
    "colab": {
     "autoexec": {
      "startup": false,
      "wait_interval": 0
     }
    },
    "colab_type": "code",
    "id": "g1LuUcqPkcaX"
   },
   "outputs": [],
   "source": [
    "img = deprocess_image(input_img_data[0])\n",
    "    "
   ]
  },
  {
   "cell_type": "code",
   "execution_count": null,
   "metadata": {
    "colab": {
     "autoexec": {
      "startup": false,
      "wait_interval": 0
     },
     "base_uri": "https://localhost:8080/",
     "height": 594,
     "output_extras": [
      {
       "item_id": 1
      }
     ]
    },
    "colab_type": "code",
    "executionInfo": {
     "elapsed": 1382,
     "status": "ok",
     "timestamp": 1522095894014,
     "user": {
      "displayName": "Jannes Klaas",
      "photoUrl": "https://lh3.googleusercontent.com/a/default-user=s128",
      "userId": "115843019312458301179"
     },
     "user_tz": -120
    },
    "id": "nDgM26B2lXwS",
    "outputId": "23e69733-ab99-4a2c-8a79-16c92bcd4b79"
   },
   "outputs": [],
   "source": [
    "import matplotlib.pyplot as plt\n",
    "plt.style.use(['dark_background'])\n",
    "fig = plt.figure(figsize=(10,10))\n",
    "ax = fig.add_subplot(111) \n",
    "plt.imshow(img)\n",
    "ax.grid(False)"
   ]
  },
  {
   "cell_type": "code",
   "execution_count": null,
   "metadata": {
    "colab": {
     "autoexec": {
      "startup": false,
      "wait_interval": 0
     }
    },
    "colab_type": "code",
    "id": "46ejD1tmlcII"
   },
   "outputs": [],
   "source": [
    "from scipy.misc import imsave"
   ]
  },
  {
   "cell_type": "code",
   "execution_count": null,
   "metadata": {
    "colab": {
     "autoexec": {
      "startup": false,
      "wait_interval": 0
     }
    },
    "colab_type": "code",
    "id": "yYOKqIhWl9CE"
   },
   "outputs": [],
   "source": [
    "imsave('test.png',img)"
   ]
  },
  {
   "cell_type": "code",
   "execution_count": null,
   "metadata": {
    "colab": {
     "autoexec": {
      "startup": false,
      "wait_interval": 0
     },
     "base_uri": "https://localhost:8080/",
     "height": 51,
     "output_extras": [
      {
       "item_id": 1
      }
     ]
    },
    "colab_type": "code",
    "executionInfo": {
     "elapsed": 643,
     "status": "ok",
     "timestamp": 1522072568595,
     "user": {
      "displayName": "Jannes Klaas",
      "photoUrl": "https://lh3.googleusercontent.com/a/default-user=s128",
      "userId": "115843019312458301179"
     },
     "user_tz": -120
    },
    "id": "hs4TuGMymDVI",
    "outputId": "8f86c873-ce45-4225-af0a-b6bf1a32bd14"
   },
   "outputs": [],
   "source": [
    "!ls"
   ]
  },
  {
   "cell_type": "code",
   "execution_count": null,
   "metadata": {
    "colab": {
     "autoexec": {
      "startup": false,
      "wait_interval": 0
     }
    },
    "colab_type": "code",
    "id": "Ig_uZxJ4mEAg"
   },
   "outputs": [],
   "source": []
  },
  {
   "cell_type": "code",
   "execution_count": null,
   "metadata": {
    "colab": {
     "autoexec": {
      "startup": false,
      "wait_interval": 0
     }
    },
    "colab_type": "code",
    "id": "5u8X26aVmHA0"
   },
   "outputs": [],
   "source": [
    "from google.colab import files\n",
    "\n",
    "\n",
    "files.download('test.png')"
   ]
  },
  {
   "cell_type": "code",
   "execution_count": null,
   "metadata": {
    "colab": {
     "autoexec": {
      "startup": false,
      "wait_interval": 0
     }
    },
    "colab_type": "code",
    "id": "wQq_5VBkpThg"
   },
   "outputs": [],
   "source": []
  }
 ],
 "metadata": {
  "accelerator": "GPU",
  "colab": {
   "collapsed_sections": [],
   "default_view": {},
   "name": "Generator timing.ipynb",
   "provenance": [],
   "version": "0.3.2",
   "views": {}
  },
  "kernelspec": {
   "display_name": "Python 3",
   "language": "python",
   "name": "python3"
  },
  "language_info": {
   "codemirror_mode": {
    "name": "ipython",
    "version": 3
   },
   "file_extension": ".py",
   "mimetype": "text/x-python",
   "name": "python",
   "nbconvert_exporter": "python",
   "pygments_lexer": "ipython3",
   "version": "3.7.3"
  }
 },
 "nbformat": 4,
 "nbformat_minor": 1
}
