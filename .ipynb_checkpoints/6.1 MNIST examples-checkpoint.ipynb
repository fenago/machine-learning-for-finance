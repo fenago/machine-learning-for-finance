{
 "cells": [
  {
   "cell_type": "code",
   "execution_count": null,
   "metadata": {
    "_cell_guid": "21830c4b-3f47-4a7f-9697-95c05419871d",
    "_uuid": "6d170584ce2dcc8ddc7d555c52e00c637810bd42"
   },
   "outputs": [],
   "source": [
    "import numpy as np\n",
    "import matplotlib.pyplot as plt"
   ]
  },
  {
   "cell_type": "code",
   "execution_count": null,
   "metadata": {
    "_cell_guid": "0aa7d1cd-9c1e-494d-a5a1-56e7d8f6ffca",
    "_uuid": "dbfd497e8ca31e01cb32a8e395be7568f2c8b64b"
   },
   "outputs": [],
   "source": [
    "# Ensure results are reproducable\n",
    "from numpy.random import seed\n",
    "seed(1)\n",
    "from tensorflow import set_random_seed\n",
    "set_random_seed(2)"
   ]
  },
  {
   "cell_type": "code",
   "execution_count": null,
   "metadata": {
    "_cell_guid": "27f99be4-d278-4b40-a6cd-6eac99f29198",
    "_uuid": "a197bd7e470a98cf0542005a10db6369affb9e8c"
   },
   "outputs": [],
   "source": [
    "def mnist_load_data(path='mnist.npz'):\n",
    "    with np.load(path) as f:\n",
    "        x_train, y_train = f['x_train'], f['y_train']\n",
    "        x_test, y_test = f['x_test'], f['y_test']\n",
    "    return (x_train, y_train), (x_test, y_test)\n",
    "        \n",
    "\n",
    "(X_train, y_train), (X_test, y_test) = mnist_load_data(path='../input/mnist.npz')"
   ]
  },
  {
   "cell_type": "code",
   "execution_count": null,
   "metadata": {
    "_cell_guid": "65c1a879-f719-4b08-be79-4272be794c20",
    "_uuid": "3fe506f3b81e8d5aeb556f4ca78c7c9d5eb7e01c"
   },
   "outputs": [],
   "source": [
    "X_train = X_train.astype('float32') / 255.\n",
    "X_test = X_test.astype('float32') / 255."
   ]
  },
  {
   "cell_type": "code",
   "execution_count": null,
   "metadata": {
    "_cell_guid": "cd701e9e-952b-4e94-a460-566a01c40903",
    "_uuid": "5609dd8f1788af46098d9c786b1047dcfcc95bdb"
   },
   "outputs": [],
   "source": [
    "plt.imshow(X_test[0])"
   ]
  },
  {
   "cell_type": "code",
   "execution_count": null,
   "metadata": {
    "_cell_guid": "9dfd1c24-c1fd-40b2-ad68-67a6bf031d7c",
    "_uuid": "2340ec54c0c740174baf46db68b090a4915ae023"
   },
   "outputs": [],
   "source": [
    "from keras.layers import Input, Dense\n",
    "from keras.models import Model\n",
    "\n",
    "# this is the size of our encoded representations\n",
    "encoding_dim = 32  # 32 floats -> compression of factor 24.5, assuming the input is 784 floats\n",
    "\n",
    "# this is our input placeholder\n",
    "input_img = Input(shape=(784,))\n",
    "# \"encoded\" is the encoded representation of the input\n",
    "encoded = Dense(encoding_dim, activation='relu')(input_img)\n",
    "# \"decoded\" is the lossy reconstruction of the input\n",
    "decoded = Dense(784, activation='sigmoid')(encoded)\n",
    "\n",
    "# this model maps an input to its reconstruction\n",
    "autoencoder = Model(input_img, decoded)"
   ]
  },
  {
   "cell_type": "code",
   "execution_count": null,
   "metadata": {
    "_uuid": "802f400e8bdf0aba00bc3a5a97ccf32b0b23a8b8"
   },
   "outputs": [],
   "source": [
    "from keras.utils import plot_model\n",
    "plot_model(autoencoder, to_file='model.png', show_shapes=True)\n",
    "plt.figure(figsize=(10,10))\n",
    "plt.imshow(plt.imread('model.png'))"
   ]
  },
  {
   "cell_type": "code",
   "execution_count": null,
   "metadata": {
    "_cell_guid": "28b28eb7-ab0a-47d0-b802-8d21e31e464f",
    "_uuid": "bea5dced59e6a74ec2ec205bb5f10510ec1e1472"
   },
   "outputs": [],
   "source": [
    "# this model maps an input to its encoded representation\n",
    "encoder = Model(input_img, encoded)"
   ]
  },
  {
   "cell_type": "code",
   "execution_count": null,
   "metadata": {
    "_cell_guid": "7ec50d66-e7cb-437f-b6bb-c727113ba2a7",
    "_uuid": "b011eba420a8ebef932f3dfce3e95b58cd37788d"
   },
   "outputs": [],
   "source": [
    "# create a placeholder for an encoded (32-dimensional) input\n",
    "encoded_input = Input(shape=(encoding_dim,))\n",
    "# retrieve the last layer of the autoencoder model\n",
    "decoder_layer = autoencoder.layers[-1]\n",
    "# create the decoder model\n",
    "decoder = Model(encoded_input, decoder_layer(encoded_input))"
   ]
  },
  {
   "cell_type": "code",
   "execution_count": null,
   "metadata": {
    "_cell_guid": "72018a5e-ba7c-4204-a0da-4e74816635d5",
    "_uuid": "4ddd442c4abd7504aeb7d3b18479342751458309"
   },
   "outputs": [],
   "source": [
    "X_train_flat = X_train.reshape((len(X_train), np.prod(X_train.shape[1:])))\n",
    "X_test_flat = X_test.reshape((len(X_test), np.prod(X_test.shape[1:])))\n",
    "print(X_train_flat.shape)\n",
    "print(X_test_flat.shape)"
   ]
  },
  {
   "cell_type": "code",
   "execution_count": null,
   "metadata": {
    "_cell_guid": "d204cb0a-270f-4703-8d0e-580164e4b015",
    "_uuid": "aabe441f9ded49bb70a32c9cdf2d3682e20370d3"
   },
   "outputs": [],
   "source": [
    "autoencoder.compile(optimizer='adadelta', loss='binary_crossentropy')"
   ]
  },
  {
   "cell_type": "code",
   "execution_count": null,
   "metadata": {
    "_cell_guid": "26b92141-2632-4221-850a-5ae2055a1928",
    "_uuid": "23f7c371afb9c9ac0db39fd41a383c56cb37da2d"
   },
   "outputs": [],
   "source": [
    "autoencoder.fit(X_train_flat, X_train_flat,\n",
    "                epochs=50,\n",
    "                batch_size=256,\n",
    "                shuffle=True,\n",
    "                validation_data=(X_test_flat, X_test_flat))"
   ]
  },
  {
   "cell_type": "code",
   "execution_count": null,
   "metadata": {
    "_cell_guid": "266da819-0d1e-47ef-b638-8c31de72d0f0",
    "_uuid": "fb7787cf702f90fa6ce428dc6ed78d147bb6d1e3"
   },
   "outputs": [],
   "source": [
    "original = np.expand_dims(X_test_flat[0],0)\n",
    "seven = autoencoder.predict(original)"
   ]
  },
  {
   "cell_type": "code",
   "execution_count": null,
   "metadata": {
    "_cell_guid": "8a9c98f7-dc26-4b5b-8560-b69f8d1367e3",
    "_uuid": "c49e70475499522d1b92cbb410116a86b1941733"
   },
   "outputs": [],
   "source": [
    "seven = seven.reshape(1,28,28)"
   ]
  },
  {
   "cell_type": "code",
   "execution_count": null,
   "metadata": {
    "_cell_guid": "a7c617b0-182d-4b4a-8866-ba29d9a77282",
    "_uuid": "7191a54197d25eef483bf5b923be84c562098e00"
   },
   "outputs": [],
   "source": [
    "original = original.reshape(1,28,28)"
   ]
  },
  {
   "cell_type": "code",
   "execution_count": null,
   "metadata": {
    "_cell_guid": "c8a9a80e-3ad0-47fc-a48c-f73e259dcfb8",
    "_uuid": "511f6f026a4c32d15a7dbf03af70b862a21e0018"
   },
   "outputs": [],
   "source": [
    "fig = plt.figure(figsize=(7, 10))\n",
    "a=fig.add_subplot(1,2,1)\n",
    "a.set_title('Original')\n",
    "imgplot = plt.imshow(original[0,:,:])\n",
    "\n",
    "b=fig.add_subplot(1,2,2)\n",
    "b.set_title('Autoencoder')\n",
    "imgplot = plt.imshow(seven[0,:,:])"
   ]
  },
  {
   "cell_type": "markdown",
   "metadata": {
    "_cell_guid": "e6da03db-00cf-4203-b5a5-bf52f93db0db",
    "_uuid": "b28a0d516d4f851f4b3751dc59b8d35ae265ca5f"
   },
   "source": [
    "# VAE"
   ]
  },
  {
   "cell_type": "code",
   "execution_count": null,
   "metadata": {
    "_cell_guid": "79c7e3d0-c299-4dcb-8224-4455121ee9b0",
    "_uuid": "d629ff2d2480ee46fbb7e2d37f6b5fab8052498a"
   },
   "outputs": [],
   "source": [
    "import numpy as np\n",
    "import matplotlib.pyplot as plt\n",
    "#from scipy.stats import norm\n",
    "\n",
    "from keras.layers import Input, Dense, Lambda\n",
    "from keras.models import Model\n",
    "from keras import backend as K\n",
    "from keras import metrics"
   ]
  },
  {
   "cell_type": "code",
   "execution_count": null,
   "metadata": {
    "_cell_guid": "2b9d51b1-f9a6-4a4e-8802-3f18a4b867b4",
    "_uuid": "4d25a45182ad846782f201521e304dd3941a0922"
   },
   "outputs": [],
   "source": [
    "batch_size = 100\n",
    "original_dim = 784\n",
    "latent_dim = 32\n",
    "intermediate_dim = 256\n",
    "epochs = 50\n",
    "epsilon_std = 1.0"
   ]
  },
  {
   "cell_type": "code",
   "execution_count": null,
   "metadata": {
    "_cell_guid": "73c11906-ac31-458b-b51f-f129869a8884",
    "_uuid": "4a26674b0946a0a84241b19c023b277929bdc3ce"
   },
   "outputs": [],
   "source": [
    "x = Input(shape=(original_dim,))\n",
    "h = Dense(intermediate_dim, activation='relu')(x)\n",
    "z_mean = Dense(latent_dim)(h)\n",
    "z_log_var = Dense(latent_dim)(h)"
   ]
  },
  {
   "cell_type": "code",
   "execution_count": null,
   "metadata": {
    "_cell_guid": "e8f2325c-90bf-429a-937e-52eaf755146a",
    "_uuid": "acbf98a32f2da0c14cf19bf74e26e9e4677e6586"
   },
   "outputs": [],
   "source": [
    "def sampling(args):\n",
    "    z_mean, z_log_var = args\n",
    "    epsilon = K.random_normal(shape=(K.shape(z_mean)[0], latent_dim), mean=0.,\n",
    "                              stddev=epsilon_std)\n",
    "    return z_mean + K.exp(z_log_var / 2) * epsilon"
   ]
  },
  {
   "cell_type": "code",
   "execution_count": null,
   "metadata": {
    "_cell_guid": "75b19cd0-e9bb-486a-826a-f553a655f472",
    "_uuid": "a54430ccc010ea7deb7fe1a08fc156ea93bde41d"
   },
   "outputs": [],
   "source": [
    "# note that \"output_shape\" isn't necessary with the TensorFlow backend\n",
    "z = Lambda(sampling)([z_mean, z_log_var])"
   ]
  },
  {
   "cell_type": "code",
   "execution_count": null,
   "metadata": {
    "_cell_guid": "e3bc9deb-50c4-48bc-8cab-6fcdd2bc1cdf",
    "_uuid": "4f40029827608bc289328ec5a94a3e913a6e5e45"
   },
   "outputs": [],
   "source": [
    "# we instantiate these layers separately so as to reuse them later\n",
    "h_decoded = Dense(intermediate_dim, activation='relu')(z)\n",
    "\n",
    "x_decoded = Dense(original_dim, activation='sigmoid')(h_decoded)"
   ]
  },
  {
   "cell_type": "code",
   "execution_count": null,
   "metadata": {
    "_cell_guid": "4f40c339-bbe7-4225-96d3-ea4986e2b663",
    "_uuid": "53ce840a87f49bbcb3906a6a4597754f23e14a7d"
   },
   "outputs": [],
   "source": [
    "# instantiate VAE model\n",
    "vae = Model(x, x_decoded)"
   ]
  },
  {
   "cell_type": "code",
   "execution_count": null,
   "metadata": {
    "_cell_guid": "6ca1311f-bd97-41ef-b11f-6c177f5bb01d",
    "_uuid": "a5959f2c4a4c1e99243dc9c04de640e78a818320"
   },
   "outputs": [],
   "source": [
    "# Compute VAE loss\n",
    "reconstruction_loss = original_dim * metrics.binary_crossentropy(x, x_decoded)\n",
    "kl_loss = - 0.5 * K.sum(1 + z_log_var - K.square(z_mean) - K.exp(z_log_var), axis=-1)\n",
    "vae_loss = K.mean(reconstruction_loss + kl_loss)"
   ]
  },
  {
   "cell_type": "code",
   "execution_count": null,
   "metadata": {
    "_cell_guid": "c9c24ff9-ebd8-4bcc-9b66-4721e0b3ca6f",
    "_uuid": "9838fd084a881c1e3bbc4627ba0e107d2731e03d"
   },
   "outputs": [],
   "source": [
    "vae.add_loss(vae_loss)\n",
    "vae.compile(optimizer='rmsprop')\n",
    "vae.summary()"
   ]
  },
  {
   "cell_type": "code",
   "execution_count": null,
   "metadata": {
    "_cell_guid": "fdc3fea6-6af7-4736-a345-d686a159158e",
    "_uuid": "9c9d4173646a9c3936a3f72902c1081c5a9e96df"
   },
   "outputs": [],
   "source": [
    "vae.fit(X_train_flat,\n",
    "        shuffle=True,\n",
    "        epochs=epochs,\n",
    "        batch_size=batch_size,\n",
    "        validation_data=(X_test_flat, None))"
   ]
  },
  {
   "cell_type": "code",
   "execution_count": null,
   "metadata": {
    "_cell_guid": "7e794937-526c-4bd6-a2e7-4ae25fc470aa",
    "_uuid": "dcce46bb299521cbc13929527ff480fded47340e"
   },
   "outputs": [],
   "source": [
    "one_seven = X_test_flat[0]"
   ]
  },
  {
   "cell_type": "code",
   "execution_count": null,
   "metadata": {
    "_cell_guid": "205a9a27-0369-4e6f-b804-426125e1dca5",
    "_uuid": "2cde45e88b576f56b6cb51c0e9ef4ae45ae9e2c9"
   },
   "outputs": [],
   "source": [
    "one_seven = np.expand_dims(one_seven,0)"
   ]
  },
  {
   "cell_type": "code",
   "execution_count": null,
   "metadata": {
    "_cell_guid": "31cd32dc-bf0f-4052-b209-c80df787b273",
    "_uuid": "7c3e1d3b3c304037dd7a6ba1ed010c9a0c75bfd1"
   },
   "outputs": [],
   "source": [
    "one_seven.shape"
   ]
  },
  {
   "cell_type": "code",
   "execution_count": null,
   "metadata": {
    "_cell_guid": "39aeeef0-a9fd-4ed2-a4a4-aafc1d074779",
    "_uuid": "76d07aca4c96e14b7745ae8d098c5024731021c5"
   },
   "outputs": [],
   "source": [
    "one_seven = one_seven.repeat(4,axis=0)"
   ]
  },
  {
   "cell_type": "code",
   "execution_count": null,
   "metadata": {
    "_cell_guid": "f87e1bde-2ee1-494a-b967-60f78a25ea3b",
    "_uuid": "1fd22752d1bbc89e6e0c6513b297f5715f15f742"
   },
   "outputs": [],
   "source": [
    "s = vae.predict(one_seven)"
   ]
  },
  {
   "cell_type": "code",
   "execution_count": null,
   "metadata": {
    "_cell_guid": "f843288c-332b-40ac-a286-b1a0e5a630af",
    "_uuid": "2a001c55c3e044d44c93a9f6f898016f49ef7f8e"
   },
   "outputs": [],
   "source": [
    "s.shape"
   ]
  },
  {
   "cell_type": "code",
   "execution_count": null,
   "metadata": {
    "_cell_guid": "6f00c1ae-95ba-4d3d-be42-64b6211f3acf",
    "_uuid": "aa57b61e44a4f400723d291e54a6741f9fb47505"
   },
   "outputs": [],
   "source": [
    "s= s.reshape(4,28,28)"
   ]
  },
  {
   "cell_type": "code",
   "execution_count": null,
   "metadata": {
    "_cell_guid": "3feb2334-72c3-4214-876c-7aaa1df6c94b",
    "_uuid": "a6d5a95acb0fffc428abd318cf401c55f6cc59fb"
   },
   "outputs": [],
   "source": [
    "fig=plt.figure(figsize=(8, 8))\n",
    "columns = 2\n",
    "rows = 2\n",
    "for i in range(1, columns*rows +1):\n",
    "    img = s[i-1]\n",
    "    fig.add_subplot(rows, columns, i)\n",
    "    plt.imshow(img)\n",
    "plt.show()"
   ]
  },
  {
   "cell_type": "code",
   "execution_count": null,
   "metadata": {
    "_cell_guid": "86afa688-b66e-4ad4-94ec-1bf79c355862",
    "_uuid": "ef0f7e51cae005dc0e010330c3b9db7fcff556a7"
   },
   "outputs": [],
   "source": [
    "# build a model to project inputs on the latent space\n",
    "encoder = Model(x, z_mean)"
   ]
  },
  {
   "cell_type": "code",
   "execution_count": null,
   "metadata": {
    "_cell_guid": "bc72f7f2-2f03-448b-b461-c53a8942957d",
    "_uuid": "5765635730b54ab1a9ff8fc9b0581667a7c3ac39"
   },
   "outputs": [],
   "source": [
    "# display a 2D plot of the digit classes in the latent space\n",
    "x_test_encoded = encoder.predict(X_test_flat, batch_size=batch_size)\n",
    "plt.figure(figsize=(6, 6))\n",
    "plt.scatter(x_test_encoded[:, 0], x_test_encoded[:, 1], c=y_test)\n",
    "plt.colorbar()\n",
    "plt.show()"
   ]
  },
  {
   "cell_type": "code",
   "execution_count": null,
   "metadata": {
    "_cell_guid": "d0836515-016a-4f9c-b9cd-62abd0d8ca8f",
    "_uuid": "4d9f9686cf6c9f4b97ee3049bfffdc442cd26e71"
   },
   "outputs": [],
   "source": []
  }
 ],
 "metadata": {
  "kernelspec": {
   "display_name": "Python 3",
   "language": "python",
   "name": "python3"
  },
  "language_info": {
   "codemirror_mode": {
    "name": "ipython",
    "version": 3
   },
   "file_extension": ".py",
   "mimetype": "text/x-python",
   "name": "python",
   "nbconvert_exporter": "python",
   "pygments_lexer": "ipython3",
   "version": "3.7.3"
  }
 },
 "nbformat": 4,
 "nbformat_minor": 1
}
