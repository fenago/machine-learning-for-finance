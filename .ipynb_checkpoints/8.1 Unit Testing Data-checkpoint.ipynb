{
 "cells": [
  {
   "cell_type": "code",
   "execution_count": null,
   "metadata": {},
   "outputs": [],
   "source": [
    "import marbles.core\n",
    "from marbles.mixins import mixins\n",
    "\n",
    "import pandas as pd\n",
    "import numpy as np\n",
    "from datetime import datetime, timedelta\n",
    "\n",
    "class TimeSeriesTestCase(marbles.core.TestCase,mixins.MonotonicMixins):\n",
    "    def setUp(self):\n",
    "        self.df = pd.DataFrame({'dates':[datetime(2018,1,1),\n",
    "                                         datetime(2018,2,1),\n",
    "                                         datetime(2018,2,1)],\n",
    "                                'ireland_unemployment':[6.2,6.1,6.0]})\n",
    "        \n",
    "    def tearDown(self):\n",
    "        self.df = None\n",
    "        \n",
    "    def test_date_order(self):\n",
    "        \n",
    "        self.assertMonotonicIncreasing(sequence=self.df.dates,\n",
    "                                  note = 'Dates need to increase monotonically')\n",
    "        "
   ]
  },
  {
   "cell_type": "code",
   "execution_count": null,
   "metadata": {},
   "outputs": [],
   "source": [
    "if __name__ == '__main__':\n",
    "    marbles.core.main(argv=['first-arg-is-ignored'], exit=False)"
   ]
  },
  {
   "cell_type": "code",
   "execution_count": null,
   "metadata": {},
   "outputs": [],
   "source": []
  }
 ],
 "metadata": {
  "anaconda-cloud": {},
  "kernelspec": {
   "display_name": "Python 3",
   "language": "python",
   "name": "python3"
  },
  "language_info": {
   "codemirror_mode": {
    "name": "ipython",
    "version": 3
   },
   "file_extension": ".py",
   "mimetype": "text/x-python",
   "name": "python",
   "nbconvert_exporter": "python",
   "pygments_lexer": "ipython3",
   "version": "3.7.3"
  }
 },
 "nbformat": 4,
 "nbformat_minor": 2
}
