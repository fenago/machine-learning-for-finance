{
 "cells": [
  {
   "cell_type": "code",
   "execution_count": null,
   "metadata": {
    "_cell_guid": "951abd76-d331-4e62-9efc-6962707d0e3f",
    "_uuid": "ef0ba203819515c6a4dc9f10decd52cb7fd8c6c2"
   },
   "outputs": [],
   "source": [
    "# This Python 3 environment comes with many helpful analytics libraries installed\n",
    "# It is defined by the kaggle/python docker image: https://github.com/kaggle/docker-python\n",
    "# For example, here's several helpful packages to load in \n",
    "\n",
    "import numpy as np # linear algebra\n",
    "import pandas as pd # data processing, CSV file I/O (e.g. pd.read_csv)\n",
    "\n",
    "# Input data files are available in the \"./input/\" directory.\n",
    "# For example, running this (by clicking run or pressing Shift+Enter) will list the files in the input directory\n",
    "\n",
    "from subprocess import check_output\n",
    "print(check_output([\"ls\", \"./input\"]).decode(\"utf8\"))\n",
    "\n",
    "# Any results you write to the current directory are saved as output."
   ]
  },
  {
   "cell_type": "code",
   "execution_count": null,
   "metadata": {
    "_cell_guid": "e62dee04-0bdc-4136-8d3c-9efbbd6d30e4",
    "_uuid": "e8b261ed3bf92f4c7e26f6ef8c656381d7261e80"
   },
   "outputs": [],
   "source": [
    "import pandas as pd\n",
    "import numpy as np\n",
    "%matplotlib inline\n",
    "import matplotlib.pyplot as plt\n",
    "import matplotlib.lines as mlines\n",
    "from mpl_toolkits.mplot3d import Axes3D\n",
    "import seaborn as sns\n",
    "from sklearn.model_selection import train_test_split, learning_curve\n",
    "from sklearn.metrics import average_precision_score\n",
    "from xgboost.sklearn import XGBClassifier\n",
    "from xgboost import plot_importance, to_graphviz\n",
    "from tqdm import tqdm"
   ]
  },
  {
   "cell_type": "code",
   "execution_count": null,
   "metadata": {
    "_cell_guid": "507f9385-4132-4b15-a15b-ba386e5ce1d9",
    "_uuid": "74a1f29a66d01639561fdd2a9b6820db616e233c"
   },
   "outputs": [],
   "source": [
    "def plot_confusion_matrix(cm,\n",
    "                          target_names,\n",
    "                          title='Confusion matrix',\n",
    "                          cmap=None,\n",
    "                          normalize=True):\n",
    "    \"\"\"\n",
    "    given a sklearn confusion matrix (cm), make a nice plot\n",
    "\n",
    "    Arguments\n",
    "    ---------\n",
    "    cm:           confusion matrix from sklearn.metrics.confusion_matrix\n",
    "\n",
    "    target_names: given classification classes such as [0, 1, 2]\n",
    "                  the class names, for example: ['high', 'medium', 'low']\n",
    "\n",
    "    title:        the text to display at the top of the matrix\n",
    "\n",
    "    cmap:         the gradient of the values displayed from matplotlib.pyplot.cm\n",
    "                  see http://matplotlib.org/examples/color/colormaps_reference.html\n",
    "                  plt.get_cmap('jet') or plt.cm.Blues\n",
    "\n",
    "    normalize:    If False, plot the raw numbers\n",
    "                  If True, plot the proportions\n",
    "\n",
    "    Usage\n",
    "    -----\n",
    "    plot_confusion_matrix(cm           = cm,                  # confusion matrix created by\n",
    "                                                              # sklearn.metrics.confusion_matrix\n",
    "                          normalize    = True,                # show proportions\n",
    "                          target_names = y_labels_vals,       # list of names of the classes\n",
    "                          title        = best_estimator_name) # title of graph\n",
    "\n",
    "    Citiation\n",
    "    ---------\n",
    "    http://scikit-learn.org/stable/auto_examples/model_selection/plot_confusion_matrix.html\n",
    "\n",
    "    \"\"\"\n",
    "    import matplotlib.pyplot as plt\n",
    "    import numpy as np\n",
    "    import itertools\n",
    "\n",
    "    accuracy = np.trace(cm) / float(np.sum(cm))\n",
    "    misclass = 1 - accuracy\n",
    "\n",
    "    if cmap is None:\n",
    "        cmap = plt.get_cmap('Blues')\n",
    "\n",
    "    plt.figure(figsize=(8, 6))\n",
    "    plt.imshow(cm, interpolation='nearest', cmap=cmap)\n",
    "    plt.title(title)\n",
    "    plt.colorbar()\n",
    "\n",
    "    if target_names is not None:\n",
    "        tick_marks = np.arange(len(target_names))\n",
    "        plt.xticks(tick_marks, target_names, rotation=45)\n",
    "        plt.yticks(tick_marks, target_names)\n",
    "\n",
    "    if normalize:\n",
    "        cm = cm.astype('float') / cm.sum(axis=1)[:, np.newaxis]\n",
    "\n",
    "\n",
    "    thresh = cm.max() / 1.5 if normalize else cm.max() / 2\n",
    "    for i, j in itertools.product(range(cm.shape[0]), range(cm.shape[1])):\n",
    "        if normalize:\n",
    "            plt.text(j, i, \"{:0.4f}\".format(cm[i, j]),\n",
    "                     horizontalalignment=\"center\",\n",
    "                     color=\"white\" if cm[i, j] > thresh else \"black\")\n",
    "        else:\n",
    "            plt.text(j, i, \"{:,}\".format(cm[i, j]),\n",
    "                     horizontalalignment=\"center\",\n",
    "                     color=\"white\" if cm[i, j] > thresh else \"black\")\n",
    "\n",
    "\n",
    "    plt.tight_layout()\n",
    "    plt.ylabel('True label')\n",
    "    plt.xlabel('Predicted label\\naccuracy={:0.4f}; misclass={:0.4f}'.format(accuracy, misclass))\n",
    "    plt.savefig('confusion.png')\n",
    "    plt.show()"
   ]
  },
  {
   "cell_type": "code",
   "execution_count": null,
   "metadata": {
    "_cell_guid": "322444d0-bfee-44e0-9b1e-8a49050f5581",
    "_uuid": "459796f2ac540a92e84eecf7799a487e6bcee487"
   },
   "outputs": [],
   "source": [
    "df = pd.read_csv('./input/PS_20174392719_1491204439457_log.csv')\n",
    "df = df.rename(columns={'oldbalanceOrg':'oldBalanceOrig', 'newbalanceOrig':'newBalanceOrig', \\\n",
    "                        'oldbalanceDest':'oldBalanceDest', 'newbalanceDest':'newBalanceDest'})"
   ]
  },
  {
   "cell_type": "code",
   "execution_count": null,
   "metadata": {
    "_cell_guid": "d60d77f1-9b10-4e28-9791-91aff790e330",
    "_uuid": "2210606418c582a4f0ddf163b018f32bd0bcec15"
   },
   "outputs": [],
   "source": [
    "df.head()"
   ]
  },
  {
   "cell_type": "code",
   "execution_count": null,
   "metadata": {
    "_cell_guid": "d6b8416c-aed2-4995-9514-aa4120612ab2",
    "_uuid": "c555c4e4e0218d36f114718763bd574c4898d197"
   },
   "outputs": [],
   "source": [
    "df.loc[df.isFraud == 1].type.drop_duplicates().values"
   ]
  },
  {
   "cell_type": "code",
   "execution_count": null,
   "metadata": {
    "_cell_guid": "bf2306d5-b48d-441c-b217-478ede54f36d",
    "_uuid": "8b773d7747aa7fee6cf563ce2e11a4b636279314"
   },
   "outputs": [],
   "source": [
    "df = df[(df.type == 'TRANSFER') | (df.type == 'CASH_OUT')]"
   ]
  },
  {
   "cell_type": "code",
   "execution_count": null,
   "metadata": {
    "_cell_guid": "e72d88af-5953-41c2-9121-9ff3779ce3db",
    "_uuid": "01ad26ddbab8ad8694d57c20559616881731e9ed"
   },
   "outputs": [],
   "source": [
    "len(df)"
   ]
  },
  {
   "cell_type": "code",
   "execution_count": null,
   "metadata": {
    "_cell_guid": "4eb02425-627c-4fd7-9368-fa1139d6a9ba",
    "_uuid": "1738dde2daeba1f39f8e625e34f1a1b701ba412a"
   },
   "outputs": [],
   "source": [
    "df.loc[(df.isFraud == 1) & (df.type == 'TRANSFER')].amount.median()"
   ]
  },
  {
   "cell_type": "code",
   "execution_count": null,
   "metadata": {
    "_cell_guid": "41c86e2c-be69-4c65-bea1-0dc50baf785c",
    "_uuid": "b21b6572c7d465621c464466dfa74beb9b92cff5"
   },
   "outputs": [],
   "source": [
    "df.loc[(df.isFraud == 0) & (df.type == 'TRANSFER')].amount.median()"
   ]
  },
  {
   "cell_type": "code",
   "execution_count": null,
   "metadata": {
    "_cell_guid": "02d2d83a-508d-48ba-9c6d-52e104c7f9ae",
    "_uuid": "8b925d89ed3a57de62b217beeb8271bd658bf028"
   },
   "outputs": [],
   "source": [
    "df['Fraud_Heuristic'] = np.where(((df['type'] == 'TRANSFER') & \n",
    "                                  (df['amount'] > 200000)),1,0)"
   ]
  },
  {
   "cell_type": "code",
   "execution_count": null,
   "metadata": {
    "_cell_guid": "40c869bd-e7a7-46ed-be93-c830f91d67f3",
    "_uuid": "d0c38aec031ea0a7db6166b442f8459dfb17b1aa"
   },
   "outputs": [],
   "source": [
    "df['Fraud_Heuristic'].sum()"
   ]
  },
  {
   "cell_type": "code",
   "execution_count": null,
   "metadata": {
    "_cell_guid": "9c5cbc9f-fabc-4e13-bbe2-d746a8843870",
    "_uuid": "eac3355b75135db37e92b38f32cf31bd42807d6b"
   },
   "outputs": [],
   "source": [
    "from sklearn.metrics import f1_score"
   ]
  },
  {
   "cell_type": "code",
   "execution_count": null,
   "metadata": {
    "_cell_guid": "ef3fc933-ec5e-4d29-b591-e46b29427895",
    "_uuid": "29dd79d48db0a9a15cba1e004e85434536920d7a"
   },
   "outputs": [],
   "source": [
    "f1_score(y_pred=df['Fraud_Heuristic'],y_true=df['isFraud'])"
   ]
  },
  {
   "cell_type": "code",
   "execution_count": null,
   "metadata": {
    "_cell_guid": "2b65ae69-b0bf-46f1-8136-9a830cf4e925",
    "_uuid": "b8b81e8cf76e619f9764d2e2e90fee73e03911f5"
   },
   "outputs": [],
   "source": [
    "from sklearn.metrics import confusion_matrix"
   ]
  },
  {
   "cell_type": "code",
   "execution_count": null,
   "metadata": {
    "_cell_guid": "bbfcb1f4-947b-47fe-a4cf-66418054babf",
    "_uuid": "27d9d487195374de27f878ca8418816852e2ec0a"
   },
   "outputs": [],
   "source": [
    "cm = confusion_matrix(y_pred=df['Fraud_Heuristic'],y_true=df['isFraud'])"
   ]
  },
  {
   "cell_type": "code",
   "execution_count": null,
   "metadata": {
    "_cell_guid": "90f6de0d-1127-4f9c-a537-8eaab117f514",
    "_uuid": "2c1c67161bb26996050859c23e2479228459baa0"
   },
   "outputs": [],
   "source": [
    "plot_confusion_matrix(cm,['Genuine','Fraud'], normalize=False)"
   ]
  },
  {
   "cell_type": "code",
   "execution_count": null,
   "metadata": {
    "_cell_guid": "1edc03e0-9f12-4865-80dc-e306ba034cba",
    "_uuid": "4c624a6ce3b51651bb8af42ccf2f3337d4b4400a"
   },
   "outputs": [],
   "source": [
    "df.shape"
   ]
  },
  {
   "cell_type": "code",
   "execution_count": null,
   "metadata": {
    "_cell_guid": "2995d88e-9b19-44d2-8cba-070e631670a5",
    "_uuid": "5e0089ef984e7cc1a243d5e1bdb7fbdba7118ed9"
   },
   "outputs": [],
   "source": [
    "df['hour'] = df['step'] % 24"
   ]
  },
  {
   "cell_type": "code",
   "execution_count": null,
   "metadata": {
    "_cell_guid": "fa219d76-491e-4a06-87af-d2b88ff11b76",
    "_uuid": "7667ba25cfd6e3897d364280677730a019721088"
   },
   "outputs": [],
   "source": [
    "frauds = []\n",
    "genuine = []\n",
    "for i in range(24):\n",
    "    f = len(df[(df['hour'] == i) & (df['isFraud'] == 1)])\n",
    "    g = len(df[(df['hour'] == i) & (df['isFraud'] == 0)])\n",
    "    frauds.append(f)\n",
    "    genuine.append(g)"
   ]
  },
  {
   "cell_type": "code",
   "execution_count": null,
   "metadata": {
    "_cell_guid": "70bb126f-c580-4e91-86f2-d453b5d76e28",
    "_uuid": "15a9ac9db0f7eef6368b9908651d854831bd2ee6"
   },
   "outputs": [],
   "source": []
  },
  {
   "cell_type": "code",
   "execution_count": null,
   "metadata": {
    "_cell_guid": "83181d16-aa2e-4a84-b508-9af79d0c7ef7",
    "_uuid": "d0c2b8fa5df5a7bb73cc93baa03857dc92fc65bb"
   },
   "outputs": [],
   "source": [
    "sns.set_style(\"white\")\n",
    "\n",
    "fig, ax = plt.subplots(figsize=(10,6))\n",
    "gen = ax.plot(genuine/np.sum(genuine), label='Genuine')\n",
    "fr = ax.plot(frauds/np.sum(frauds),dashes=[5, 2], label='Fraud')\n",
    "#frgen = ax.plot(np.devide(frauds,genuine),dashes=[1, 1], label='Fraud vs Genuine')\n",
    "plt.xticks(np.arange(24))\n",
    "legend = ax.legend(loc='upper center', shadow=True)\n",
    "fig.savefig('time.png')"
   ]
  },
  {
   "cell_type": "code",
   "execution_count": null,
   "metadata": {
    "_cell_guid": "6d9d6bac-b87e-44f6-93e4-284006ce7e28",
    "_uuid": "255c70f81e70efb04d55173c4608cc274dd51169"
   },
   "outputs": [],
   "source": [
    "sns.set_style(\"white\")\n",
    "\n",
    "fig, ax = plt.subplots(figsize=(10,6))\n",
    "#gen = ax.plot(genuine/np.sum(genuine), label='Genuine')\n",
    "#fr = ax.plot(frauds/np.sum(frauds),dashes=[5, 2], label='Fraud')\n",
    "frgen = ax.plot(np.divide(frauds,np.add(genuine,frauds)), label='Share of fraud')\n",
    "plt.xticks(np.arange(24))\n",
    "legend = ax.legend(loc='upper center', shadow=True)\n",
    "fig.savefig('time_comp.png')"
   ]
  },
  {
   "cell_type": "code",
   "execution_count": null,
   "metadata": {
    "_cell_guid": "005948a1-71e8-43ea-a1c8-936c00d062af",
    "_uuid": "56f8b08a6399e018d41764e3a9a89efd562d1272"
   },
   "outputs": [],
   "source": [
    "dfFraudTransfer = df[(df.isFraud == 1) & (df.type == 'TRANSFER')]"
   ]
  },
  {
   "cell_type": "code",
   "execution_count": null,
   "metadata": {
    "_cell_guid": "7d7d87c4-d59b-4bd9-a1eb-bba40913b16e",
    "_uuid": "4bc316821f7d2e9b4b397d57e5e99a6a6bdc7055"
   },
   "outputs": [],
   "source": [
    "dfFraudCashOut = df[(df.isFraud == 1) & (df.type == 'CASH_OUT')]"
   ]
  },
  {
   "cell_type": "code",
   "execution_count": null,
   "metadata": {
    "_cell_guid": "089ace6e-714f-4ca7-a2c2-3480f1d9ebc0",
    "_uuid": "f639e94a4b1dd4bcd9f4a98456ab46f4acd61fae"
   },
   "outputs": [],
   "source": [
    "dfFraudTransfer.nameDest.isin(dfFraudCashOut.nameOrig).any()"
   ]
  },
  {
   "cell_type": "code",
   "execution_count": null,
   "metadata": {
    "_cell_guid": "a590b020-7457-4064-a61d-e512d6850a99",
    "_uuid": "d428fd42ecb27e3ecee4b307601e94bd2ba46c04"
   },
   "outputs": [],
   "source": [
    "dfNotFraud = df[(df.isFraud == 0)]"
   ]
  },
  {
   "cell_type": "code",
   "execution_count": null,
   "metadata": {
    "_cell_guid": "04e3c116-0915-427c-9ca3-b990c0c3521c",
    "_uuid": "f6ce4079e3d2a4e7590511397b01a01971c0ab65"
   },
   "outputs": [],
   "source": [
    "dfFraud = df[(df.isFraud == 1)]"
   ]
  },
  {
   "cell_type": "code",
   "execution_count": null,
   "metadata": {
    "_cell_guid": "0458bb71-a274-4ee4-8666-e9f9988fbf44",
    "_uuid": "9df88bb3f8867534b7f18448c61eddf0d285d532"
   },
   "outputs": [],
   "source": [
    "dfFraudTransfer.loc[dfFraudTransfer.nameDest.isin(\n",
    "    dfNotFraud.loc[dfNotFraud.type == 'CASH_OUT'].nameOrig.drop_duplicates())]"
   ]
  },
  {
   "cell_type": "code",
   "execution_count": null,
   "metadata": {
    "_cell_guid": "bbb9c8bc-7948-4b73-ba13-bf709f86f42b",
    "_uuid": "025b7fa927483c2dd15564f31a1183a984e19ef6"
   },
   "outputs": [],
   "source": [
    "len(dfFraud[(dfFraud.oldBalanceDest == 0) & (dfFraud.newBalanceDest == 0) & (dfFraud.amount)]) / (1.0 * len(dfFraud))"
   ]
  },
  {
   "cell_type": "code",
   "execution_count": null,
   "metadata": {
    "_cell_guid": "ae83f4ca-a69d-4b75-8156-8a720800e5ca",
    "_uuid": "7aa242515f5fc3e325f0b71e46cf5f62668ff2e5"
   },
   "outputs": [],
   "source": [
    "len(dfNotFraud[(dfNotFraud.oldBalanceDest == 0) & (dfNotFraud.newBalanceDest == 0) & (dfNotFraud.amount)]) / (1.0 * len(dfNotFraud))"
   ]
  },
  {
   "cell_type": "code",
   "execution_count": null,
   "metadata": {
    "_cell_guid": "3ebe8e5f-7b68-4d5a-bf00-24dd7ae8377e",
    "_uuid": "9d3ba781327ccd3accb99b7ee48266dfd836f997"
   },
   "outputs": [],
   "source": [
    "dfOdd = df[(df.oldBalanceDest == 0) & \n",
    "           (df.newBalanceDest == 0) & \n",
    "           (df.amount)]"
   ]
  },
  {
   "cell_type": "code",
   "execution_count": null,
   "metadata": {
    "_cell_guid": "e042c19c-9d13-4620-a06b-5254aa329018",
    "_uuid": "8dfc571f4f34c9853df73c31c41b836068fb7e84"
   },
   "outputs": [],
   "source": [
    "len(dfOdd[(dfOdd.isFraud == 1)]) / len(dfOdd)"
   ]
  },
  {
   "cell_type": "code",
   "execution_count": null,
   "metadata": {
    "_cell_guid": "2bab655e-20c1-4a0c-8a4f-5033f344e1cd",
    "_uuid": "21a6504216ac83792781291c4dd7fc3080820ece"
   },
   "outputs": [],
   "source": [
    "len(dfOdd[(dfOdd.oldBalanceOrig <= dfOdd.amount)]) / len(dfOdd)"
   ]
  },
  {
   "cell_type": "code",
   "execution_count": null,
   "metadata": {
    "_cell_guid": "9516d4cc-02e1-4639-96ed-3a8d39edf7b2",
    "_uuid": "ed92818f12f764643cbc673b64b8aea112bb02e3"
   },
   "outputs": [],
   "source": [
    "len(dfOdd[(dfOdd.oldBalanceOrig <= dfOdd.amount) & (dfOdd.isFraud == 1)]) / len(dfOdd[(dfOdd.isFraud == 1)])"
   ]
  },
  {
   "cell_type": "code",
   "execution_count": null,
   "metadata": {
    "_cell_guid": "b194d4b1-a08b-4a31-a96a-6c63587bfe32",
    "_uuid": "74fddda994f8cc23162fdbe2c1acdf3ecac22439"
   },
   "outputs": [],
   "source": [
    "dfOdd.columns"
   ]
  },
  {
   "cell_type": "code",
   "execution_count": null,
   "metadata": {
    "_cell_guid": "4863d8dc-7898-4c76-8466-fdf02acecd97",
    "_uuid": "6577199c45acee7d024d7ef684784c2ea2360287"
   },
   "outputs": [],
   "source": [
    "dfOdd.head(20)"
   ]
  },
  {
   "cell_type": "code",
   "execution_count": null,
   "metadata": {
    "_cell_guid": "641a0bb1-3c5d-4b61-8e6c-2e141c9e47c6",
    "_uuid": "498f706544e28e36527b3c0f5bf87fcc4cd57ffd"
   },
   "outputs": [],
   "source": [
    "df.head()"
   ]
  },
  {
   "cell_type": "code",
   "execution_count": null,
   "metadata": {
    "_cell_guid": "8a101e7c-5718-4771-b249-ad132736047c",
    "_uuid": "985c1701b5310b06af3efd8d79f166f39430e92a"
   },
   "outputs": [],
   "source": [
    "df['type'] = 'type_' + df['type'].astype(str)"
   ]
  },
  {
   "cell_type": "code",
   "execution_count": null,
   "metadata": {
    "_cell_guid": "75660ab4-72cf-41fc-81ec-eda3c22b88dc",
    "_uuid": "e3a1a9536b05cb59983294378b6cc6b9a77aef41"
   },
   "outputs": [],
   "source": [
    "# Get dummies\n",
    "dummies = pd.get_dummies(df['type'])\n",
    "\n",
    "# Add dummies to df\n",
    "df = pd.concat([df,dummies],axis=1)\n",
    "\n",
    "#remove original column\n",
    "del df['type']"
   ]
  },
  {
   "cell_type": "markdown",
   "metadata": {
    "_uuid": "e9ab536e56b65cf1666b50117215e8f6353c7b39"
   },
   "source": [
    "Predictive modeling with Keras"
   ]
  },
  {
   "cell_type": "code",
   "execution_count": null,
   "metadata": {
    "_uuid": "a0d4089e3e2f71a17d3a593b2e7844b37991f64c"
   },
   "outputs": [],
   "source": [
    "df = df.drop(['nameOrig','nameDest','Fraud_Heuristic'], axis= 1)"
   ]
  },
  {
   "cell_type": "code",
   "execution_count": null,
   "metadata": {
    "_uuid": "d1812b07d21bce9bd2c41457fc56477f212c8271"
   },
   "outputs": [],
   "source": [
    "df['isNight'] = np.where((2 <= df['hour']) & (df['hour'] <= 6), 1,0)"
   ]
  },
  {
   "cell_type": "code",
   "execution_count": null,
   "metadata": {
    "_uuid": "82eb362adb24ee29462d40ef129b32e5242c59cd"
   },
   "outputs": [],
   "source": [
    "df[df['isNight'] == 1].isFraud.mean()"
   ]
  },
  {
   "cell_type": "code",
   "execution_count": null,
   "metadata": {
    "_uuid": "cabfd1f8d9462ec5c91b43407e27f5a526d3c5a1"
   },
   "outputs": [],
   "source": [
    "df.head()"
   ]
  },
  {
   "cell_type": "code",
   "execution_count": null,
   "metadata": {
    "_uuid": "dabf1aa28dedf7ea4c7160cb2be23624761790f8"
   },
   "outputs": [],
   "source": [
    "df = df.drop(['step','hour'],axis=1)"
   ]
  },
  {
   "cell_type": "code",
   "execution_count": null,
   "metadata": {
    "_uuid": "00d02bafd6177e1aaf1cba1cb4221191343c28ad"
   },
   "outputs": [],
   "source": [
    "df.head()"
   ]
  },
  {
   "cell_type": "code",
   "execution_count": null,
   "metadata": {
    "_uuid": "4bd236281848b990d5e20e4fef939504ccb4332a"
   },
   "outputs": [],
   "source": [
    "df.columns.values"
   ]
  },
  {
   "cell_type": "code",
   "execution_count": null,
   "metadata": {
    "_uuid": "88394bc847527331a061052d11bf0c572e0d9a2f"
   },
   "outputs": [],
   "source": [
    "y_df = df['isFraud']\n",
    "x_df = df.drop('isFraud',axis=1)"
   ]
  },
  {
   "cell_type": "code",
   "execution_count": null,
   "metadata": {
    "_uuid": "a912b77dca0e4841f32e8c4d23f00cd0e7a41ad9"
   },
   "outputs": [],
   "source": [
    "y = y_df.values\n",
    "X = x_df.values"
   ]
  },
  {
   "cell_type": "code",
   "execution_count": null,
   "metadata": {
    "_uuid": "1ffdb9d9c166e29eb2119a1a3184819d5dab98c6"
   },
   "outputs": [],
   "source": [
    "y.shape"
   ]
  },
  {
   "cell_type": "code",
   "execution_count": null,
   "metadata": {
    "_uuid": "f34bfcf76aedcac89129586dc9b54c3ae5578892"
   },
   "outputs": [],
   "source": [
    "X.shape"
   ]
  },
  {
   "cell_type": "code",
   "execution_count": null,
   "metadata": {
    "_uuid": "001a56dcb34fe4e80cf01b2a648b0ce56eb3a115"
   },
   "outputs": [],
   "source": [
    "from sklearn.model_selection import train_test_split"
   ]
  },
  {
   "cell_type": "code",
   "execution_count": null,
   "metadata": {
    "_uuid": "0a03972c44d1c634392b4360232b69d6a8a57e37"
   },
   "outputs": [],
   "source": [
    "X_train, X_test, y_train, y_test = train_test_split(X, y, \n",
    "                                                    test_size=0.33, \n",
    "                                                    random_state=42)"
   ]
  },
  {
   "cell_type": "code",
   "execution_count": null,
   "metadata": {
    "_uuid": "b0b0dc266eedad2dd25a678dfd60f56ec4ee892c"
   },
   "outputs": [],
   "source": [
    "X_train, X_val, y_train, y_val = train_test_split(X_train, y_train, \n",
    "                                                    test_size=0.1, \n",
    "                                                    random_state=42)"
   ]
  },
  {
   "cell_type": "code",
   "execution_count": null,
   "metadata": {
    "_uuid": "5b01425e7928f762f0f425eb9033076ad448a862"
   },
   "outputs": [],
   "source": [
    "from imblearn.over_sampling import SMOTE, RandomOverSampler"
   ]
  },
  {
   "cell_type": "code",
   "execution_count": null,
   "metadata": {
    "_uuid": "cfd5dbebaa5f90d07b08db41544cf6e27540603d"
   },
   "outputs": [],
   "source": [
    "sm = SMOTE(random_state=42)\n",
    "X_train_res, y_train_res = sm.fit_sample(X_train, y_train)"
   ]
  },
  {
   "cell_type": "code",
   "execution_count": null,
   "metadata": {
    "_uuid": "771ae953bb8d23930d0b22d828776cc7275adbc9"
   },
   "outputs": [],
   "source": [
    "from keras.models import Sequential\n",
    "from keras.layers import Dense, Activation\n",
    "from keras.optimizers import SGD"
   ]
  },
  {
   "cell_type": "code",
   "execution_count": null,
   "metadata": {
    "_uuid": "7e5274fd3cd1c79807965a56a8d67d4b44561fbb"
   },
   "outputs": [],
   "source": [
    "# Log reg\n",
    "model = Sequential()\n",
    "model.add(Dense(1, input_dim=9))\n",
    "model.add(Activation('sigmoid'))"
   ]
  },
  {
   "cell_type": "code",
   "execution_count": null,
   "metadata": {
    "_uuid": "4c661160a358175fe64df65ea708b08be41ce219"
   },
   "outputs": [],
   "source": [
    "model.summary()"
   ]
  },
  {
   "cell_type": "code",
   "execution_count": null,
   "metadata": {
    "_uuid": "18746dedd24699fb3e86c4f3ab2490502682191d"
   },
   "outputs": [],
   "source": [
    "model.compile(loss='binary_crossentropy',\n",
    "              optimizer=SGD(lr=1e-5), \n",
    "              metrics=['acc'])"
   ]
  },
  {
   "cell_type": "code",
   "execution_count": null,
   "metadata": {
    "_uuid": "547cfa8aa90682194ac861c7547d46646ae1df02"
   },
   "outputs": [],
   "source": [
    "model.fit(X_train_res,y_train_res,\n",
    "          epochs=5, \n",
    "          batch_size=256, \n",
    "          validation_data=(X_val,y_val))"
   ]
  },
  {
   "cell_type": "code",
   "execution_count": null,
   "metadata": {
    "_uuid": "9de8b8153e076e49367f6d1d557054276c0bbb89"
   },
   "outputs": [],
   "source": [
    "y_pred = model.predict(X_test)"
   ]
  },
  {
   "cell_type": "code",
   "execution_count": null,
   "metadata": {
    "_uuid": "1121ea156e06a9201d0919e138cca1c3e94ea930"
   },
   "outputs": [],
   "source": [
    "y_pred[y_pred > 0.5] = 1\n",
    "y_pred[y_pred < 0.5] = 0"
   ]
  },
  {
   "cell_type": "code",
   "execution_count": null,
   "metadata": {
    "_uuid": "ea205eee82eff9530b84b622d28c55f9f2ae5256"
   },
   "outputs": [],
   "source": [
    "f1_score(y_pred=y_pred,y_true=y_test)"
   ]
  },
  {
   "cell_type": "code",
   "execution_count": null,
   "metadata": {
    "_uuid": "f4e1cdde001d61cf3defadcaac7f5db9a50a283e"
   },
   "outputs": [],
   "source": [
    "cm = confusion_matrix(y_pred=y_pred,y_true=y_test)"
   ]
  },
  {
   "cell_type": "code",
   "execution_count": null,
   "metadata": {
    "_uuid": "45083bc8a3faea14315c04148b56fdfefb6078b8",
    "scrolled": true
   },
   "outputs": [],
   "source": [
    "plot_confusion_matrix(cm,['Genuine','Fraud'], normalize=False)"
   ]
  },
  {
   "cell_type": "code",
   "execution_count": null,
   "metadata": {
    "_uuid": "771c2e9bc4ec2c505ef6e9699828b1ff58259d04"
   },
   "outputs": [],
   "source": [
    "model = Sequential()\n",
    "model.add(Dense(16,input_dim=9))\n",
    "model.add(Activation('tanh'))\n",
    "model.add(Dense(1))\n",
    "model.add(Activation('sigmoid'))"
   ]
  },
  {
   "cell_type": "code",
   "execution_count": null,
   "metadata": {
    "_uuid": "0755c0bc658033b6d0c03f8f2f28d3adb461502d"
   },
   "outputs": [],
   "source": [
    "model.compile(loss='binary_crossentropy',optimizer=SGD(lr=1e-4), metrics=['acc'])"
   ]
  },
  {
   "cell_type": "code",
   "execution_count": null,
   "metadata": {
    "_kg_hide-output": false,
    "_uuid": "308e7b1b789b8dd23325ae4c46740f7398d194d6"
   },
   "outputs": [],
   "source": [
    "model.fit(X_train_res,y_train_res,\n",
    "          epochs=5, batch_size=256, \n",
    "          validation_data=(X_val,y_val))"
   ]
  },
  {
   "cell_type": "code",
   "execution_count": null,
   "metadata": {
    "_uuid": "887caba9f865017f5ac407734e6f58bf4da5ea8d"
   },
   "outputs": [],
   "source": [
    "y_pred = model.predict(X_test)"
   ]
  },
  {
   "cell_type": "code",
   "execution_count": null,
   "metadata": {
    "_uuid": "ea6c7d80e31e05e7d9d47036dbd25e38ade97d8b"
   },
   "outputs": [],
   "source": [
    "y_pred[y_pred > 0.5] = 1\n",
    "y_pred[y_pred < 0.5] = 0"
   ]
  },
  {
   "cell_type": "code",
   "execution_count": null,
   "metadata": {
    "_uuid": "2ce7fa87b4c1c17dac71a8dd5af462a867843510"
   },
   "outputs": [],
   "source": [
    "f1_score(y_pred=y_pred,y_true=y_test)"
   ]
  },
  {
   "cell_type": "code",
   "execution_count": null,
   "metadata": {
    "_uuid": "d1d96cd97a454a2a8efe343ed88a7ecf56add966"
   },
   "outputs": [],
   "source": [
    "cm = confusion_matrix(y_pred=y_pred,y_true=y_test)"
   ]
  },
  {
   "cell_type": "code",
   "execution_count": null,
   "metadata": {
    "_uuid": "1f765516f1e1891f0cc258e992a3fcdd3fd83176"
   },
   "outputs": [],
   "source": [
    "plot_confusion_matrix(cm,['Genuine','Fraud'], normalize=False)"
   ]
  },
  {
   "cell_type": "markdown",
   "metadata": {
    "_uuid": "6265c59cc5208a14463ab3950695a2950e5a5c0a"
   },
   "source": [
    "# Tree based methods"
   ]
  },
  {
   "cell_type": "code",
   "execution_count": null,
   "metadata": {
    "_uuid": "cfb5795389e6b9088b706e64edaf2ba07fa29429"
   },
   "outputs": [],
   "source": [
    "from sklearn.tree import export_graphviz"
   ]
  },
  {
   "cell_type": "code",
   "execution_count": null,
   "metadata": {
    "_uuid": "d6a9e15f959757d0fb4d303a4e50d4f23454d47d"
   },
   "outputs": [],
   "source": [
    "from sklearn.tree import DecisionTreeClassifier\n",
    "dtree=DecisionTreeClassifier()\n",
    "dtree.fit(X_train,y_train)"
   ]
  },
  {
   "cell_type": "code",
   "execution_count": null,
   "metadata": {
    "_uuid": "1aa40623ae96c0f2d97167aebc22603ae22635f9"
   },
   "outputs": [],
   "source": [
    "from sklearn.externals.six import StringIO  \n",
    "from IPython.display import Image  \n",
    "from sklearn.tree import export_graphviz\n",
    "from subprocess import check_call\n",
    "from PIL import Image, ImageDraw, ImageFont\n",
    "from IPython.display import Image as PImage\n",
    "\n",
    "#import pydotplus\n",
    "dot_data = StringIO()\n",
    "'''export_graphviz(dtree, out_file=dot_data,  \n",
    "                filled=True, rounded=True,\n",
    "                special_characters=True)'''\n",
    "with open(\"tree1.dot\", 'w') as f:\n",
    "     f = export_graphviz(dtree,\n",
    "                              out_file=f,\n",
    "                              max_depth = 3,\n",
    "                              impurity = True,\n",
    "                              feature_names = list(df.drop(['isFraud'], axis=1)),\n",
    "                              class_names = ['Genuine', 'Fraud'],\n",
    "                              rounded = True,\n",
    "                              filled= True )\n",
    "        \n",
    "#Convert .dot to .png to allow display in web notebook\n",
    "check_call(['dot','-Tpng','tree1.dot','-o','tree1.png'])\n",
    "\n",
    "# Annotating chart with PIL\n",
    "img = Image.open(\"tree1.png\")\n",
    "draw = ImageDraw.Draw(img)\n",
    "font = ImageFont.truetype('/usr/share/fonts/truetype/liberation/LiberationSerif-Bold.ttf', 26)\n",
    "img.save('sample-out.png')\n",
    "PImage(\"sample-out.png\")\n"
   ]
  },
  {
   "cell_type": "code",
   "execution_count": null,
   "metadata": {
    "_uuid": "ce17157402a6b8e42b2b3aa41da5cc0bea556d8d"
   },
   "outputs": [],
   "source": [
    "from sklearn.ensemble import  RandomForestClassifier"
   ]
  },
  {
   "cell_type": "code",
   "execution_count": null,
   "metadata": {
    "_uuid": "4f0ec5f0f1f325328d333378f7efb90df0861791"
   },
   "outputs": [],
   "source": [
    "rf = RandomForestClassifier(n_estimators=10,n_jobs=-1)\n",
    "rf.fit(X_train,y_train)"
   ]
  },
  {
   "cell_type": "code",
   "execution_count": null,
   "metadata": {
    "_uuid": "c0e0b79a5b298359594f09aec6816b6a2ba3c9bc"
   },
   "outputs": [],
   "source": [
    "y_pred = rf.predict(X_test)"
   ]
  },
  {
   "cell_type": "code",
   "execution_count": null,
   "metadata": {
    "_uuid": "67a1f518963b16bad41d0a43263c9e938ec8d72c"
   },
   "outputs": [],
   "source": [
    "f1_score(y_pred=y_pred,y_true=y_test)"
   ]
  },
  {
   "cell_type": "code",
   "execution_count": null,
   "metadata": {
    "_uuid": "7089b4c6b92c4b50bfacb94f49c881d28d874086"
   },
   "outputs": [],
   "source": [
    "cm = confusion_matrix(y_pred=y_pred,y_true=y_test)\n",
    "plot_confusion_matrix(cm,['Genuine','Fraud'], normalize=False)"
   ]
  },
  {
   "cell_type": "code",
   "execution_count": null,
   "metadata": {
    "_uuid": "6d646200c6125f1b586e50ecec5a775cbd44ac90"
   },
   "outputs": [],
   "source": [
    "import xgboost as xgb"
   ]
  },
  {
   "cell_type": "code",
   "execution_count": null,
   "metadata": {
    "_uuid": "540a36d96ad53d76a501883a4d2d115dcc9a1e42"
   },
   "outputs": [],
   "source": [
    "booster = xgb.XGBClassifier(n_jobs=-1)\n",
    "booster = booster.fit(X_train,y_train)"
   ]
  },
  {
   "cell_type": "code",
   "execution_count": null,
   "metadata": {
    "_uuid": "d2204961e8909f5b37cf14f6b80f42b9ca830981"
   },
   "outputs": [],
   "source": [
    "y_pred = booster.predict(X_test)"
   ]
  },
  {
   "cell_type": "code",
   "execution_count": null,
   "metadata": {
    "_uuid": "2537def462363071b1fa7ba7ab95115572617a52"
   },
   "outputs": [],
   "source": [
    "f1_score(y_pred=y_pred,y_true=y_test)"
   ]
  },
  {
   "cell_type": "code",
   "execution_count": null,
   "metadata": {
    "_uuid": "77bf2d6c02a829aca99b5207e23e7a0d11d9c2fd"
   },
   "outputs": [],
   "source": [
    "cm = confusion_matrix(y_pred=y_pred,y_true=y_test)\n",
    "plot_confusion_matrix(cm,['Genuine','Fraud'], normalize=False)"
   ]
  },
  {
   "cell_type": "markdown",
   "metadata": {
    "_cell_guid": "10629666-b25c-42dd-ac1f-414b973ef24e",
    "_uuid": "7294c2ceddfc6950e899ad180d730736a9273d87",
    "collapsed": true
   },
   "source": [
    "# Entity embeddings"
   ]
  },
  {
   "cell_type": "code",
   "execution_count": null,
   "metadata": {
    "_cell_guid": "fe3b6b89-f611-48a6-9a32-b5462849ca39",
    "_uuid": "d9077d24f859ae1302496d8acc5f7cb08ec4794b"
   },
   "outputs": [],
   "source": [
    "# Reload data\n",
    "df = pd.read_csv('./input/PS_20174392719_1491204439457_log.csv')\n",
    "df = df.rename(columns={'oldbalanceOrg':'oldBalanceOrig', 'newbalanceOrig':'newBalanceOrig', \\\n",
    "                        'oldbalanceDest':'oldBalanceDest', 'newbalanceDest':'newBalanceDest'})"
   ]
  },
  {
   "cell_type": "code",
   "execution_count": null,
   "metadata": {
    "_cell_guid": "76f7394d-55a7-4925-bc6e-61935c71d9e3",
    "_uuid": "572c25cad9af19435385227009369e530e645a8b"
   },
   "outputs": [],
   "source": [
    "df.head()"
   ]
  },
  {
   "cell_type": "code",
   "execution_count": null,
   "metadata": {
    "_cell_guid": "e0da3e11-3b63-4d28-b57f-05b836a42dda",
    "_uuid": "cf4ead61784891962c4f5ee201fa7d363a380f7c"
   },
   "outputs": [],
   "source": [
    "df = df.drop(['nameDest','nameOrig','step'],axis=1)"
   ]
  },
  {
   "cell_type": "code",
   "execution_count": null,
   "metadata": {
    "_cell_guid": "b704f862-729e-4229-86cd-73afc1f9f0e2",
    "_uuid": "c8e3da182aae6c13cbe24736050c115910119cb1"
   },
   "outputs": [],
   "source": [
    "df['type'].unique()"
   ]
  },
  {
   "cell_type": "code",
   "execution_count": null,
   "metadata": {
    "_cell_guid": "608a5db9-37af-48cd-a8dd-114377c5461f",
    "_uuid": "7cc3e34985255ba699bf797719820400f4f28a6a"
   },
   "outputs": [],
   "source": [
    "map_dict = {}\n",
    "for token, value in enumerate(df['type'].unique()):\n",
    "    map_dict[value] = token   "
   ]
  },
  {
   "cell_type": "code",
   "execution_count": null,
   "metadata": {
    "_cell_guid": "2c423985-6322-430d-bed0-ddbf8dd35e78",
    "_uuid": "76e26412ea3642e6fe8616802d57adf70cf5d3c2"
   },
   "outputs": [],
   "source": [
    "map_dict"
   ]
  },
  {
   "cell_type": "code",
   "execution_count": null,
   "metadata": {
    "_cell_guid": "9712cf3f-2479-4acf-a79b-3d79a6a73c84",
    "_uuid": "f8dbb529c849539b4df1750589576b32185ae0d5"
   },
   "outputs": [],
   "source": [
    "df[\"type\"].replace(map_dict, inplace=True)"
   ]
  },
  {
   "cell_type": "code",
   "execution_count": null,
   "metadata": {
    "_cell_guid": "fd5a8816-e7a4-400b-bb4d-9d096b2ec4dd",
    "_uuid": "2a7d5673047ef26d84a16a14994a79c6f6037707"
   },
   "outputs": [],
   "source": [
    "df.head()"
   ]
  },
  {
   "cell_type": "code",
   "execution_count": null,
   "metadata": {
    "_cell_guid": "a09a767a-db96-4610-af01-d65f0af46e47",
    "_uuid": "87ff32cc2e7f25c06abad3d1155875d373db6dfa"
   },
   "outputs": [],
   "source": [
    "other_cols = [c for c in df.columns if ((c != 'type') and (c != 'isFraud'))]"
   ]
  },
  {
   "cell_type": "code",
   "execution_count": null,
   "metadata": {
    "_cell_guid": "34677eca-6ffe-4a21-a3e1-568631a936ea",
    "_uuid": "4e23aa260b8e63ed567dc269ec49dfe945711583"
   },
   "outputs": [],
   "source": [
    "other_cols"
   ]
  },
  {
   "cell_type": "code",
   "execution_count": null,
   "metadata": {
    "_cell_guid": "ebf058a4-8f18-4db4-b2cd-49f37d611c00",
    "_uuid": "f026242afda2d3c2760f260020432cbb11a0e3ca"
   },
   "outputs": [],
   "source": [
    "from keras.models import Model\n",
    "from keras.layers import Embedding, Merge, Dense, Activation, Reshape, Input, Concatenate"
   ]
  },
  {
   "cell_type": "code",
   "execution_count": null,
   "metadata": {
    "_cell_guid": "22faf983-39a0-4479-bf25-fd7886afcfe5",
    "_uuid": "e1a441c58b57a2c4e18ec16e9c14ba520e47a023"
   },
   "outputs": [],
   "source": [
    "num_types = len(df['type'].unique())\n",
    "type_embedding_dim = 3"
   ]
  },
  {
   "cell_type": "code",
   "execution_count": null,
   "metadata": {
    "_cell_guid": "79e98983-4d24-479e-83c7-a086be3b2b24",
    "_uuid": "0051a37fb914175957193d471cebff6809923b92"
   },
   "outputs": [],
   "source": [
    "inputs = []\n",
    "outputs = []"
   ]
  },
  {
   "cell_type": "code",
   "execution_count": null,
   "metadata": {
    "_cell_guid": "edee8cb9-9649-4dda-8f9f-6947e970bb26",
    "_uuid": "3d5a4e76d58958186be825464444ae273bfd690e"
   },
   "outputs": [],
   "source": [
    "type_in = Input(shape=(1,))\n",
    "type_embedding = Embedding(num_types,type_embedding_dim,input_length=1)(type_in)\n",
    "type_out = Reshape(target_shape=(type_embedding_dim,))(type_embedding)\n",
    "\n",
    "type_model = Model(type_in,type_out)\n",
    "\n",
    "inputs.append(type_in)\n",
    "outputs.append(type_out)"
   ]
  },
  {
   "cell_type": "code",
   "execution_count": null,
   "metadata": {
    "_cell_guid": "5e5aa623-c830-47ea-a473-e1d8df3a7c68",
    "_uuid": "6e606846e3501414b222b398a0f7cb81a42f0e00"
   },
   "outputs": [],
   "source": [
    "num_rest = len(other_cols)"
   ]
  },
  {
   "cell_type": "code",
   "execution_count": null,
   "metadata": {
    "_cell_guid": "85340eb9-4548-4a7f-a331-f74f1b14dc55",
    "_uuid": "fde7532f3287c0ce78cb2223d77deaa882cf688e"
   },
   "outputs": [],
   "source": [
    "rest_in = Input(shape = (num_rest,))\n",
    "rest_out = Dense(16)(rest_in)\n",
    "\n",
    "rest_model = Model(rest_in,rest_out)\n",
    "\n",
    "inputs.append(rest_in)\n",
    "outputs.append(rest_out)"
   ]
  },
  {
   "cell_type": "code",
   "execution_count": null,
   "metadata": {
    "_cell_guid": "a8115075-a1a5-4cd8-b375-8ce5ea0aa07b",
    "_uuid": "cc7f4316380c8bc25a08a99e49fb36a32e996259"
   },
   "outputs": [],
   "source": [
    "concatenated = Concatenate()(outputs)"
   ]
  },
  {
   "cell_type": "code",
   "execution_count": null,
   "metadata": {
    "_cell_guid": "0e894cba-208a-46dc-8618-0abe0563a45a",
    "_uuid": "a05dd39222c1e711132c3ef3a433d712a790315a"
   },
   "outputs": [],
   "source": [
    "x = Dense(16)(concatenated)\n",
    "x = Activation('sigmoid')(x)\n",
    "x = Dense(1)(concatenated)\n",
    "model_out = Activation('sigmoid')(x)"
   ]
  },
  {
   "cell_type": "code",
   "execution_count": null,
   "metadata": {
    "_cell_guid": "a35e9953-848a-4ab9-a160-6e8e032f7963",
    "_uuid": "7e9dab3301b76be0de89f8d9e97a7f9568660c63"
   },
   "outputs": [],
   "source": [
    "merged_model = Model(inputs, model_out)\n",
    "merged_model.compile(loss='binary_crossentropy', \n",
    "                     optimizer='adam', \n",
    "                     metrics=['accuracy'])"
   ]
  },
  {
   "cell_type": "code",
   "execution_count": null,
   "metadata": {
    "_cell_guid": "aa9b6a4c-a33c-489b-a03c-ea7ea50f576f",
    "_uuid": "40fe68b68666ad867614c7bc34141b30e2aa2490"
   },
   "outputs": [],
   "source": [
    "types = df['type']"
   ]
  },
  {
   "cell_type": "code",
   "execution_count": null,
   "metadata": {
    "_cell_guid": "77e53195-24c1-4ccb-af92-19a85148e4c1",
    "_uuid": "ed0de5bdfed505ac7850b72b93dabc77d6ac3753"
   },
   "outputs": [],
   "source": [
    "rest = df[other_cols]"
   ]
  },
  {
   "cell_type": "code",
   "execution_count": null,
   "metadata": {
    "_cell_guid": "aa1efd8d-96b0-43a2-84b9-f45e1b376d47",
    "_uuid": "bab6ad0680df5fede7ec7ad1c93496f3736a3466"
   },
   "outputs": [],
   "source": [
    "target = df['isFraud']"
   ]
  },
  {
   "cell_type": "code",
   "execution_count": null,
   "metadata": {
    "_cell_guid": "2784f1f5-1c9e-4632-b2f9-5038a3424443",
    "_uuid": "24c09ca74688aba0abbadd39277fec5d6615cab8"
   },
   "outputs": [],
   "source": [
    "history = merged_model.fit([types.values,rest.values],target.values, \n",
    "                           epochs = 1, batch_size = 128)"
   ]
  },
  {
   "cell_type": "code",
   "execution_count": null,
   "metadata": {
    "_cell_guid": "41a4c40f-7478-4961-afbb-0c44976d8284",
    "_uuid": "7450dc3a5e072776ad9ff26775da48789f59a5c3"
   },
   "outputs": [],
   "source": [
    "merged_model.summary()"
   ]
  },
  {
   "cell_type": "code",
   "execution_count": null,
   "metadata": {
    "_cell_guid": "7a574a32-5170-49bf-8cb5-85572aa5ae6d",
    "_uuid": "2803ca61422d5dea81edf44f996090d182cfa6fe"
   },
   "outputs": [],
   "source": []
  }
 ],
 "metadata": {
  "kernelspec": {
   "display_name": "Python 3",
   "language": "python",
   "name": "python3"
  },
  "language_info": {
   "codemirror_mode": {
    "name": "ipython",
    "version": 3
   },
   "file_extension": ".py",
   "mimetype": "text/x-python",
   "name": "python",
   "nbconvert_exporter": "python",
   "pygments_lexer": "ipython3",
   "version": "3.7.3"
  }
 },
 "nbformat": 4,
 "nbformat_minor": 1
}
